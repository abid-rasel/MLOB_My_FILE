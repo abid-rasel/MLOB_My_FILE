{
 "cells": [
  {
   "cell_type": "code",
   "execution_count": 5,
   "id": "b1b68f09",
   "metadata": {},
   "outputs": [
    {
     "name": "stdout",
     "output_type": "stream",
     "text": [
      "2.3.3\n"
     ]
    }
   ],
   "source": [
    "import numpy as np\n",
    "print(np.__version__)"
   ]
  },
  {
   "cell_type": "code",
   "execution_count": 3,
   "id": "4f3740c5",
   "metadata": {},
   "outputs": [
    {
     "name": "stdout",
     "output_type": "stream",
     "text": [
      "[2 3 4 5 6]\n",
      "140\n"
     ]
    }
   ],
   "source": [
    "import sys\n",
    "list1=[2,3,4,5,6]\n",
    "numpy_array=np.array(list1,dtype=np.int64)\n",
    "print(numpy_array)\n",
    "print(sys.getsizeof(1)*len(list1))"
   ]
  },
  {
   "cell_type": "code",
   "execution_count": null,
   "id": "26119bd9",
   "metadata": {},
   "outputs": [],
   "source": []
  },
  {
   "cell_type": "code",
   "execution_count": 11,
   "id": "23ccc104",
   "metadata": {},
   "outputs": [
    {
     "name": "stdout",
     "output_type": "stream",
     "text": [
      "[2 3 4 5 6]\n"
     ]
    }
   ],
   "source": [
    "print(np.array([2,3,4,5,6],dtype=np.int8))"
   ]
  },
  {
   "cell_type": "code",
   "execution_count": 27,
   "id": "ffc53fbc",
   "metadata": {},
   "outputs": [
    {
     "data": {
      "text/plain": [
       "40"
      ]
     },
     "execution_count": 27,
     "metadata": {},
     "output_type": "execute_result"
    }
   ],
   "source": [
    "numpy_array.itemsize*numpy_array.size"
   ]
  },
  {
   "cell_type": "code",
   "execution_count": 12,
   "id": "0c3b4f3a",
   "metadata": {},
   "outputs": [
    {
     "name": "stdout",
     "output_type": "stream",
     "text": [
      "[ 6  8 10 12 14]\n",
      "[ 5 12 21 32 45]\n",
      "[5.         3.         2.33333333 2.         1.8       ]\n",
      "[      1      64    2187   65536 1953125]\n",
      "[1.         1.41421356 1.73205081 2.         2.23606798]\n"
     ]
    }
   ],
   "source": [
    "\n",
    "a=np.array([1,2,3,4,5])\n",
    "b=np.array([5,6,7,8,9])\n",
    "print(a+b)\n",
    "print(a*b)\n",
    "print(b/a)\n",
    "print(pow(a,b))\n",
    "print(np.sqrt(a))"
   ]
  },
  {
   "cell_type": "code",
   "execution_count": 14,
   "id": "add7b4e1",
   "metadata": {},
   "outputs": [
    {
     "name": "stdout",
     "output_type": "stream",
     "text": [
      "3.0\n",
      "3.0\n",
      "1.4142135623730951\n"
     ]
    }
   ],
   "source": [
    "print(np.mean(a))\n",
    "print(np.median(a))\n",
    "print(np.std(a))"
   ]
  },
  {
   "cell_type": "code",
   "execution_count": 18,
   "id": "95b7562a",
   "metadata": {},
   "outputs": [
    {
     "name": "stdout",
     "output_type": "stream",
     "text": [
      "[[[1. 1. 1.]\n",
      "  [1. 1. 1.]]\n",
      "\n",
      " [[1. 1. 1.]\n",
      "  [1. 1. 1.]]]\n"
     ]
    }
   ],
   "source": [
    "print(np.ones((2,2,3)))"
   ]
  },
  {
   "cell_type": "code",
   "execution_count": 19,
   "id": "c58cb59e",
   "metadata": {},
   "outputs": [
    {
     "name": "stdout",
     "output_type": "stream",
     "text": [
      "[[0. 0. 0.]\n",
      " [0. 0. 0.]\n",
      " [0. 0. 0.]]\n"
     ]
    }
   ],
   "source": [
    "print(np.zeros((3,3)))"
   ]
  },
  {
   "cell_type": "code",
   "execution_count": 23,
   "id": "6c04b5c1",
   "metadata": {},
   "outputs": [
    {
     "data": {
      "text/plain": [
       "array([[1., 1.],\n",
       "       [1., 1.],\n",
       "       [1., 1.]])"
      ]
     },
     "execution_count": 23,
     "metadata": {},
     "output_type": "execute_result"
    }
   ],
   "source": [
    "c=np.ones((2,3))\n",
    "c.reshape(3,2)"
   ]
  },
  {
   "cell_type": "code",
   "execution_count": 31,
   "id": "56d5ad52",
   "metadata": {},
   "outputs": [
    {
     "name": "stdout",
     "output_type": "stream",
     "text": [
      "[ 1  3  5  7  9 11]\n",
      "[[ 1  3  5]\n",
      " [ 7  9 11]]\n"
     ]
    }
   ],
   "source": [
    "d=np.arange(1,12,2)\n",
    "print(d)\n",
    "f=d.reshape(2,3)\n",
    "print(f)"
   ]
  },
  {
   "cell_type": "code",
   "execution_count": 37,
   "id": "c2f4ffe4",
   "metadata": {},
   "outputs": [
    {
     "data": {
      "text/plain": [
       "array([ 1,  3,  5,  7,  9, 11])"
      ]
     },
     "execution_count": 37,
     "metadata": {},
     "output_type": "execute_result"
    }
   ],
   "source": [
    "f.ravel()"
   ]
  },
  {
   "cell_type": "code",
   "execution_count": 8,
   "id": "6bf76149",
   "metadata": {},
   "outputs": [
    {
     "name": "stdout",
     "output_type": "stream",
     "text": [
      "[30 40 50]\n",
      "[10 20 30 40 50]\n"
     ]
    }
   ],
   "source": [
    "arr = np.array([10, 20, 30, 40, 50])\n",
    "print(arr[2:5])\n",
    "print(np.sort(arr))"
   ]
  },
  {
   "cell_type": "code",
   "execution_count": 50,
   "id": "925bff6a",
   "metadata": {},
   "outputs": [
    {
     "name": "stdout",
     "output_type": "stream",
     "text": [
      "[[19 22]\n",
      " [43 50]]\n",
      "[[1 3]\n",
      " [2 4]]\n",
      "[[5 7]\n",
      " [6 8]]\n",
      "[[23 34]\n",
      " [31 46]]\n",
      "(2, 2)\n"
     ]
    }
   ],
   "source": [
    "A = np.array([[1,2],[3,4]])\n",
    "B = np.array([[5,6],[7,8]])\n",
    "print(np.dot(A,B))\n",
    "print(A.T)\n",
    "print(B.T)\n",
    "print(np.dot(B,A))\n",
    "print(A.shape)"
   ]
  },
  {
   "cell_type": "code",
   "execution_count": 49,
   "id": "ba0f1013",
   "metadata": {},
   "outputs": [
    {
     "name": "stdout",
     "output_type": "stream",
     "text": [
      "[[0.63804768 0.73626335 0.10193846]\n",
      " [0.97164257 0.84156072 0.42613161]]\n",
      "[[9 5]\n",
      " [9 6]\n",
      " [3 7]]\n"
     ]
    }
   ],
   "source": [
    "a=np.random.rand(2,3)\n",
    "print(a)\n",
    "b=np.random.randint(1,10,(3,2))\n",
    "print(b)"
   ]
  },
  {
   "cell_type": "code",
   "execution_count": 54,
   "id": "a51a129a",
   "metadata": {},
   "outputs": [
    {
     "name": "stdout",
     "output_type": "stream",
     "text": [
      "[[ 0  1  2  3  4  5  6  7  8  9]\n",
      " [10 11 12 13 14 15 16 17 18 19]\n",
      " [20 21 22 23 24 25 26 27 28 29]\n",
      " [30 31 32 33 34 35 36 37 38 39]\n",
      " [40 41 42 43 44 45 46 47 48 49]\n",
      " [50 51 52 53 54 55 56 57 58 59]\n",
      " [60 61 62 63 64 65 66 67 68 69]\n",
      " [70 71 72 73 74 75 76 77 78 79]\n",
      " [80 81 82 83 84 85 86 87 88 89]\n",
      " [90 91 92 93 94 95 96 97 98 99]]\n",
      "[[33 34 35 36 37 38 39]\n",
      " [43 44 45 46 47 48 49]\n",
      " [53 54 55 56 57 58 59]\n",
      " [63 64 65 66 67 68 69]\n",
      " [73 74 75 76 77 78 79]\n",
      " [83 84 85 86 87 88 89]\n",
      " [93 94 95 96 97 98 99]]\n"
     ]
    }
   ],
   "source": [
    "a=np.arange(0,100)\n",
    "b=a.reshape(10,10)\n",
    "print(b)\n",
    "print(b[3:,3:])"
   ]
  },
  {
   "cell_type": "code",
   "execution_count": null,
   "id": "43847e48",
   "metadata": {},
   "outputs": [
    {
     "name": "stdout",
     "output_type": "stream",
     "text": [
      "[1 2 3 4 5]\n",
      "[1, 2, 3, 4, 5]\n"
     ]
    }
   ],
   "source": [
    "list1=[1,2,3,4,5]\n",
    "list2=[1,2,3,4,5]\n",
    "np_arr=np.array(list1,dtype=np.int8)\n",
    "print(np_arr)\n",
    "print(list(list2))"
   ]
  },
  {
   "cell_type": "code",
   "execution_count": 72,
   "id": "3ccb19a0",
   "metadata": {},
   "outputs": [],
   "source": [
    "import time\n",
    "size=10000000\n",
    "st_time=time.time()\n",
    "py_list=list(range(size))\n",
    "py_result=[x*2 for x in py_list]\n",
    "listime=time.time()-st_time"
   ]
  },
  {
   "cell_type": "code",
   "execution_count": 73,
   "id": "e31e236c",
   "metadata": {},
   "outputs": [],
   "source": [
    "import time\n",
    "start_time=time.time()\n",
    "arr_list=np.arange(size)\n",
    "arr_result=arr_list*2\n",
    "np_time=time.time()-start_time\n"
   ]
  },
  {
   "cell_type": "code",
   "execution_count": 74,
   "id": "fa37143a",
   "metadata": {},
   "outputs": [
    {
     "name": "stdout",
     "output_type": "stream",
     "text": [
      "list time: 1.1114\n",
      "np time 0.0429\n",
      "25.913194540956724\n"
     ]
    }
   ],
   "source": [
    "print(f\"list time: {listime:.4f}\")\n",
    "print(f\"np time {np_time:.4f}\")\n",
    "print(f\"{listime/np_time}\")"
   ]
  },
  {
   "cell_type": "markdown",
   "id": "2ee4493e",
   "metadata": {},
   "source": [
    "# Pandas"
   ]
  },
  {
   "cell_type": "code",
   "execution_count": 6,
   "id": "d8e276c6",
   "metadata": {},
   "outputs": [
    {
     "name": "stdout",
     "output_type": "stream",
     "text": [
      "2.3.3\n"
     ]
    }
   ],
   "source": [
    "import pandas as pd\n",
    "print(pd.__version__)"
   ]
  },
  {
   "cell_type": "code",
   "execution_count": 33,
   "id": "bf7456a5",
   "metadata": {},
   "outputs": [
    {
     "name": "stdout",
     "output_type": "stream",
     "text": [
      "0    10\n",
      "1     2\n",
      "2     3\n",
      "3     4\n",
      "4     5\n",
      "dtype: int64\n"
     ]
    }
   ],
   "source": [
    "a=[10,2,3,4,5]\n",
    "b=[\"a\",\"b\",\"c\",\"d\",\"e\"]\n",
    "series=pd.Series(a)\n",
    "print(series)"
   ]
  },
  {
   "cell_type": "code",
   "execution_count": 31,
   "id": "123aeb34",
   "metadata": {},
   "outputs": [
    {
     "name": "stdout",
     "output_type": "stream",
     "text": [
      "<class 'pandas.core.series.Series'>\n",
      "RangeIndex: 5 entries, 0 to 4\n",
      "Series name: None\n",
      "Non-Null Count  Dtype\n",
      "--------------  -----\n",
      "5 non-null      int64\n",
      "dtypes: int64(1)\n",
      "memory usage: 172.0 bytes\n"
     ]
    },
    {
     "data": {
      "text/plain": [
       "dtype('int64')"
      ]
     },
     "execution_count": 31,
     "metadata": {},
     "output_type": "execute_result"
    }
   ],
   "source": [
    "series.info()\n",
    "series.value_counts()\n",
    "series.sort_values()\n",
    "series.values\n",
    "series.index\n",
    "series.dtype\n"
   ]
  },
  {
   "cell_type": "code",
   "execution_count": 44,
   "id": "f69d0f22",
   "metadata": {},
   "outputs": [
    {
     "name": "stdout",
     "output_type": "stream",
     "text": [
      "a    10\n",
      "b     2\n",
      "c     3\n",
      "d     4\n",
      "e     5\n",
      "dtype: int64\n"
     ]
    },
    {
     "data": {
      "text/plain": [
       "np.int64(5)"
      ]
     },
     "execution_count": 44,
     "metadata": {},
     "output_type": "execute_result"
    }
   ],
   "source": [
    "series=pd.Series(a,index=b)\n",
    "print(series)\n",
    "series.iloc[1]\n",
    "series.loc[\"e\"]\n"
   ]
  },
  {
   "cell_type": "code",
   "execution_count": 53,
   "id": "e099c6e0",
   "metadata": {},
   "outputs": [
    {
     "name": "stdout",
     "output_type": "stream",
     "text": [
      "0     3\n",
      "1     5\n",
      "2     8\n",
      "3    10\n",
      "dtype: int64\n",
      "0     2\n",
      "1     6\n",
      "2    15\n",
      "3    24\n",
      "dtype: int64\n",
      "0    2.000000\n",
      "1    1.500000\n",
      "2    1.666667\n",
      "3    1.500000\n",
      "dtype: float64\n",
      "0       1\n",
      "1       8\n",
      "2     243\n",
      "3    4096\n",
      "dtype: int64\n",
      "0    11\n",
      "1    12\n",
      "2    13\n",
      "3    14\n",
      "dtype: int64\n"
     ]
    }
   ],
   "source": [
    "from math import sqrt\n",
    "a=pd.Series([1,2,3,4])\n",
    "b=pd.Series([2,3,5,6])\n",
    "print(a+b)\n",
    "print(a*b)\n",
    "print(b/a)\n",
    "print(pow(a,b))\n",
    "print(a+10)"
   ]
  },
  {
   "cell_type": "code",
   "execution_count": 60,
   "id": "6b392961",
   "metadata": {},
   "outputs": [
    {
     "data": {
      "text/plain": [
       "0     1\n",
       "1     4\n",
       "2     9\n",
       "3    16\n",
       "4    25\n",
       "5    36\n",
       "dtype: int64"
      ]
     },
     "execution_count": 60,
     "metadata": {},
     "output_type": "execute_result"
    }
   ],
   "source": [
    "a=pd.Series([1,2,3,4,5,6])\n",
    "b=pd.Series([2,3,5,6,9,7])\n",
    "a.head()\n",
    "a.tail()\n",
    "a.describe()\n",
    "a.apply(lambda x:x**2)"
   ]
  },
  {
   "cell_type": "code",
   "execution_count": 77,
   "id": "e4c37409",
   "metadata": {},
   "outputs": [
    {
     "name": "stdout",
     "output_type": "stream",
     "text": [
      "4      5\n",
      "5      6\n",
      "6      7\n",
      "7     10\n",
      "8     11\n",
      "9     15\n",
      "10    20\n",
      "11    30\n",
      "dtype: int64\n",
      "5     6\n",
      "6     7\n",
      "7    10\n",
      "8    11\n",
      "9    15\n",
      "dtype: int64\n"
     ]
    }
   ],
   "source": [
    "a=pd.Series([1,2,3,4,5,6,7,10,11,15,20,30])\n",
    "b=pd.Series([2,3,5,6,9,7])\n",
    "c=a[a>4]\n",
    "print(c)\n",
    "d=a[(a>5) & (a<20)]\n",
    "print(d)"
   ]
  },
  {
   "cell_type": "code",
   "execution_count": 81,
   "id": "86c2336f",
   "metadata": {},
   "outputs": [
    {
     "name": "stdout",
     "output_type": "stream",
     "text": [
      "   Index    Name  Marks\n",
      "0      0   Akash  10.00\n",
      "1      1  Batash  20.00\n",
      "2      2   pahar  30.00\n",
      "3      3  Shobuj  10.00\n",
      "4      4   Sagor  50.00\n",
      "5      5    Nodi  70.00\n",
      "6      6   Pukur  55.45\n",
      "7      7    Duba  70.00\n",
      "   Index    Name  Marks your grade\n",
      "0      0   Akash  10.00          A\n",
      "1      1  Batash  20.00          B\n",
      "2      2   pahar  30.00          c\n",
      "3      3  Shobuj  10.00          D\n",
      "4      4   Sagor  50.00          E\n",
      "5      5    Nodi  70.00          F\n",
      "6      6   Pukur  55.45          G\n",
      "7      7    Duba  70.00          H\n"
     ]
    }
   ],
   "source": [
    "z=pd.read_csv(r\"D:\\ML Course\\Day 9\\series.csv\")\n",
    "print(z)\n",
    "z[\"your grade\"]=[\"A\",\"B\",\"c\",\"D\",\"E\",\"F\",\"G\",\"H\"]\n",
    "print(z)"
   ]
  },
  {
   "cell_type": "code",
   "execution_count": 91,
   "id": "ce1978cb",
   "metadata": {},
   "outputs": [
    {
     "data": {
      "text/html": [
       "<div>\n",
       "<style scoped>\n",
       "    .dataframe tbody tr th:only-of-type {\n",
       "        vertical-align: middle;\n",
       "    }\n",
       "\n",
       "    .dataframe tbody tr th {\n",
       "        vertical-align: top;\n",
       "    }\n",
       "\n",
       "    .dataframe thead th {\n",
       "        text-align: right;\n",
       "    }\n",
       "</style>\n",
       "<table border=\"1\" class=\"dataframe\">\n",
       "  <thead>\n",
       "    <tr style=\"text-align: right;\">\n",
       "      <th></th>\n",
       "      <th>Index</th>\n",
       "      <th>Name</th>\n",
       "      <th>Marks</th>\n",
       "      <th>your grade</th>\n",
       "    </tr>\n",
       "  </thead>\n",
       "  <tbody>\n",
       "    <tr>\n",
       "      <th>7</th>\n",
       "      <td>7</td>\n",
       "      <td>Duba</td>\n",
       "      <td>70.00</td>\n",
       "      <td>H</td>\n",
       "    </tr>\n",
       "    <tr>\n",
       "      <th>5</th>\n",
       "      <td>5</td>\n",
       "      <td>Nodi</td>\n",
       "      <td>70.00</td>\n",
       "      <td>F</td>\n",
       "    </tr>\n",
       "    <tr>\n",
       "      <th>6</th>\n",
       "      <td>6</td>\n",
       "      <td>Pukur</td>\n",
       "      <td>55.45</td>\n",
       "      <td>G</td>\n",
       "    </tr>\n",
       "    <tr>\n",
       "      <th>4</th>\n",
       "      <td>4</td>\n",
       "      <td>Sagor</td>\n",
       "      <td>50.00</td>\n",
       "      <td>E</td>\n",
       "    </tr>\n",
       "    <tr>\n",
       "      <th>2</th>\n",
       "      <td>2</td>\n",
       "      <td>pahar</td>\n",
       "      <td>30.00</td>\n",
       "      <td>c</td>\n",
       "    </tr>\n",
       "    <tr>\n",
       "      <th>1</th>\n",
       "      <td>1</td>\n",
       "      <td>Batash</td>\n",
       "      <td>20.00</td>\n",
       "      <td>B</td>\n",
       "    </tr>\n",
       "    <tr>\n",
       "      <th>3</th>\n",
       "      <td>3</td>\n",
       "      <td>Shobuj</td>\n",
       "      <td>10.00</td>\n",
       "      <td>D</td>\n",
       "    </tr>\n",
       "    <tr>\n",
       "      <th>0</th>\n",
       "      <td>0</td>\n",
       "      <td>Akash</td>\n",
       "      <td>10.00</td>\n",
       "      <td>A</td>\n",
       "    </tr>\n",
       "  </tbody>\n",
       "</table>\n",
       "</div>"
      ],
      "text/plain": [
       "   Index    Name  Marks your grade\n",
       "7      7    Duba  70.00          H\n",
       "5      5    Nodi  70.00          F\n",
       "6      6   Pukur  55.45          G\n",
       "4      4   Sagor  50.00          E\n",
       "2      2   pahar  30.00          c\n",
       "1      1  Batash  20.00          B\n",
       "3      3  Shobuj  10.00          D\n",
       "0      0   Akash  10.00          A"
      ]
     },
     "execution_count": 91,
     "metadata": {},
     "output_type": "execute_result"
    }
   ],
   "source": [
    "z.head()\n",
    "z.tail()\n",
    "z.values\n",
    "z.Index\n",
    "z.Marks\n",
    "z.value_counts()\n",
    "z.sort_values(by=\"Marks\",ascending=False)"
   ]
  },
  {
   "cell_type": "code",
   "execution_count": 3,
   "id": "ada34fb0",
   "metadata": {},
   "outputs": [],
   "source": [
    "data = {\n",
    "    'Name': ['Alice', 'Bob', 'Charlie'],\n",
    "    'Age': [25, 30, 35],\n",
    "    'City': ['New York', 'Paris', 'London']\n",
    "}"
   ]
  },
  {
   "cell_type": "code",
   "execution_count": 4,
   "id": "4696f35c",
   "metadata": {},
   "outputs": [
    {
     "ename": "NameError",
     "evalue": "name 'pd' is not defined",
     "output_type": "error",
     "traceback": [
      "\u001b[31m---------------------------------------------------------------------------\u001b[39m",
      "\u001b[31mNameError\u001b[39m                                 Traceback (most recent call last)",
      "\u001b[36mCell\u001b[39m\u001b[36m \u001b[39m\u001b[32mIn[4]\u001b[39m\u001b[32m, line 1\u001b[39m\n\u001b[32m----> \u001b[39m\u001b[32m1\u001b[39m df=\u001b[43mpd\u001b[49m.DataFrame(data)\n\u001b[32m      2\u001b[39m \u001b[38;5;28mprint\u001b[39m(df)\n",
      "\u001b[31mNameError\u001b[39m: name 'pd' is not defined"
     ]
    }
   ],
   "source": [
    "df=pd.DataFrame(data)\n",
    "print(df)"
   ]
  },
  {
   "cell_type": "code",
   "execution_count": 108,
   "id": "6f37779b",
   "metadata": {},
   "outputs": [
    {
     "name": "stdout",
     "output_type": "stream",
     "text": [
      "<class 'pandas.core.frame.DataFrame'>\n",
      "RangeIndex: 3 entries, 0 to 2\n",
      "Data columns (total 3 columns):\n",
      " #   Column  Non-Null Count  Dtype \n",
      "---  ------  --------------  ----- \n",
      " 0   Name    3 non-null      object\n",
      " 1   Age     3 non-null      int64 \n",
      " 2   City    3 non-null      object\n",
      "dtypes: int64(1), object(2)\n",
      "memory usage: 204.0+ bytes\n"
     ]
    },
    {
     "data": {
      "text/plain": [
       "count     3.0\n",
       "mean     30.0\n",
       "std       5.0\n",
       "min      25.0\n",
       "25%      27.5\n",
       "50%      30.0\n",
       "75%      32.5\n",
       "max      35.0\n",
       "Name: Age, dtype: float64"
      ]
     },
     "execution_count": 108,
     "metadata": {},
     "output_type": "execute_result"
    }
   ],
   "source": [
    "df.values\n",
    "df.index\n",
    "df.info()\n",
    "df.sort_index()\n",
    "df.sort_values(by=\"Age\")\n",
    "df[\"Age\"].describe()"
   ]
  },
  {
   "cell_type": "code",
   "execution_count": 113,
   "id": "93b82793",
   "metadata": {},
   "outputs": [
    {
     "name": "stdout",
     "output_type": "stream",
     "text": [
      "0      Alice\n",
      "1        Bob\n",
      "2    Charlie\n",
      "Name: Name, dtype: object\n",
      "      Name  Age\n",
      "0    Alice   25\n",
      "1      Bob   30\n",
      "2  Charlie   35\n",
      "      Name  Age    City\n",
      "1      Bob   30   Paris\n",
      "2  Charlie   35  London\n",
      "30.0\n"
     ]
    }
   ],
   "source": [
    "print(df[\"Name\"])\n",
    "print(df[[\"Name\",\"Age\"]])\n",
    "print(df[df[\"Age\"]>25])\n",
    "print(df[\"Age\"].mean())"
   ]
  },
  {
   "cell_type": "code",
   "execution_count": 114,
   "id": "faa6cadc",
   "metadata": {},
   "outputs": [],
   "source": [
    "df.to_csv(\"output.csv\",index=False)"
   ]
  },
  {
   "cell_type": "markdown",
   "id": "cc95c23c",
   "metadata": {},
   "source": [
    "# Matplotlib"
   ]
  },
  {
   "cell_type": "code",
   "execution_count": 1,
   "id": "dad187e0",
   "metadata": {},
   "outputs": [],
   "source": [
    "import matplotlib.pyplot as plt"
   ]
  },
  {
   "cell_type": "code",
   "execution_count": 8,
   "id": "cdf73a7c",
   "metadata": {},
   "outputs": [
    {
     "name": "stdout",
     "output_type": "stream",
     "text": [
      "   Index    Name  Marks\n",
      "0      0   Akash  10.00\n",
      "1      1  Batash  20.00\n",
      "2      2   pahar  30.00\n",
      "3      3  Shobuj  10.00\n",
      "4      4   Sagor  50.00\n",
      "5      5    Nodi  70.00\n",
      "6      6   Pukur  55.45\n",
      "7      7    Duba  70.00\n"
     ]
    }
   ],
   "source": [
    "df=pd.read_csv(r\"D:\\ML Course\\Day 9\\series.csv\")\n",
    "print(df)"
   ]
  },
  {
   "cell_type": "code",
   "execution_count": 59,
   "id": "a69ee289",
   "metadata": {},
   "outputs": [
    {
     "data": {
      "image/png": "[encoded data removed]",
      "text/plain": [
       "<Figure size 640x480 with 1 Axes>"
      ]
     },
     "metadata": {},
     "output_type": "display_data"
    }
   ],
   "source": [
    "df[[\"Marks\",\"Index\"]].plot(kind=\"bar\",title=\"Bar plot\")\n",
    "plt.Figure(figsize=(16,10))\n",
    "plt.xlabel(\"Demo\")\n",
    "plt.ylabel(\"ylebel\")\n",
    "plt.show()"
   ]
  },
  {
   "cell_type": "code",
   "execution_count": 34,
   "id": "a7cbf895",
   "metadata": {},
   "outputs": [
    {
     "data": {
      "image/png": "[encoded data removed]",
      "text/plain": [
       "<Figure size 640x480 with 1 Axes>"
      ]
     },
     "metadata": {},
     "output_type": "display_data"
    }
   ],
   "source": [
    "df[\"Marks\"].plot(kind=\"hist\",title=\"Bar plot\",color=\"skyblue\",bins=6)\n",
    "plt.Figure(figsize=(16,10))\n",
    "plt.xlabel(\"Demo\")\n",
    "plt.ylabel(\"ylebel\")\n",
    "plt.show()"
   ]
  },
  {
   "cell_type": "code",
   "execution_count": 50,
   "id": "324e5501",
   "metadata": {},
   "outputs": [
    {
     "data": {
      "image/png": "[encoded data removed]",
      "text/plain": [
       "<Figure size 640x480 with 1 Axes>"
      ]
     },
     "metadata": {},
     "output_type": "display_data"
    }
   ],
   "source": [
    "df[\"Marks\"].plot(kind=\"pie\",title=\"Pie chart\",color=[\"purple\",\"orange\",\"green\",\"red\"],autopct=\"%1.1f%%\")\n",
    "plt.Figure(figsize=(8,8))\n",
    "plt.grid(True)\n",
    "plt.ylabel(\" \")\n",
    "plt.show()\n"
   ]
  },
  {
   "cell_type": "code",
   "execution_count": 52,
   "id": "58f67ea9",
   "metadata": {},
   "outputs": [
    {
     "data": {
      "image/png": "[encoded data removed]",
      "text/plain": [
       "<Figure size 640x480 with 1 Axes>"
      ]
     },
     "metadata": {},
     "output_type": "display_data"
    }
   ],
   "source": [
    "x = [1, 2, 3, 4, 5]\n",
    "y = [2, 4, 6, 8, 10]\n",
    "plt.plot(x,y ,color=\"blue\",marker=\"o\")\n",
    "plt.title(\"demo pie char\")\n",
    "plt.xlabel(\"okky\")\n",
    "plt.ylabel(\"not okay\")\n",
    "plt.show()"
   ]
  },
  {
   "cell_type": "code",
   "execution_count": 55,
   "id": "36f0d839",
   "metadata": {},
   "outputs": [
    {
     "data": {
      "image/png": "[encoded data removed]",
      "text/plain": [
       "<Figure size 640x480 with 1 Axes>"
      ]
     },
     "metadata": {},
     "output_type": "display_data"
    }
   ],
   "source": [
    "categories = [\"A\", \"B\", \"C\", \"D\"]\n",
    "values = [4, 7, 2, 9]\n",
    "plt.bar(categories,values,color=\"blue\")\n",
    "plt.title(\"demo barplot\")\n",
    "plt.Figure(figsize=(8,10))\n",
    "plt.xlabel(\"xlabel\")\n",
    "plt.ylabel(\"ylebel\")\n",
    "plt.show()"
   ]
  },
  {
   "cell_type": "code",
   "execution_count": 73,
   "id": "78122abb",
   "metadata": {},
   "outputs": [
    {
     "data": {
      "text/plain": [
       "['anagrams',\n",
       " 'anscombe',\n",
       " 'attention',\n",
       " 'brain_networks',\n",
       " 'car_crashes',\n",
       " 'diamonds',\n",
       " 'dots',\n",
       " 'dowjones',\n",
       " 'exercise',\n",
       " 'flights',\n",
       " 'fmri',\n",
       " 'geyser',\n",
       " 'glue',\n",
       " 'healthexp',\n",
       " 'iris',\n",
       " 'mpg',\n",
       " 'penguins',\n",
       " 'planets',\n",
       " 'seaice',\n",
       " 'taxis',\n",
       " 'tips',\n",
       " 'titanic']"
      ]
     },
     "execution_count": 73,
     "metadata": {},
     "output_type": "execute_result"
    }
   ],
   "source": [
    "import seaborn as sns\n",
    "sns.set()\n",
    "import warnings\n",
    "warnings.filterwarnings(\"ignore\")\n",
    "sns.get_dataset_names()"
   ]
  },
  {
   "cell_type": "code",
   "execution_count": 64,
   "id": "ba19014a",
   "metadata": {},
   "outputs": [
    {
     "name": "stdout",
     "output_type": "stream",
     "text": [
      "   total_bill   tip     sex smoker  day    time  size\n",
      "0       16.99  1.01  Female     No  Sun  Dinner     2\n",
      "1       10.34  1.66    Male     No  Sun  Dinner     3\n",
      "2       21.01  3.50    Male     No  Sun  Dinner     3\n",
      "3       23.68  3.31    Male     No  Sun  Dinner     2\n",
      "4       24.59  3.61  Female     No  Sun  Dinner     4\n"
     ]
    }
   ],
   "source": [
    "tips=sns.load_dataset(\"tips\")\n",
    "print(tips.head())"
   ]
  },
  {
   "cell_type": "code",
   "execution_count": 74,
   "id": "498e920b",
   "metadata": {},
   "outputs": [
    {
     "data": {
      "text/plain": [
       "day\n",
       "Thur    17.682742\n",
       "Fri     17.151579\n",
       "Sat     20.441379\n",
       "Sun     21.410000\n",
       "Name: total_bill, dtype: float64"
      ]
     },
     "execution_count": 74,
     "metadata": {},
     "output_type": "execute_result"
    }
   ],
   "source": [
    "tips.groupby(\"day\").total_bill.mean()"
   ]
  },
  {
   "cell_type": "code",
   "execution_count": 84,
   "id": "bd794d43",
   "metadata": {},
   "outputs": [
    {
     "data": {
      "image/png": "[encoded data removed]",
      "text/plain": [
       "<Figure size 640x480 with 1 Axes>"
      ]
     },
     "metadata": {},
     "output_type": "display_data"
    }
   ],
   "source": [
    "plot=sns.countplot(x=\"time\",data=tips,hue=\"day\",dodge=False)"
   ]
  },
  {
   "cell_type": "code",
   "execution_count": 79,
   "id": "98a6c8c4",
   "metadata": {},
   "outputs": [
    {
     "data": {
      "image/png": "[encoded data removed]",
      "text/plain": [
       "<Figure size 640x480 with 1 Axes>"
      ]
     },
     "metadata": {},
     "output_type": "display_data"
    }
   ],
   "source": [
    "plot=tips[\"sex\"].value_counts().plot(kind=\"bar\")"
   ]
  },
  {
   "cell_type": "code",
   "execution_count": 83,
   "id": "963e7890",
   "metadata": {},
   "outputs": [
    {
     "data": {
      "image/png": "[encoded data removed]",
      "text/plain": [
       "<Figure size 640x480 with 1 Axes>"
      ]
     },
     "metadata": {},
     "output_type": "display_data"
    }
   ],
   "source": [
    "plot=sns.barplot(x=tips[\"day\"],y=tips[\"total_bill\"],hue=tips[\"sex\"],errorbar=None,estimator=sum)"
   ]
  },
  {
   "cell_type": "code",
   "execution_count": 1,
   "id": "d275d15f",
   "metadata": {},
   "outputs": [
    {
     "name": "stdout",
     "output_type": "stream",
     "text": [
      "you typed: abid\n",
      "you typed: abid\n",
      "you typed: abid\n",
      "Goodby\n"
     ]
    }
   ],
   "source": [
    "while True:\n",
    "    cmd=input()\n",
    "    if cmd=='exit':\n",
    "        print('Goodby')\n",
    "        break\n",
    "    print(\"you typed:\",cmd)"
   ]
  },
  {
   "cell_type": "code",
   "execution_count": 4,
   "id": "75cc358e",
   "metadata": {},
   "outputs": [
    {
     "name": "stdout",
     "output_type": "stream",
     "text": [
      "Acess\n"
     ]
    }
   ],
   "source": [
    "password=\"\"\n",
    "while password !='abid2243':\n",
    "    password=input()\n",
    "print(\"Acess\")"
   ]
  },
  {
   "cell_type": "code",
   "execution_count": 9,
   "id": "e16c6ea3",
   "metadata": {},
   "outputs": [
    {
     "name": "stdout",
     "output_type": "stream",
     "text": [
      "nice work\n"
     ]
    }
   ],
   "source": [
    "inpu=(input())\n",
    "try:\n",
    "    inp=int(inpu)\n",
    "except:\n",
    "    inp=-1\n",
    "if inp>0:\n",
    "    print('nice work')\n",
    "else:\n",
    "    print('not a int no')"
   ]
  },
  {
   "cell_type": "code",
   "execution_count": 13,
   "id": "8a82a2ac",
   "metadata": {},
   "outputs": [
    {
     "name": "stdout",
     "output_type": "stream",
     "text": [
      "before largest no -1\n",
      "9: 9\n",
      "41: 41\n",
      "41: 12\n",
      "41: 3\n",
      "74: 74\n",
      "74: 15\n",
      "After largest no 74\n"
     ]
    }
   ],
   "source": [
    "# [9, 41, 12, 3, 74, 15]\n",
    "largest_no_so_far=-1\n",
    "print(f\"before largest no {largest_no_so_far}\")\n",
    "for i in [9, 41, 12, 3, 74, 15]:\n",
    "    if i>largest_no_so_far:\n",
    "        largest_no_so_far=i\n",
    "    print(f\"{largest_no_so_far}: {i}\")\n",
    "\n",
    "print(f\"After largest no {largest_no_so_far}\")"
   ]
  },
  {
   "cell_type": "code",
   "execution_count": 23,
   "id": "b5663e23",
   "metadata": {},
   "outputs": [
    {
     "name": "stdout",
     "output_type": "stream",
     "text": [
      "befor largest no None\n",
      "9 9\n",
      "9 41\n",
      "9 12\n",
      "3 3\n",
      "3 74\n",
      "3 15\n",
      "3\n"
     ]
    }
   ],
   "source": [
    "smallest_so_far=None\n",
    "print(f\"befor largest no {smallest_so_far}\")\n",
    "for i in [9, 41, 12, 3, 74, 15]:\n",
    "    if smallest_so_far is None:\n",
    "        smallest_so_far=i\n",
    "    elif i<smallest_so_far:\n",
    "        smallest_so_far=i\n",
    "    print(smallest_so_far,i)\n",
    "\n",
    "        \n",
    "\n",
    "print(smallest_so_far)"
   ]
  },
  {
   "cell_type": "code",
   "execution_count": 29,
   "id": "74762b98",
   "metadata": {},
   "outputs": [
    {
     "name": "stdout",
     "output_type": "stream",
     "text": [
      "0 9\n",
      "1 41\n",
      "2 12\n",
      "3 3\n",
      "4 74\n",
      "5 15\n"
     ]
    }
   ],
   "source": [
    "for i,x in enumerate([9, 41, 12, 3, 74, 15]):\n",
    "    print(i,x)\n"
   ]
  },
  {
   "cell_type": "code",
   "execution_count": 31,
   "id": "26163b9b",
   "metadata": {},
   "outputs": [
    {
     "name": "stdout",
     "output_type": "stream",
     "text": [
      "b\n",
      "a\n",
      "n\n",
      "a\n",
      "n\n",
      "a\n",
      "a\n"
     ]
    }
   ],
   "source": [
    "fruit=\"bananaa\"\n",
    "index=0\n",
    "while index<len(fruit):\n",
    "    letter=fruit[index]\n",
    "    print(letter)\n",
    "    index+=1"
   ]
  },
  {
   "cell_type": "code",
   "execution_count": 32,
   "id": "09fb9c65",
   "metadata": {},
   "outputs": [
    {
     "name": "stdout",
     "output_type": "stream",
     "text": [
      "4\n"
     ]
    }
   ],
   "source": [
    "no_of_a=0\n",
    "for i in fruit:\n",
    "    if i ==\"a\":\n",
    "        no_of_a+=1\n",
    "print(no_of_a)"
   ]
  },
  {
   "cell_type": "code",
   "execution_count": 35,
   "id": "94883c32",
   "metadata": {},
   "outputs": [
    {
     "name": "stdout",
     "output_type": "stream",
     "text": [
      "21\n",
      "31\n",
      "uct.ac.za\n"
     ]
    }
   ],
   "source": [
    "data = 'From stephen.marquard@uct.ac.za Sat Jan  5 09:14:16 2008'\n",
    "x=data.find(\"@\")\n",
    "print(x)\n",
    "y=data.find(\" \",x)\n",
    "print(y)\n",
    "print(data[x+1:y])"
   ]
  },
  {
   "cell_type": "code",
   "execution_count": 38,
   "id": "27f6d654",
   "metadata": {},
   "outputs": [
    {
     "name": "stdout",
     "output_type": "stream",
     "text": [
      "['From', 'stephen.marquard@uct.ac.za', 'Sat', 'Jan', '5', '09:14:16', '2008']\n",
      "stephen.marquard@uct.ac.za\n",
      "['stephen.marquard', 'uct.ac.za']\n"
     ]
    }
   ],
   "source": [
    "x=data.split()\n",
    "print(x)\n",
    "y=x[1]\n",
    "print(y)\n",
    "z=y.split(\"@\")\n",
    "print(z)"
   ]
  },
  {
   "cell_type": "code",
   "execution_count": 40,
   "id": "59cfd595",
   "metadata": {},
   "outputs": [
    {
     "name": "stdout",
     "output_type": "stream",
     "text": [
      "{'csev': 2, 'cwen': 2, 'zqian': 1}\n"
     ]
    }
   ],
   "source": [
    "names = ['csev', 'cwen', 'csev', 'zqian', 'cwen']\n",
    "dict={}\n",
    "for name in names:\n",
    "    dict[name]=dict.get(name,0)+1\n",
    "print(dict)"
   ]
  },
  {
   "cell_type": "code",
   "execution_count": 45,
   "id": "944719a7",
   "metadata": {},
   "outputs": [
    {
     "name": "stdout",
     "output_type": "stream",
     "text": [
      "{'csev': 2, 'cwen': 2, 'zqian': 1}\n"
     ]
    }
   ],
   "source": [
    "names = ['csev', 'cwen', 'csev', 'zqian', 'cwen']\n",
    "thisdict={}\n",
    "for name in names:\n",
    "    if name not in thisdict:\n",
    "        thisdict[name]=1\n",
    "    else:\n",
    "        thisdict[name]+=1\n",
    "print(thisdict)"
   ]
  },
  {
   "cell_type": "code",
   "execution_count": null,
   "id": "325b1d40",
   "metadata": {},
   "outputs": [],
   "source": []
  }
 ],
 "metadata": {
  "kernelspec": {
   "display_name": ".venv (3.12.8)",
   "language": "python",
   "name": "python3"
  },
  "language_info": {
   "codemirror_mode": {
    "name": "ipython",
    "version": 3
   },
   "file_extension": ".py",
   "mimetype": "text/x-python",
   "name": "python",
   "nbconvert_exporter": "python",
   "pygments_lexer": "ipython3",
   "version": "3.12.8"
  }
 },
 "nbformat": 4,
 "nbformat_minor": 5
}
