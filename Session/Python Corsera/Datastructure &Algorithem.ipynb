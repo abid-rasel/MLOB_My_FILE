{
 "cells": [
  {
   "cell_type": "markdown",
   "id": "b48f9569",
   "metadata": {},
   "source": [
    "#### Hashmap/Dictionary"
   ]
  },
  {
   "cell_type": "code",
   "execution_count": 10,
   "id": "e76ba481",
   "metadata": {},
   "outputs": [],
   "source": [
    "Person={\n",
    "    \"name\":\"Abid Rasel\",\"Age\":25,\"Grades\":{\"Bangla\":33,\"English\":80,\"Math\":90},\"Marks\":[10,15,30]\n",
    "}"
   ]
  },
  {
   "cell_type": "code",
   "execution_count": 11,
   "id": "f79c4d6e",
   "metadata": {},
   "outputs": [
    {
     "name": "stdout",
     "output_type": "stream",
     "text": [
      "[10, 15, 30]\n",
      "15\n"
     ]
    }
   ],
   "source": [
    "print(Person[\"Marks\"])\n",
    "print(Person[\"Marks\"][1])"
   ]
  },
  {
   "cell_type": "code",
   "execution_count": 12,
   "id": "cbd600c5",
   "metadata": {},
   "outputs": [
    {
     "name": "stdout",
     "output_type": "stream",
     "text": [
      "80\n"
     ]
    }
   ],
   "source": [
    "print(Person[\"Grades\"][\"English\"])"
   ]
  },
  {
   "cell_type": "code",
   "execution_count": 13,
   "id": "23668acc",
   "metadata": {},
   "outputs": [
    {
     "name": "stdout",
     "output_type": "stream",
     "text": [
      "{1: [1, 3, 5, 7, 9], 0: [2, 4, 6, 8, 10]}\n"
     ]
    }
   ],
   "source": [
    "nums=[1,2,3,4,5,6,7,8,9,10]\n",
    "dic = {}\n",
    "\n",
    "for num in nums:\n",
    "    if num % 2 not in dic:\n",
    "        dic[num % 2] = []\n",
    "    dic[num % 2].append(num)\n",
    "\n",
    "print(dic)"
   ]
  },
  {
   "cell_type": "code",
   "execution_count": 14,
   "id": "766ffbb9",
   "metadata": {},
   "outputs": [
    {
     "name": "stdout",
     "output_type": "stream",
     "text": [
      "defaultdict(<class 'list'>, {1: [1, 3, 5, 7, 9], 0: [2, 4, 6, 8, 10]})\n"
     ]
    }
   ],
   "source": [
    "from collections import defaultdict\n",
    "nums=[1,2,3,4,5,6,7,8,9,10]\n",
    "dic=defaultdict(list)\n",
    "for num in nums:\n",
    "    dic[num%2].append(num)\n",
    "print(dic)\n"
   ]
  },
  {
   "cell_type": "code",
   "execution_count": 15,
   "id": "66db4c88",
   "metadata": {},
   "outputs": [
    {
     "name": "stdout",
     "output_type": "stream",
     "text": [
      "name Abid Rasel\n",
      "Age 25\n",
      "Grades {'Bangla': 33, 'English': 80, 'Math': 90}\n",
      "Marks [10, 15, 30]\n"
     ]
    }
   ],
   "source": [
    "for key,val in Person.items():\n",
    "    print(key,val)"
   ]
  },
  {
   "cell_type": "code",
   "execution_count": 19,
   "id": "ddcc3ff0",
   "metadata": {},
   "outputs": [
    {
     "name": "stdout",
     "output_type": "stream",
     "text": [
      "[4, 0, 1, 1, 3]\n"
     ]
    }
   ],
   "source": [
    "nums=[8,1,2,2,3]\n",
    "ans=[]\n",
    "for i in nums:\n",
    "    count=0   # reset here\n",
    "    for j in nums:\n",
    "        if j<i:\n",
    "            count+=1\n",
    "    ans.append(count)\n",
    "print(ans)      "
   ]
  },
  {
   "cell_type": "code",
   "execution_count": 29,
   "id": "28b6525a",
   "metadata": {},
   "outputs": [
    {
     "name": "stdout",
     "output_type": "stream",
     "text": [
      "{1: 0, 2: 1, 3: 3, 8: 4}\n",
      "[4, 0, 1, 1, 3]\n"
     ]
    }
   ],
   "source": [
    "# Efficient solution using Hashmap\n",
    "nums=[8,1,2,2,3]\n",
    "thisdict={}\n",
    "ans=[]\n",
    "sort_num=sort_num=sorted(nums)\n",
    "for i in range(len(sort_num)):\n",
    "    if sort_num[i] not in thisdict:\n",
    "        thisdict[sort_num[i]]=i\n",
    "for num in nums:\n",
    "    ans.append(thisdict[num])\n",
    "    \n",
    "print(thisdict)\n",
    "print(ans)\n",
    "        "
   ]
  },
  {
   "cell_type": "code",
   "execution_count": 10,
   "id": "ae559e7f",
   "metadata": {},
   "outputs": [
    {
     "name": "stdout",
     "output_type": "stream",
     "text": [
      "[0, 1]\n"
     ]
    }
   ],
   "source": [
    "nums = [2,7,11,15]\n",
    "target = 9\n",
    "ans = []\n",
    "for i in range(len(nums)):\n",
    "    for j in range(i+1, len(nums)):   # start from i+1 to avoid duplicates\n",
    "        if nums[i] + nums[j] == target:\n",
    "            ans = [i, j]   # store both indices\n",
    "            break\n",
    "print(ans)\n"
   ]
  },
  {
   "cell_type": "code",
   "execution_count": 7,
   "id": "502aa359",
   "metadata": {},
   "outputs": [
    {
     "data": {
      "text/plain": [
       "[0, 1]"
      ]
     },
     "execution_count": 7,
     "metadata": {},
     "output_type": "execute_result"
    }
   ],
   "source": [
    "def twoSum(nums, target):\n",
    "    hashmap = {}\n",
    "    for i, num in enumerate(nums):\n",
    "        diff = target - num\n",
    "        if diff in hashmap:\n",
    "            return [hashmap[diff], i]\n",
    "        hashmap[num] = i\n",
    "twoSum([2,7,11,15],9)"
   ]
  },
  {
   "cell_type": "code",
   "execution_count": null,
   "id": "a38ebd78",
   "metadata": {},
   "outputs": [
    {
     "name": "stdout",
     "output_type": "stream",
     "text": [
      "13\n",
      "10\n",
      "5\n",
      "100\n",
      "15\n",
      "3\n",
      "2\n"
     ]
    }
   ],
   "source": [
    "class TreeNode:\n",
    "    def __init__(self,val):\n",
    "        self.val=val\n",
    "        self.left,self.right=None,None\n",
    "def Travers(root):\n",
    "    if root:\n",
    "        print(root.val)\n",
    "        Travers(root.left)\n",
    "        Travers(root.right)\n",
    "def main():\n",
    "    root=TreeNode(13)\n",
    "    root.left=TreeNode(10)\n",
    "    root.right=TreeNode(15)\n",
    "    root.left.left=TreeNode(5)\n",
    "    root.left.right=TreeNode(100)    \n",
    "    root.right.left=TreeNode(3)\n",
    "    root.right.right=TreeNode(2)\n",
    "    Travers(root)\n",
    "main()                      "
   ]
  },
  {
   "cell_type": "code",
   "execution_count": 2,
   "id": "895b2acc",
   "metadata": {},
   "outputs": [
    {
     "name": "stdout",
     "output_type": "stream",
     "text": [
      "5\n",
      "10\n",
      "100\n",
      "13\n",
      "3\n",
      "15\n",
      "2\n"
     ]
    }
   ],
   "source": [
    "# Inorder\n",
    "class TreeNode:\n",
    "    def __init__(self,val):\n",
    "        self.val=val\n",
    "        self.left,self.right=None,None\n",
    "def Travers(root):\n",
    "    if root:\n",
    "        Travers(root.left)\n",
    "        print(root.val)\n",
    "        Travers(root.right)\n",
    "def main():\n",
    "    root=TreeNode(13)\n",
    "    root.left=TreeNode(10)\n",
    "    root.right=TreeNode(15)\n",
    "    root.left.left=TreeNode(5)\n",
    "    root.left.right=TreeNode(100)    \n",
    "    root.right.left=TreeNode(3)\n",
    "    root.right.right=TreeNode(2)\n",
    "    Travers(root)\n",
    "main()"
   ]
  },
  {
   "cell_type": "code",
   "execution_count": 5,
   "id": "3395860b",
   "metadata": {},
   "outputs": [
    {
     "name": "stdout",
     "output_type": "stream",
     "text": [
      "5\n",
      "100\n",
      "10\n",
      "3\n",
      "2\n",
      "15\n",
      "13\n"
     ]
    }
   ],
   "source": [
    "class TreeNode:\n",
    "    def __init__(self,val):\n",
    "        self.val=val\n",
    "        self.left,self.right=None,None\n",
    "def Travers(root):\n",
    "    if root:\n",
    "        Travers(root.left)\n",
    "        Travers(root.right)\n",
    "        print(root.val)\n",
    "def main():\n",
    "    root=TreeNode(13)\n",
    "    root.left=TreeNode(10)\n",
    "    root.right=TreeNode(15)\n",
    "    root.left.left=TreeNode(5)\n",
    "    root.left.right=TreeNode(100)    \n",
    "    root.right.left=TreeNode(3)\n",
    "    root.right.right=TreeNode(2)\n",
    "    Travers(root)\n",
    "main()"
   ]
  }
 ],
 "metadata": {
  "kernelspec": {
   "display_name": ".venv (3.12.8)",
   "language": "python",
   "name": "python3"
  },
  "language_info": {
   "codemirror_mode": {
    "name": "ipython",
    "version": 3
   },
   "file_extension": ".py",
   "mimetype": "text/x-python",
   "name": "python",
   "nbconvert_exporter": "python",
   "pygments_lexer": "ipython3",
   "version": "3.12.8"
  }
 },
 "nbformat": 4,
 "nbformat_minor": 5
}
