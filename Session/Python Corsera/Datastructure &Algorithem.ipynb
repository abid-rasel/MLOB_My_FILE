{
 "cells": [
  {
   "cell_type": "markdown",
   "id": "b48f9569",
   "metadata": {},
   "source": [
    "#### Hashmap"
   ]
  },
  {
   "cell_type": "code",
   "execution_count": 2,
   "id": "e76ba481",
   "metadata": {},
   "outputs": [],
   "source": [
    "Person={\n",
    "    \"name\":\"Abid Rasel\",\"Age\":25,\"Grades\":{\"Bangla\":33,\"English\":80,\"Math\":90},\"Marks\":[10,15,30]\n",
    "}"
   ]
  },
  {
   "cell_type": "code",
   "execution_count": 5,
   "id": "f79c4d6e",
   "metadata": {},
   "outputs": [
    {
     "name": "stdout",
     "output_type": "stream",
     "text": [
      "[10, 15, 30]\n",
      "15\n"
     ]
    }
   ],
   "source": [
    "print(Person[\"Marks\"])\n",
    "print(Person[\"Marks\"][1])"
   ]
  },
  {
   "cell_type": "code",
   "execution_count": 6,
   "id": "cbd600c5",
   "metadata": {},
   "outputs": [
    {
     "name": "stdout",
     "output_type": "stream",
     "text": [
      "80\n"
     ]
    }
   ],
   "source": [
    "print(Person[\"Grades\"][\"English\"])"
   ]
  },
  {
   "cell_type": "code",
   "execution_count": null,
   "id": "766ffbb9",
   "metadata": {},
   "outputs": [],
   "source": [
    "nums=[1,2,3,4,5,6,7,8,9,10]"
   ]
  }
 ],
 "metadata": {
  "kernelspec": {
   "display_name": ".venv (3.12.8)",
   "language": "python",
   "name": "python3"
  },
  "language_info": {
   "codemirror_mode": {
    "name": "ipython",
    "version": 3
   },
   "file_extension": ".py",
   "mimetype": "text/x-python",
   "name": "python",
   "nbconvert_exporter": "python",
   "pygments_lexer": "ipython3",
   "version": "3.12.8"
  }
 },
 "nbformat": 4,
 "nbformat_minor": 5
}
