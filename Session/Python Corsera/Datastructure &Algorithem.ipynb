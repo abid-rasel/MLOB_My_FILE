{
 "cells": [
  {
   "cell_type": "markdown",
   "id": "b48f9569",
   "metadata": {},
   "source": [
    "#### Hashmap/Dictionary"
   ]
  },
  {
   "cell_type": "code",
   "execution_count": 10,
   "id": "e76ba481",
   "metadata": {},
   "outputs": [],
   "source": [
    "Person={\n",
    "    \"name\":\"Abid Rasel\",\"Age\":25,\"Grades\":{\"Bangla\":33,\"English\":80,\"Math\":90},\"Marks\":[10,15,30]\n",
    "}"
   ]
  },
  {
   "cell_type": "code",
   "execution_count": 11,
   "id": "f79c4d6e",
   "metadata": {},
   "outputs": [
    {
     "name": "stdout",
     "output_type": "stream",
     "text": [
      "[10, 15, 30]\n",
      "15\n"
     ]
    }
   ],
   "source": [
    "print(Person[\"Marks\"])\n",
    "print(Person[\"Marks\"][1])"
   ]
  },
  {
   "cell_type": "code",
   "execution_count": 12,
   "id": "cbd600c5",
   "metadata": {},
   "outputs": [
    {
     "name": "stdout",
     "output_type": "stream",
     "text": [
      "80\n"
     ]
    }
   ],
   "source": [
    "print(Person[\"Grades\"][\"English\"])"
   ]
  },
  {
   "cell_type": "code",
   "execution_count": 13,
   "id": "23668acc",
   "metadata": {},
   "outputs": [
    {
     "name": "stdout",
     "output_type": "stream",
     "text": [
      "{1: [1, 3, 5, 7, 9], 0: [2, 4, 6, 8, 10]}\n"
     ]
    }
   ],
   "source": [
    "nums=[1,2,3,4,5,6,7,8,9,10]\n",
    "dic = {}\n",
    "\n",
    "for num in nums:\n",
    "    if num % 2 not in dic:\n",
    "        dic[num % 2] = []\n",
    "    dic[num % 2].append(num)\n",
    "\n",
    "print(dic)"
   ]
  },
  {
   "cell_type": "code",
   "execution_count": 14,
   "id": "766ffbb9",
   "metadata": {},
   "outputs": [
    {
     "name": "stdout",
     "output_type": "stream",
     "text": [
      "defaultdict(<class 'list'>, {1: [1, 3, 5, 7, 9], 0: [2, 4, 6, 8, 10]})\n"
     ]
    }
   ],
   "source": [
    "from collections import defaultdict\n",
    "nums=[1,2,3,4,5,6,7,8,9,10]\n",
    "dic=defaultdict(list)\n",
    "for num in nums:\n",
    "    dic[num%2].append(num)\n",
    "print(dic)\n"
   ]
  },
  {
   "cell_type": "code",
   "execution_count": 15,
   "id": "66db4c88",
   "metadata": {},
   "outputs": [
    {
     "name": "stdout",
     "output_type": "stream",
     "text": [
      "name Abid Rasel\n",
      "Age 25\n",
      "Grades {'Bangla': 33, 'English': 80, 'Math': 90}\n",
      "Marks [10, 15, 30]\n"
     ]
    }
   ],
   "source": [
    "for key,val in Person.items():\n",
    "    print(key,val)"
   ]
  },
  {
   "cell_type": "code",
   "execution_count": 19,
   "id": "ddcc3ff0",
   "metadata": {},
   "outputs": [
    {
     "name": "stdout",
     "output_type": "stream",
     "text": [
      "[4, 0, 1, 1, 3]\n"
     ]
    }
   ],
   "source": [
    "nums=[8,1,2,2,3]\n",
    "ans=[]\n",
    "for i in nums:\n",
    "    count=0   # reset here\n",
    "    for j in nums:\n",
    "        if j<i:\n",
    "            count+=1\n",
    "    ans.append(count)\n",
    "print(ans)      "
   ]
  },
  {
   "cell_type": "code",
   "execution_count": 29,
   "id": "28b6525a",
   "metadata": {},
   "outputs": [
    {
     "name": "stdout",
     "output_type": "stream",
     "text": [
      "{1: 0, 2: 1, 3: 3, 8: 4}\n",
      "[4, 0, 1, 1, 3]\n"
     ]
    }
   ],
   "source": [
    "# Efficient solution using Hashmap\n",
    "nums=[8,1,2,2,3]\n",
    "thisdict={}\n",
    "ans=[]\n",
    "sort_num=sort_num=sorted(nums)\n",
    "for i in range(len(sort_num)):\n",
    "    if sort_num[i] not in thisdict:\n",
    "        thisdict[sort_num[i]]=i\n",
    "for num in nums:\n",
    "    ans.append(thisdict[num])\n",
    "    \n",
    "print(thisdict)\n",
    "print(ans)\n",
    "        "
   ]
  },
  {
   "cell_type": "code",
   "execution_count": 10,
   "id": "ae559e7f",
   "metadata": {},
   "outputs": [
    {
     "name": "stdout",
     "output_type": "stream",
     "text": [
      "[0, 1]\n"
     ]
    }
   ],
   "source": [
    "nums = [2,7,11,15]\n",
    "target = 9\n",
    "ans = []\n",
    "for i in range(len(nums)):\n",
    "    for j in range(i+1, len(nums)):   # start from i+1 to avoid duplicates\n",
    "        if nums[i] + nums[j] == target:\n",
    "            ans = [i, j]   # store both indices\n",
    "            break\n",
    "print(ans)\n"
   ]
  },
  {
   "cell_type": "code",
   "execution_count": 7,
   "id": "502aa359",
   "metadata": {},
   "outputs": [
    {
     "data": {
      "text/plain": [
       "[0, 1]"
      ]
     },
     "execution_count": 7,
     "metadata": {},
     "output_type": "execute_result"
    }
   ],
   "source": [
    "def twoSum(nums, target):\n",
    "    hashmap = {}\n",
    "    for i, num in enumerate(nums):\n",
    "        diff = target - num\n",
    "        if diff in hashmap:\n",
    "            return [hashmap[diff], i]\n",
    "        hashmap[num] = i\n",
    "twoSum([2,7,11,15],9)"
   ]
  },
  {
   "cell_type": "markdown",
   "id": "1dd02968",
   "metadata": {},
   "source": [
    "#### Tree and Graph\n"
   ]
  },
  {
   "cell_type": "markdown",
   "id": "d6e3116e",
   "metadata": {},
   "source": [
    "![alt text](<Screenshot (234).png>)"
   ]
  },
  {
   "cell_type": "code",
   "execution_count": null,
   "id": "a38ebd78",
   "metadata": {},
   "outputs": [
    {
     "name": "stdout",
     "output_type": "stream",
     "text": [
      "13\n",
      "10\n",
      "5\n",
      "100\n",
      "15\n",
      "3\n",
      "2\n"
     ]
    }
   ],
   "source": [
    "class TreeNode:\n",
    "    def __init__(self,val):\n",
    "        self.val=val\n",
    "        self.left,self.right=None,None\n",
    "def Travers(root):\n",
    "    if root:\n",
    "        print(root.val)\n",
    "        Travers(root.left)\n",
    "        Travers(root.right)\n",
    "def main():\n",
    "    root=TreeNode(13)\n",
    "    root.left=TreeNode(10)\n",
    "    root.right=TreeNode(15)\n",
    "    root.left.left=TreeNode(5)\n",
    "    root.left.right=TreeNode(100)    \n",
    "    root.right.left=TreeNode(3)\n",
    "    root.right.right=TreeNode(2)\n",
    "    Travers(root)\n",
    "main()                      "
   ]
  },
  {
   "cell_type": "code",
   "execution_count": 2,
   "id": "895b2acc",
   "metadata": {},
   "outputs": [
    {
     "name": "stdout",
     "output_type": "stream",
     "text": [
      "5\n",
      "10\n",
      "100\n",
      "13\n",
      "3\n",
      "15\n",
      "2\n"
     ]
    }
   ],
   "source": [
    "# Inorder\n",
    "class TreeNode:\n",
    "    def __init__(self,val):\n",
    "        self.val=val\n",
    "        self.left,self.right=None,None\n",
    "def Travers(root):\n",
    "    if root:\n",
    "        Travers(root.left)\n",
    "        print(root.val)\n",
    "        Travers(root.right)\n",
    "def main():\n",
    "    root=TreeNode(13)\n",
    "    root.left=TreeNode(10)\n",
    "    root.right=TreeNode(15)\n",
    "    root.left.left=TreeNode(5)\n",
    "    root.left.right=TreeNode(100)    \n",
    "    root.right.left=TreeNode(3)\n",
    "    root.right.right=TreeNode(2)\n",
    "    Travers(root)\n",
    "main()"
   ]
  },
  {
   "cell_type": "code",
   "execution_count": 5,
   "id": "3395860b",
   "metadata": {},
   "outputs": [
    {
     "name": "stdout",
     "output_type": "stream",
     "text": [
      "5\n",
      "100\n",
      "10\n",
      "3\n",
      "2\n",
      "15\n",
      "13\n"
     ]
    }
   ],
   "source": [
    "class TreeNode:\n",
    "    def __init__(self,val):\n",
    "        self.val=val\n",
    "        self.left,self.right=None,None\n",
    "def Travers(root):\n",
    "    if root:\n",
    "        Travers(root.left)\n",
    "        Travers(root.right)\n",
    "        print(root.val)\n",
    "def main():\n",
    "    root=TreeNode(13)\n",
    "    root.left=TreeNode(10)\n",
    "    root.right=TreeNode(15)\n",
    "    root.left.left=TreeNode(5)\n",
    "    root.left.right=TreeNode(100)    \n",
    "    root.right.left=TreeNode(3)\n",
    "    root.right.right=TreeNode(2)\n",
    "    Travers(root)\n",
    "main()"
   ]
  },
  {
   "cell_type": "markdown",
   "id": "bd969a06",
   "metadata": {},
   "source": [
    "#### Stack\n",
    "Push, pop,size,peak,is_empty"
   ]
  },
  {
   "cell_type": "code",
   "execution_count": 23,
   "id": "fe871a1c",
   "metadata": {},
   "outputs": [
    {
     "name": "stdout",
     "output_type": "stream",
     "text": [
      "Stack is created [10]\n",
      "Stack is created [10, 20]\n",
      "Stack is created [10, 20, 30]\n",
      "3\n",
      "30\n",
      "30\n",
      "False\n",
      "20\n",
      "False\n",
      "10\n",
      "True\n",
      "Stack is empty\n",
      "Stack is empty\n"
     ]
    }
   ],
   "source": [
    "class Stack:\n",
    "    def __init__(self):\n",
    "        self.stack=[]\n",
    "    def push(self,value):\n",
    "        self.stack.append(value)\n",
    "        print(\"Stack is created\",self.stack)\n",
    "    def pop(self):\n",
    "        if stack.is_empty():\n",
    "            return \"Stack is empty\"\n",
    "        return self.stack.pop()\n",
    "    def size(self):\n",
    "        return len(self.stack)\n",
    "    def is_empty(self):\n",
    "        # if len(self.stack)==0:\n",
    "        #     return True\n",
    "        # else:\n",
    "        #     return False\n",
    "        return len(self.stack)==0\n",
    "    def peak(self):\n",
    "        if stack.is_empty():\n",
    "            return \"Stack is empty\"\n",
    "        return self.stack[-1]\n",
    "stack=Stack()\n",
    "stack.push(10)\n",
    "stack.push(20)\n",
    "stack.push(30)\n",
    "print(stack.size())\n",
    "print(stack.peak())\n",
    "print(stack.pop())\n",
    "print(stack.is_empty())\n",
    "print(stack.pop())\n",
    "print(stack.is_empty())\n",
    "print(stack.pop())\n",
    "print(stack.is_empty())\n",
    "print(stack.pop())  # error because stack is empty now\n",
    "print(stack.peak()) # error because stack is empty now\n",
    "\n"
   ]
  },
  {
   "cell_type": "code",
   "execution_count": 27,
   "id": "f5defbdb",
   "metadata": {},
   "outputs": [
    {
     "name": "stdout",
     "output_type": "stream",
     "text": [
      "True\n"
     ]
    }
   ],
   "source": [
    "def isValid(s):\n",
    "    stack = []                          # use list as stack\n",
    "    pairs = {')': '(', ']': '[', '}': '{'}  # mapping closing → opening\n",
    "\n",
    "    for char in s:\n",
    "        if char in '([{':               # if it's an opening bracket\n",
    "            stack.append(char)\n",
    "        else:                           # if it's a closing bracket\n",
    "            if not stack or stack[-1] != pairs[char]:\n",
    "                return False             # mismatch or empty stack\n",
    "            stack.pop()                  # matched → remove from stack\n",
    "\n",
    "    return not stack                     # True if stack empty at end\n",
    "\n",
    "\n",
    "# Test the example\n",
    "print(isValid(\"()\"))   # Output: True"
   ]
  },
  {
   "cell_type": "code",
   "execution_count": null,
   "id": "63f46ac7",
   "metadata": {},
   "outputs": [
    {
     "name": "stdout",
     "output_type": "stream",
     "text": [
      "True\n"
     ]
    }
   ],
   "source": [
    "def isValid(s):\n",
    "    stack = []                          # stack to hold opening brackets\n",
    "    pairs = {')':'(', ']':'[', '}':'{'} # mapping of closing to opening\n",
    "\n",
    "    for char in s:\n",
    "        if char in '([{':               # if it's an opening bracket\n",
    "            stack.append(char)\n",
    "        else:                           # it's a closing bracket\n",
    "            if not stack or stack[-1] != pairs[char]: # not stack → means the stack is empty, no match\n",
    "                return False             # invalid if not matched\n",
    "            stack.pop()                  # remove last opening (matched pair)\n",
    "    \n",
    "    return not stack                     # valid only if stack is empty\n",
    "\n",
    "\n",
    "# Test input\n",
    "print(isValid(\"()[]{}\"))  # Output: True\n"
   ]
  },
  {
   "cell_type": "code",
   "execution_count": 29,
   "id": "15bded10",
   "metadata": {},
   "outputs": [
    {
     "name": "stdout",
     "output_type": "stream",
     "text": [
      "True\n"
     ]
    }
   ],
   "source": [
    "def isValid(s):\n",
    "    stack = []                         \n",
    "    pairs = {')':'(', ']':'[', '}':'{'} \n",
    "\n",
    "    for char in s:\n",
    "        if char in '([{':             \n",
    "            stack.append(char)\n",
    "        else:                           \n",
    "            if stack and stack[-1] == pairs[char]:              \n",
    "                stack.pop()                 \n",
    "    \n",
    "    return not stack             \n",
    "\n",
    "\n",
    "# Test input\n",
    "print(isValid(\"()[]{}\"))  "
   ]
  },
  {
   "cell_type": "markdown",
   "id": "ae232cd8",
   "metadata": {},
   "source": [
    "#### Queue"
   ]
  },
  {
   "cell_type": "code",
   "execution_count": 30,
   "id": "9c80335e",
   "metadata": {},
   "outputs": [
    {
     "name": "stdout",
     "output_type": "stream",
     "text": [
      "Initial Queue: ['A', 'B', 'C']\n",
      "Removed: A\n",
      "Removed: B\n",
      "Queue after Dequeue: ['C']\n"
     ]
    }
   ],
   "source": [
    "# Queue using list\n",
    "queue = []\n",
    "\n",
    "# Enqueue (add elements)\n",
    "queue.append('A')\n",
    "queue.append('B')\n",
    "queue.append('C')\n",
    "\n",
    "print(\"Initial Queue:\", queue)\n",
    "\n",
    "# Dequeue (remove elements)\n",
    "print(\"Removed:\", queue.pop(0))  # removes 'A'\n",
    "print(\"Removed:\", queue.pop(0))  # removes 'B'\n",
    "\n",
    "print(\"Queue after Dequeue:\", queue)\n"
   ]
  },
  {
   "cell_type": "code",
   "execution_count": null,
   "id": "fdbc260e",
   "metadata": {},
   "outputs": [
    {
     "name": "stdout",
     "output_type": "stream",
     "text": [
      "Initial Queue: deque(['A', 'B', 'C'])\n",
      "Removed: A\n",
      "Removed: B\n",
      "Queue after Dequeue: deque(['C'])\n"
     ]
    }
   ],
   "source": [
    "from collections import deque\n",
    "\n",
    "# Create an empty queue\n",
    "queue = deque()\n",
    "\n",
    "# Enqueue\n",
    "queue.append('A')\n",
    "queue.append('B')\n",
    "queue.append('C')\n",
    "print(\"Initial Queue:\", queue)\n",
    "\n",
    "# Dequeue\n",
    "print(\"Removed:\", queue.popleft())  # removes 'A'    It’s faster than list-based queue\n",
    "print(\"Removed:\", queue.popleft())  # removes 'B'\n",
    "\n",
    "print(\"Queue after Dequeue:\", queue)\n"
   ]
  },
  {
   "cell_type": "code",
   "execution_count": 32,
   "id": "7f100d6c",
   "metadata": {},
   "outputs": [
    {
     "name": "stdout",
     "output_type": "stream",
     "text": [
      "Front item: A\n",
      "Removed: A\n",
      "Queue size: 2\n",
      "Queue empty? False\n"
     ]
    }
   ],
   "source": [
    "from collections import deque\n",
    "\n",
    "class Queue:\n",
    "    def __init__(self):\n",
    "        self.queue = deque()\n",
    "    \n",
    "    def enqueue(self, item):\n",
    "        self.queue.append(item)\n",
    "    \n",
    "    def dequeue(self):\n",
    "        if not self.is_empty():\n",
    "            return self.queue.popleft()\n",
    "        return \"Queue is empty\"\n",
    "    \n",
    "    def front(self):\n",
    "        if not self.is_empty():\n",
    "            return self.queue[0]\n",
    "        return \"Queue is empty\"\n",
    "    \n",
    "    def is_empty(self):\n",
    "        return len(self.queue) == 0\n",
    "    \n",
    "    def size(self):\n",
    "        return len(self.queue)\n",
    "\n",
    "# Example use\n",
    "q = Queue()\n",
    "q.enqueue('A')\n",
    "q.enqueue('B')\n",
    "q.enqueue('C')\n",
    "print(\"Front item:\", q.front())   # A\n",
    "print(\"Removed:\", q.dequeue())    # A\n",
    "print(\"Queue size:\", q.size())    # 2\n",
    "print(\"Queue empty?\", q.is_empty())  # False\n"
   ]
  },
  {
   "cell_type": "markdown",
   "id": "8d56dfbe",
   "metadata": {},
   "source": [
    "#### Heap"
   ]
  },
  {
   "cell_type": "code",
   "execution_count": 33,
   "id": "a5ebd079",
   "metadata": {},
   "outputs": [
    {
     "name": "stdout",
     "output_type": "stream",
     "text": [
      "Heap: [1, 2, 8, 3, 5]\n",
      "Smallest element: 1\n"
     ]
    }
   ],
   "source": [
    "import heapq\n",
    "\n",
    "nums = [5, 3, 8, 1, 2]\n",
    "\n",
    "heapq.heapify(nums)  # Turn list into a Min Heap\n",
    "\n",
    "print(\"Heap:\", nums)\n",
    "\n",
    "# Get the smallest element (root)\n",
    "print(\"Smallest element:\", nums[0])\n"
   ]
  },
  {
   "cell_type": "code",
   "execution_count": 35,
   "id": "557da7cd",
   "metadata": {},
   "outputs": [
    {
     "name": "stdout",
     "output_type": "stream",
     "text": [
      "Heap after pushes: [1, 3, 7, 4]\n",
      "Removed smallest: 1\n",
      "Heap now: [3, 4, 7]\n"
     ]
    }
   ],
   "source": [
    "import heapq\n",
    "\n",
    "heap = []\n",
    "\n",
    "# Add elements\n",
    "heapq.heappush(heap, 4)\n",
    "heapq.heappush(heap, 1)\n",
    "heapq.heappush(heap, 7)\n",
    "heapq.heappush(heap, 3)\n",
    "\n",
    "print(\"Heap after pushes:\", heap)\n",
    "\n",
    "# Remove elements in order\n",
    "print(\"Removed smallest:\", heapq.heappop(heap))\n",
    "print(\"Heap now:\", heap)\n"
   ]
  },
  {
   "cell_type": "code",
   "execution_count": 36,
   "id": "ce56c02c",
   "metadata": {},
   "outputs": [
    {
     "name": "stdout",
     "output_type": "stream",
     "text": [
      "Max value: 8\n"
     ]
    }
   ],
   "source": [
    "import heapq\n",
    "\n",
    "nums = [5, 3, 8, 1, 2]\n",
    "max_heap = []\n",
    "\n",
    "# Push negative values\n",
    "for num in nums:\n",
    "    heapq.heappush(max_heap, -num)\n",
    "\n",
    "# Pop (and convert back to positive)\n",
    "print(\"Max value:\", -heapq.heappop(max_heap))\n"
   ]
  },
  {
   "cell_type": "code",
   "execution_count": 38,
   "id": "7e461825",
   "metadata": {},
   "outputs": [
    {
     "name": "stdout",
     "output_type": "stream",
     "text": [
      "Sorted numbers: [1, 2, 3, 5, 8]\n"
     ]
    }
   ],
   "source": [
    "import heapq\n",
    "\n",
    "nums = [5, 1, 8, 3, 2]\n",
    "heapq.heapify(nums)\n",
    "\n",
    "sorted_nums = [heapq.heappop(nums) for i in range(len(nums))]\n",
    "print(\"Sorted numbers:\", sorted_nums)\n"
   ]
  },
  {
   "cell_type": "code",
   "execution_count": 41,
   "id": "af4e1160",
   "metadata": {},
   "outputs": [
    {
     "data": {
      "text/plain": [
       "5"
      ]
     },
     "execution_count": 41,
     "metadata": {},
     "output_type": "execute_result"
    }
   ],
   "source": [
    "import heapq\n",
    "\n",
    "def findKthLargest(nums, k):\n",
    "    min_heap = []\n",
    "\n",
    "    for num in nums:\n",
    "        heapq.heappush(min_heap, num)   # push number into heap\n",
    "        if len(min_heap) > k:           # if heap size > k\n",
    "            heapq.heappop(min_heap)     # remove smallest\n",
    "    \n",
    "    return min_heap[0]                  # root of heap is kth largest\n",
    "findKthLargest([3,2,1,5,6,4],2)"
   ]
  },
  {
   "cell_type": "code",
   "execution_count": 2,
   "id": "affede4d",
   "metadata": {},
   "outputs": [
    {
     "name": "stdout",
     "output_type": "stream",
     "text": [
      "5\n"
     ]
    }
   ],
   "source": [
    "# another approach\n",
    "def findKthLargest(nums, k):\n",
    "    # Sort array in descending order\n",
    "    nums.sort(reverse=True)\n",
    "    # Return the kth largest\n",
    "    return nums[k-1]\n",
    "\n",
    "# Example\n",
    "nums = [3,2,1,5,6,4]\n",
    "k = 2\n",
    "print(findKthLargest(nums, k))  # Output: 5"
   ]
  },
  {
   "cell_type": "markdown",
   "id": "eccfcbff",
   "metadata": {},
   "source": [
    "#### Linked list"
   ]
  },
  {
   "cell_type": "code",
   "execution_count": null,
   "id": "5affb34d",
   "metadata": {},
   "outputs": [
    {
     "name": "stdout",
     "output_type": "stream",
     "text": [
      "20 -> 10 -> None\n",
      "30 -> 20 -> 10 -> None\n"
     ]
    }
   ],
   "source": [
    "# # Add the beginning of linked list\n",
    "# class Node:\n",
    "#     def __init__(self,data):\n",
    "#         self.data=data\n",
    "#         self.next=None\n",
    "# class LinkedList:\n",
    "#     def __init__(self):\n",
    "#         self.head=None\n",
    "#     def insert_at_beginning(self,data):\n",
    "#         new_node=Node(data)\n",
    "#         new_node.next=self.head\n",
    "#         self.head=new_node\n",
    "#     def display(self):\n",
    "#         current=self.head\n",
    "#         while current:\n",
    "#             print(current.data,end=\" -> \")\n",
    "#             current=current.next\n",
    "#         print(\"None\")\n",
    "# mylinkedlist=LinkedList()\n",
    "# mylinkedlist.insert_at_beginning(10)\n",
    "# mylinkedlist.insert_at_beginning(20)\n",
    "# mylinkedlist.display()\n",
    "# mylinkedlist.insert_at_beginning(30)\n",
    "# mylinkedlist.display()"
   ]
  },
  {
   "cell_type": "code",
   "execution_count": null,
   "id": "4499d00c",
   "metadata": {},
   "outputs": [
    {
     "name": "stdout",
     "output_type": "stream",
     "text": [
      "10 -> 20 -> 30 -> None\n"
     ]
    }
   ],
   "source": [
    "# class Node:\n",
    "#     def __init__(self, data):\n",
    "#         self.data = data\n",
    "#         self.next = None\n",
    "\n",
    "\n",
    "# class LinkedList:\n",
    "#     def __init__(self):\n",
    "#         self.head = None\n",
    "\n",
    "#     def insert_at_end(self, data):\n",
    "#         new_node = Node(data)\n",
    "\n",
    "#         # If list is empty, new node becomes the head\n",
    "#         if self.head is None:\n",
    "#             self.head = new_node\n",
    "#             return\n",
    "\n",
    "#         # Otherwise, traverse to the end\n",
    "#         current = self.head\n",
    "#         while current.next:\n",
    "#             current = current.next\n",
    "\n",
    "#         # Link the last node to the new node\n",
    "#         current.next = new_node\n",
    "\n",
    "#     def display(self):\n",
    "#         current = self.head\n",
    "#         while current:\n",
    "#             print(current.data, end=\" -> \")\n",
    "#             current = current.next\n",
    "#         print(\"None\")\n",
    "\n",
    "\n",
    "# # Create LinkedList and insert data\n",
    "# mylinkedlist = LinkedList()\n",
    "# mylinkedlist.insert_at_end(10)\n",
    "# mylinkedlist.insert_at_end(20)\n",
    "# mylinkedlist.insert_at_end(30)\n",
    "\n",
    "# # Display list\n",
    "# mylinkedlist.display()\n"
   ]
  },
  {
   "cell_type": "code",
   "execution_count": null,
   "id": "cea4b586",
   "metadata": {},
   "outputs": [
    {
     "name": "stdout",
     "output_type": "stream",
     "text": [
      "True\n",
      "5 -> 20 -> 25 -> 30 -> None\n"
     ]
    }
   ],
   "source": [
    "class Node:\n",
    "    def __init__(self, data):\n",
    "        self.data = data\n",
    "        self.next = None\n",
    "\n",
    "\n",
    "class LinkedList:\n",
    "    def __init__(self):\n",
    "        self.head = None\n",
    "\n",
    "    def insert_at_beginning(self,data):\n",
    "        new_node=Node(data)\n",
    "        new_node.next=self.head\n",
    "        self.head=new_node\n",
    "    def insert_at_end(self, data):\n",
    "        new_node = Node(data)\n",
    "        if not self.head:\n",
    "            self.head = new_node\n",
    "            return\n",
    "        current = self.head\n",
    "        while current.next:\n",
    "            current = current.next\n",
    "        current.next = new_node\n",
    "\n",
    "\n",
    "    def insert_after_node(self, target_node, data):\n",
    "        new_node = Node(data)\n",
    "        current = self.head\n",
    "        while current:\n",
    "            if current.data == target_node:\n",
    "                new_node.next = current.next\n",
    "                current.next = new_node\n",
    "                return\n",
    "            current = current.next\n",
    "\n",
    "\n",
    "    def delete_node(self, target_data):\n",
    "        if not self.head:\n",
    "            return\n",
    "        if self.head.data == target_data:\n",
    "            self.head = self.head.next\n",
    "            return\n",
    "        current = self.head\n",
    "        while current.next:\n",
    "            if current.next.data == target_data:\n",
    "                current.next = current.next.next\n",
    "                return\n",
    "            current = current.next\n",
    "\n",
    "\n",
    "    def search(self, target_data):\n",
    "        current = self.head\n",
    "        while current:\n",
    "            if current.data == target_data:\n",
    "                return True\n",
    "            current = current.next\n",
    "        return False\n",
    "\n",
    "\n",
    "    def display(self):\n",
    "        current = self.head\n",
    "        while current:\n",
    "            print(current.data, end=\" -> \")\n",
    "            current = current.next\n",
    "        print(\"None\")\n",
    "\n",
    "mylinkedlist = LinkedList()\n",
    "mylinkedlist.insert_at_end(10)\n",
    "mylinkedlist.insert_at_end(20)\n",
    "mylinkedlist.insert_at_end(30)\n",
    "mylinkedlist.insert_at_beginning(5)\n",
    "mylinkedlist.insert_after_node(20, 25)\n",
    "mylinkedlist.delete_node(10)\n",
    "print(mylinkedlist.search(25))  # Returns True\n",
    "\n",
    "# Display list\n",
    "mylinkedlist.display()"
   ]
  },
  {
   "cell_type": "code",
   "execution_count": 35,
   "id": "2f0db03e",
   "metadata": {},
   "outputs": [
    {
     "name": "stdout",
     "output_type": "stream",
     "text": [
      "1 -> 1 -> 2 -> 3 -> 3 -> None\n",
      "1 -> 2 -> 3 -> None\n"
     ]
    }
   ],
   "source": [
    "class Node:\n",
    "    def __init__(self, data):\n",
    "        self.data = data\n",
    "        self.next = None\n",
    "\n",
    "\n",
    "class LinkedList:\n",
    "    def __init__(self):\n",
    "        self.head = None\n",
    "    def insert_at_end(self, data):\n",
    "        new_node = Node(data)\n",
    "        if not self.head:\n",
    "            self.head = new_node\n",
    "            return\n",
    "        current = self.head\n",
    "        while current.next:\n",
    "            current = current.next\n",
    "        current.next = new_node\n",
    "    def delete_duplicates(self):\n",
    "        current = self.head\n",
    "        while current and current.next:\n",
    "            if current.data == current.next.data:\n",
    "                current.next = current.next.next\n",
    "            current = current.next\n",
    "    def display(self):\n",
    "        current = self.head\n",
    "        while current:\n",
    "            print(current.data, end=\" -> \")\n",
    "            current = current.next\n",
    "        print(\"None\")\n",
    "mylinkedlist=LinkedList()\n",
    "mylinkedlist.insert_at_end(1)\n",
    "mylinkedlist.insert_at_end(1)\n",
    "mylinkedlist.insert_at_end(2)\n",
    "mylinkedlist.insert_at_end(3)\n",
    "mylinkedlist.insert_at_end(3)\n",
    "mylinkedlist.display()\n",
    "mylinkedlist.delete_duplicates()\n",
    "mylinkedlist.display()\n"
   ]
  },
  {
   "cell_type": "code",
   "execution_count": 36,
   "id": "ff63f166",
   "metadata": {},
   "outputs": [
    {
     "name": "stdout",
     "output_type": "stream",
     "text": [
      "True\n",
      "5 -> 20 -> 25 -> 30 -> None\n"
     ]
    }
   ],
   "source": [
    "class Node:\n",
    "    def __init__(self, data):\n",
    "        self.data = data\n",
    "        self.next = None\n",
    "\n",
    "\n",
    "class LinkedList:\n",
    "    def __init__(self):\n",
    "        self.head = None\n",
    "\n",
    "    # Insert a new node at the beginning\n",
    "    def insert_at_beginning(self, data):\n",
    "        new_node = Node(data)\n",
    "        new_node.next = self.head\n",
    "        self.head = new_node\n",
    "\n",
    "    # Insert a new node at the end\n",
    "    def insert_at_end(self, data):\n",
    "        new_node = Node(data)\n",
    "        if not self.head:  # If list is empty\n",
    "            self.head = new_node\n",
    "            return\n",
    "        current = self.head\n",
    "        while current and current.next:  # ✅ Safe traversal\n",
    "            current = current.next\n",
    "        current.next = new_node\n",
    "\n",
    "    # Insert a new node after a specific node (by data)\n",
    "    def insert_after_node(self, target_node, data):\n",
    "        new_node = Node(data)\n",
    "        current = self.head\n",
    "        while current:  # ✅ only need current check (no next access here)\n",
    "            if current.data == target_node:\n",
    "                new_node.next = current.next\n",
    "                current.next = new_node\n",
    "                return\n",
    "            current = current.next\n",
    "\n",
    "    # Delete a node by its data\n",
    "    def delete_node(self, target_data):\n",
    "        if not self.head:  # ✅ empty list check\n",
    "            return\n",
    "\n",
    "        if self.head.data == target_data:  # ✅ deleting head node\n",
    "            self.head = self.head.next\n",
    "            return\n",
    "\n",
    "        current = self.head\n",
    "        while current and current.next:  # ✅ Safe traversal\n",
    "            if current.next.data == target_data:\n",
    "                current.next = current.next.next  # skip target node\n",
    "                return\n",
    "            current = current.next\n",
    "\n",
    "    # Search for a node by its data\n",
    "    def search(self, target_data):\n",
    "        current = self.head\n",
    "        while current:  # ✅ safe, because we check only current\n",
    "            if current.data == target_data:\n",
    "                return True\n",
    "            current = current.next\n",
    "        return False\n",
    "\n",
    "    # Display all nodes\n",
    "    def display(self):\n",
    "        current = self.head\n",
    "        while current:  # ✅ safe\n",
    "            print(current.data, end=\" -> \")\n",
    "            current = current.next\n",
    "        print(\"None\")\n",
    "\n",
    "\n",
    "# ✅ Example usage\n",
    "mylinkedlist = LinkedList()\n",
    "mylinkedlist.insert_at_end(10)\n",
    "mylinkedlist.insert_at_end(20)\n",
    "mylinkedlist.insert_at_end(30)\n",
    "mylinkedlist.insert_at_beginning(5)\n",
    "mylinkedlist.insert_after_node(20, 25)\n",
    "mylinkedlist.delete_node(10)\n",
    "print(mylinkedlist.search(25))  # True\n",
    "\n",
    "# Display the list\n",
    "mylinkedlist.display()\n"
   ]
  }
 ],
 "metadata": {
  "kernelspec": {
   "display_name": ".venv (3.12.8)",
   "language": "python",
   "name": "python3"
  },
  "language_info": {
   "codemirror_mode": {
    "name": "ipython",
    "version": 3
   },
   "file_extension": ".py",
   "mimetype": "text/x-python",
   "name": "python",
   "nbconvert_exporter": "python",
   "pygments_lexer": "ipython3",
   "version": "3.12.8"
  }
 },
 "nbformat": 4,
 "nbformat_minor": 5
}
