{
 "cells": [
  {
   "cell_type": "markdown",
   "id": "cfbd115f",
   "metadata": {},
   "source": [
    "#### Operator Precedence Rules\n",
    "#### Parenthesis, Power, Multiplication, Devision, Remainder, Addition, Subtraction, Left to Right\n"
   ]
  },
  {
   "cell_type": "code",
   "execution_count": null,
   "id": "7fa19dc2",
   "metadata": {},
   "outputs": [],
   "source": [
    "#  Integer division produces a floating point result\n",
    "print(10/2)"
   ]
  },
  {
   "cell_type": "code",
   "execution_count": 5,
   "id": "0c8cb862",
   "metadata": {},
   "outputs": [
    {
     "name": "stdout",
     "output_type": "stream",
     "text": [
      "US floor 6\n"
     ]
    }
   ],
   "source": [
    "# Convert elevator floors\n",
    "inp = input('Europe floor?')\n",
    "usf = int(inp) + 1\n",
    "print('US floor', usf)"
   ]
  },
  {
   "cell_type": "code",
   "execution_count": 1,
   "id": "8096c2b8",
   "metadata": {},
   "outputs": [
    {
     "name": "stdout",
     "output_type": "stream",
     "text": [
      "Your username is abid2243\n",
      "Your password is dkfkf\n"
     ]
    }
   ],
   "source": [
    "username=input(\"Enter your username:\")\n",
    "password=input(\"Enter your password:\")\n",
    "print(f\"Your username is {username}\")\n",
    "print(f\"Your password is {password}\")"
   ]
  },
  {
   "cell_type": "code",
   "execution_count": 3,
   "id": "c40c218a",
   "metadata": {},
   "outputs": [
    {
     "name": "stdout",
     "output_type": "stream",
     "text": [
      "2.5\n"
     ]
    }
   ],
   "source": [
    "print(5/2)"
   ]
  },
  {
   "cell_type": "code",
   "execution_count": 2,
   "id": "6b2673c3",
   "metadata": {},
   "outputs": [
    {
     "name": "stdout",
     "output_type": "stream",
     "text": [
      "welcome\n"
     ]
    }
   ],
   "source": [
    "pass_word=input(\"Enter your password\")\n",
    "if pass_word !=\"abid123\":\n",
    "    print(\"wrong password\")\n",
    "    quit\n",
    "print(\"welcome\")"
   ]
  },
  {
   "cell_type": "code",
   "execution_count": 1,
   "id": "45645a3c",
   "metadata": {},
   "outputs": [
    {
     "name": "stdout",
     "output_type": "stream",
     "text": [
      "Goodbye!\n"
     ]
    }
   ],
   "source": [
    "while True:\n",
    "    cmd=input(\"type 'exit' to quit: \")\n",
    "    if cmd == \"exit\":\n",
    "        print(\"Goodbye!\")\n",
    "        break\n",
    "    print(\"you typed\",cmd)"
   ]
  },
  {
   "cell_type": "code",
   "execution_count": 9,
   "id": "e5e9d15e",
   "metadata": {},
   "outputs": [
    {
     "name": "stdout",
     "output_type": "stream",
     "text": [
      "Hello abid\n"
     ]
    }
   ],
   "source": [
    "while True:\n",
    "    name=input(\"Enter your name:\")\n",
    "    if name == \"exit\":\n",
    "        print(\"Goodbye\")\n",
    "        break\n",
    "    print(\"Hello\",name)\n",
    "    break"
   ]
  },
  {
   "cell_type": "code",
   "execution_count": 2,
   "id": "ca740f1d",
   "metadata": {},
   "outputs": [
    {
     "name": "stdout",
     "output_type": "stream",
     "text": [
      "Access granted\n"
     ]
    }
   ],
   "source": [
    "password=\"\"\n",
    "while password !=\"abid123\":\n",
    "    password=input(\"Enter your password:\")\n",
    "print(\"Access granted\")"
   ]
  },
  {
   "cell_type": "code",
   "execution_count": 12,
   "id": "7bde6917",
   "metadata": {},
   "outputs": [
    {
     "name": "stdout",
     "output_type": "stream",
     "text": [
      "Equals 5\n",
      "Greater than 4\n",
      "Greater than or Equals 5\n",
      "Less than 6\n",
      "Less than or Equals 5\n",
      "Not equal 6\n"
     ]
    }
   ],
   "source": [
    "x = 5\n",
    "if x == 5 : \n",
    "    print('Equals 5')\n",
    "if x > 4 : \n",
    "    print('Greater than 4')\n",
    "if x >= 5 :\n",
    "    print('Greater than or Equals 5')\n",
    "if x < 6 :\n",
    "    print('Less than 6') \n",
    "if x <= 5 :\n",
    "    print('Less than or Equals 5')\n",
    "if x != 6 :\n",
    "    print('Not equal 6')"
   ]
  },
  {
   "cell_type": "markdown",
   "id": "dd16df5f",
   "metadata": {},
   "source": [
    "#### Try & accept"
   ]
  },
  {
   "cell_type": "code",
   "execution_count": 13,
   "id": "17dfeb39",
   "metadata": {},
   "outputs": [
    {
     "name": "stdout",
     "output_type": "stream",
     "text": [
      "First -1\n"
     ]
    }
   ],
   "source": [
    "astr = 'Hello Bob'\n",
    "try:\n",
    "    istr = int(astr)\n",
    "except:\n",
    "    istr = -1\n",
    "print('First', istr)"
   ]
  },
  {
   "cell_type": "code",
   "execution_count": 14,
   "id": "6c0ed33c",
   "metadata": {},
   "outputs": [
    {
     "name": "stdout",
     "output_type": "stream",
     "text": [
      "Second 123\n"
     ]
    }
   ],
   "source": [
    "astr = '123'\n",
    "try:\n",
    "    istr = int(astr)\n",
    "except:\n",
    "    istr = -1\n",
    "print('Second', istr)"
   ]
  },
  {
   "cell_type": "code",
   "execution_count": 15,
   "id": "f9acab49",
   "metadata": {},
   "outputs": [
    {
     "name": "stdout",
     "output_type": "stream",
     "text": [
      "Hello\n",
      "Done -1\n"
     ]
    }
   ],
   "source": [
    "astr = 'Bob'\n",
    "try:\n",
    "    print('Hello') \n",
    "    istr = int(astr)\n",
    "    print('There') \n",
    "except:\n",
    "    istr = -1\n",
    "print('Done', istr)"
   ]
  },
  {
   "cell_type": "code",
   "execution_count": 5,
   "id": "1db0a843",
   "metadata": {},
   "outputs": [
    {
     "name": "stdout",
     "output_type": "stream",
     "text": [
      "Not a number\n"
     ]
    }
   ],
   "source": [
    "rawstr = input('Enter a number:')\n",
    "try: \n",
    "    ival = int(rawstr)\n",
    "except: \n",
    "    ival = -1\n",
    "if ival > 0 :  \n",
    "    print('Nice work')\n",
    "else:  \n",
    "    print('Not a number')"
   ]
  },
  {
   "cell_type": "code",
   "execution_count": 18,
   "id": "2aa54c0c",
   "metadata": {},
   "outputs": [
    {
     "name": "stdout",
     "output_type": "stream",
     "text": [
      "5\n",
      "4\n",
      "3\n",
      "2\n",
      "1\n",
      "Blastoff!\n",
      "0\n"
     ]
    }
   ],
   "source": [
    "n = 5\n",
    "while n > 0 :\n",
    "    print(n)\n",
    "    n = n-1\n",
    "print('Blastoff!')\n",
    "print(n)"
   ]
  },
  {
   "cell_type": "code",
   "execution_count": null,
   "id": "b17405d7",
   "metadata": {},
   "outputs": [],
   "source": [
    "#INfinite loop\n",
    "# n = 5\n",
    "# while n > 0 :\n",
    "#     print('Lather')\n",
    "#     print('Rinse')\n",
    "# print('Dry off!')"
   ]
  },
  {
   "cell_type": "code",
   "execution_count": 1,
   "id": "832cd0fe",
   "metadata": {},
   "outputs": [
    {
     "name": "stdout",
     "output_type": "stream",
     "text": [
      "Dry off!\n"
     ]
    }
   ],
   "source": [
    "n = 0\n",
    "while n > 0 :\n",
    "    print('Lather')\n",
    "    print('Rinse')\n",
    "print('Dry off!')"
   ]
  },
  {
   "cell_type": "code",
   "execution_count": 6,
   "id": "f13471e4",
   "metadata": {},
   "outputs": [
    {
     "name": "stdout",
     "output_type": "stream",
     "text": [
      "hello there\n",
      "hello there\n",
      "Done!\n"
     ]
    }
   ],
   "source": [
    "\"\"\"\n",
    "> hello there\n",
    " hello there\n",
    " > # don't print this\n",
    " > print this!\n",
    " print this!\n",
    " > done\n",
    " Done!\n",
    "\"\"\"\n",
    "while True:\n",
    "    line = input('> ')\n",
    "    if line[0] == '#' :\n",
    "        continue\n",
    "    if line == 'done' :\n",
    "        break\n",
    "    print(line)\n",
    "print('Done!')"
   ]
  },
  {
   "cell_type": "code",
   "execution_count": 5,
   "id": "6d9a80c5",
   "metadata": {},
   "outputs": [
    {
     "name": "stdout",
     "output_type": "stream",
     "text": [
      "Before -1\n",
      "9 9\n",
      "41 41\n",
      "41 12\n",
      "41 3\n",
      "74 74\n",
      "74 15\n",
      "After 74\n"
     ]
    }
   ],
   "source": [
    "#finding largest value\n",
    "largest_so_far = -1\n",
    "print('Before', largest_so_far)\n",
    "for the_num in [9, 41, 12, 3, 74, 15] :\n",
    "    if the_num > largest_so_far :\n",
    "        largest_so_far = the_num\n",
    "    print(largest_so_far, the_num)\n",
    "print('After', largest_so_far)"
   ]
  },
  {
   "cell_type": "code",
   "execution_count": 3,
   "id": "b13a7596",
   "metadata": {},
   "outputs": [
    {
     "name": "stdout",
     "output_type": "stream",
     "text": [
      "9 9\n",
      "41 41\n",
      "41 12\n",
      "41 3\n",
      "74 74\n",
      "74 15\n",
      "now max value 74\n"
     ]
    }
   ],
   "source": [
    "thislist=[9, 41, 12, 3, 74, 15]\n",
    "max_value=thislist[0]\n",
    "for value in thislist:\n",
    "    if value>max_value:\n",
    "        max_value=value\n",
    "    print(max_value,value)\n",
    "print(f\"now max value {max_value}\")"
   ]
  },
  {
   "cell_type": "code",
   "execution_count": 4,
   "id": "e2240147",
   "metadata": {},
   "outputs": [
    {
     "name": "stdout",
     "output_type": "stream",
     "text": [
      "9 9\n",
      "9 41\n",
      "9 12\n",
      "3 3\n",
      "3 74\n",
      "3 15\n",
      "Now min value 3\n"
     ]
    }
   ],
   "source": [
    "thislist=[9, 41, 12, 3, 74, 15]\n",
    "min_value=thislist[0]\n",
    "for value in thislist:\n",
    "    if value<min_value:\n",
    "        min_value=value\n",
    "    print(min_value,value)\n",
    "print(f\"Now min value {min_value}\")"
   ]
  },
  {
   "cell_type": "code",
   "execution_count": 6,
   "id": "e349dab1",
   "metadata": {},
   "outputs": [
    {
     "name": "stdout",
     "output_type": "stream",
     "text": [
      "Before 0\n",
      "1 9\n",
      "2 41\n",
      "3 12\n",
      "4 3\n",
      "5 74\n",
      "6 15\n",
      "After 6\n"
     ]
    }
   ],
   "source": [
    "# Counting in a Loop\n",
    "zork = 0\n",
    "print('Before', zork)\n",
    "for thing in [9, 41, 12, 3, 74, 15] :\n",
    "    zork = zork + 1\n",
    "    print(zork, thing)\n",
    "print('After', zork)"
   ]
  },
  {
   "cell_type": "code",
   "execution_count": 10,
   "id": "32a73ab0",
   "metadata": {},
   "outputs": [
    {
     "name": "stdout",
     "output_type": "stream",
     "text": [
      "Total No 9\n",
      "Total No 50\n",
      "Total No 62\n",
      "Total No 65\n",
      "Total No 139\n",
      "Total No 154\n",
      "Average: 25.666666666666668\n",
      "25\n"
     ]
    },
    {
     "data": {
      "text/plain": [
       "26"
      ]
     },
     "execution_count": 10,
     "metadata": {},
     "output_type": "execute_result"
    }
   ],
   "source": [
    "# Finding the Average in a Loop\n",
    "import math\n",
    "total=0\n",
    "count=0\n",
    "for i in [9,41,12,3,74,15]:\n",
    "    count=count+1\n",
    "    total=total+i\n",
    "    print(\"Total No\",total)\n",
    "print(f\"Average: {total/count}\")\n",
    "print(total//count)\n",
    "math.ceil(total/count)"
   ]
  },
  {
   "cell_type": "code",
   "execution_count": 13,
   "id": "029c2831",
   "metadata": {},
   "outputs": [
    {
     "name": "stdout",
     "output_type": "stream",
     "text": [
      "Before\n",
      "large_value: 41\n",
      "large_value: 74\n",
      "After\n"
     ]
    }
   ],
   "source": [
    "#Filtering in a Loop\n",
    "print('Before')\n",
    "for value in [9, 41, 12, 3, 74, 15] :\n",
    "    if value > 20:\n",
    "        print ('large_value:', value)\n",
    "print('After')"
   ]
  },
  {
   "cell_type": "code",
   "execution_count": 15,
   "id": "29a96bd0",
   "metadata": {},
   "outputs": [
    {
     "name": "stdout",
     "output_type": "stream",
     "text": [
      "[41, 74]\n"
     ]
    }
   ],
   "source": [
    "print([value for value in [9,41,12,3,74,15] if value>20])"
   ]
  },
  {
   "cell_type": "code",
   "execution_count": 16,
   "id": "7e0621da",
   "metadata": {},
   "outputs": [
    {
     "name": "stdout",
     "output_type": "stream",
     "text": [
      "Before False\n",
      "False 9\n",
      "False 41\n",
      "False 12\n",
      "True 3\n",
      "True 74\n",
      "True 15\n",
      "After True\n"
     ]
    }
   ],
   "source": [
    "found = False\n",
    "print('Before', found)\n",
    "for value in [9, 41, 12, 3, 74, 15] : \n",
    "    if value == 3 :\n",
    "        found = True\n",
    "    print(found, value)\n",
    "print('After', found)"
   ]
  },
  {
   "cell_type": "code",
   "execution_count": 20,
   "id": "9c9e033e",
   "metadata": {},
   "outputs": [
    {
     "name": "stdout",
     "output_type": "stream",
     "text": [
      "Befor None\n",
      "9 9\n",
      "9 41\n",
      "9 12\n",
      "3 3\n",
      "3 74\n",
      "3 15\n",
      "After  3\n"
     ]
    }
   ],
   "source": [
    "smallest_value=None\n",
    "print(\"Befor\",smallest_value)\n",
    "for value in [9,41,12,3,74,15]:\n",
    "    if smallest_value is None:\n",
    "        smallest_value=value\n",
    "    elif value<smallest_value:\n",
    "        smallest_value=value\n",
    "    print(smallest_value,value)\n",
    "print(\"After \",smallest_value)"
   ]
  },
  {
   "cell_type": "code",
   "execution_count": 21,
   "id": "351ed298",
   "metadata": {},
   "outputs": [
    {
     "name": "stdout",
     "output_type": "stream",
     "text": [
      "3\n"
     ]
    }
   ],
   "source": [
    "print(min([9,41,12,3,74,15]))"
   ]
  },
  {
   "cell_type": "code",
   "execution_count": 8,
   "id": "6846d1fc",
   "metadata": {},
   "outputs": [
    {
     "name": "stdout",
     "output_type": "stream",
     "text": [
      "1 b\n",
      "2 a\n",
      "3 n\n",
      "4 a\n",
      "5 n\n",
      "6 a\n"
     ]
    }
   ],
   "source": [
    "fruit=\"banana\"\n",
    "index=0\n",
    "for i in fruit:\n",
    "    index+=1\n",
    "    print(index,i)"
   ]
  },
  {
   "cell_type": "code",
   "execution_count": 9,
   "id": "0c0630b2",
   "metadata": {},
   "outputs": [
    {
     "name": "stdout",
     "output_type": "stream",
     "text": [
      "b\n",
      "a\n",
      "n\n",
      "a\n",
      "n\n",
      "a\n"
     ]
    }
   ],
   "source": [
    "index=0\n",
    "while index<len(fruit):\n",
    "    letter=fruit[index]\n",
    "    print(letter)\n",
    "    index+=1\n"
   ]
  },
  {
   "cell_type": "code",
   "execution_count": 24,
   "id": "3db39413",
   "metadata": {},
   "outputs": [
    {
     "name": "stdout",
     "output_type": "stream",
     "text": [
      "b\n",
      "a\n",
      "n\n",
      "a\n",
      "n\n",
      "a\n"
     ]
    }
   ],
   "source": [
    "index=0\n",
    "for i in range(len(fruit)):\n",
    "    print(fruit[i])\n",
    "    \n",
    "    \n",
    "    "
   ]
  },
  {
   "cell_type": "code",
   "execution_count": 27,
   "id": "d53f0f1e",
   "metadata": {},
   "outputs": [
    {
     "name": "stdout",
     "output_type": "stream",
     "text": [
      "total a: 3\n"
     ]
    }
   ],
   "source": [
    "word=\"banana\"\n",
    "count=0\n",
    "for i in word:\n",
    "    if i ==\"a\":\n",
    "        count+=1\n",
    "print(\"total a:\",count)"
   ]
  },
  {
   "cell_type": "code",
   "execution_count": 31,
   "id": "637168a0",
   "metadata": {},
   "outputs": [
    {
     "name": "stdout",
     "output_type": "stream",
     "text": [
      "Your word,cherry, comes after banana.\n"
     ]
    }
   ],
   "source": [
    "# Lower case>upper case, z>Z, a<A, \n",
    "#Checks if word comes before \"banana\" alphabetically (dictionary order). banana>apple\n",
    "word=\"cherry\"\n",
    "if word == 'banana':\n",
    "    print('All right, bananas.')\n",
    "elif word < 'banana':\n",
    "    print('Your word,' + word + ', comes before banana.')\n",
    "elif word > 'banana':\n",
    "    print('Your word,' + word + ', comes after banana.')\n",
    "else:\n",
    "    print('All right, bananas.')\n",
    "\n"
   ]
  },
  {
   "cell_type": "code",
   "execution_count": 33,
   "id": "86b286ef",
   "metadata": {},
   "outputs": [
    {
     "data": {
      "text/plain": [
       "'Hello Bob'"
      ]
     },
     "execution_count": 33,
     "metadata": {},
     "output_type": "execute_result"
    }
   ],
   "source": [
    "greet = '   Hello Bob  '\n",
    "greet.lstrip()\n",
    "greet.rstrip()\n",
    "greet.strip()"
   ]
  },
  {
   "cell_type": "code",
   "execution_count": 40,
   "id": "dad961a2",
   "metadata": {},
   "outputs": [
    {
     "name": "stdout",
     "output_type": "stream",
     "text": [
      "21\n",
      "31\n",
      "uct.ac.za\n"
     ]
    }
   ],
   "source": [
    "#Parsing and Extracting\n",
    "data = 'From stephen.marquard@uct.ac.za Sat Jan  5 09:14:16 2008'\n",
    "x=data.find(\"@\") \n",
    "print(x)\n",
    "y=data.find(' ',x)\n",
    "print(y)\n",
    "result=data[x+1:y]\n",
    "print(result)\n"
   ]
  },
  {
   "cell_type": "code",
   "execution_count": 43,
   "id": "d409ad75",
   "metadata": {},
   "outputs": [
    {
     "name": "stdout",
     "output_type": "stream",
     "text": [
      "Hey,My name is Abid Rasel.\n",
      "\n",
      "I am from Chapainawabganj,\n",
      "\n",
      "but currently live in Savar,Dhaka\n"
     ]
    }
   ],
   "source": [
    "xfile = open(r'D:\\ML Course\\Abid.txt')\n",
    "for cheese in xfile:\n",
    "    print(cheese)\n"
   ]
  },
  {
   "cell_type": "code",
   "execution_count": 12,
   "id": "970f2c32",
   "metadata": {},
   "outputs": [
    {
     "name": "stdout",
     "output_type": "stream",
     "text": [
      "Line Count: 5\n"
     ]
    }
   ],
   "source": [
    "fhand = open(r'D:\\ML Course\\Abid.txt')\n",
    "count = 0\n",
    "for line in fhand:\n",
    "    count = count + 1\n",
    "print('Line Count:', count)"
   ]
  },
  {
   "cell_type": "code",
   "execution_count": 47,
   "id": "41d086c8",
   "metadata": {},
   "outputs": [
    {
     "name": "stdout",
     "output_type": "stream",
     "text": [
      "87\n",
      "Hey,My name is Abid \n"
     ]
    }
   ],
   "source": [
    "fhand = open(r'D:\\ML Course\\Abid.txt')\n",
    "inp = fhand.read()\n",
    "print(len(inp))\n",
    "print(inp[:20])"
   ]
  },
  {
   "cell_type": "code",
   "execution_count": 51,
   "id": "adc5729c",
   "metadata": {},
   "outputs": [
    {
     "name": "stdout",
     "output_type": "stream",
     "text": [
      "From: Chapainawabganj to dhaka\n"
     ]
    }
   ],
   "source": [
    "fhand = open(r'D:\\ML Course\\Abid.txt')\n",
    "for line in fhand:\n",
    "    if line.startswith('From:') :\n",
    "        print(line)"
   ]
  },
  {
   "cell_type": "code",
   "execution_count": 54,
   "id": "3a2a4235",
   "metadata": {},
   "outputs": [
    {
     "name": "stdout",
     "output_type": "stream",
     "text": [
      "Hey,My name is Abid Rasel.\n",
      "I am from Chapainawabganj,\n",
      "but currently live in Savar,Dhaka\n",
      "From: Chapainawabganj to dhaka\n"
     ]
    }
   ],
   "source": [
    "fhand = open(r'D:\\ML Course\\Abid.txt')\n",
    "for line in fhand:\n",
    "    line = line.rstrip()\n",
    "    print(line)"
   ]
  },
  {
   "cell_type": "code",
   "execution_count": 59,
   "id": "7208ee14",
   "metadata": {},
   "outputs": [
    {
     "name": "stdout",
     "output_type": "stream",
     "text": [
      "Hey,My name is Abid Rasel.\n",
      "I am from Chapainawabganj,\n",
      "but currently live in Savar,Dhaka\n"
     ]
    }
   ],
   "source": [
    "fhand = open(r'D:\\ML Course\\Abid.txt')\n",
    "for line in fhand:\n",
    "    line = line.rstrip()\n",
    "    if line.startswith('From:') :\n",
    "        continue\n",
    "    print(line)\n"
   ]
  },
  {
   "cell_type": "code",
   "execution_count": 61,
   "id": "4bd07fdb",
   "metadata": {},
   "outputs": [
    {
     "name": "stdout",
     "output_type": "stream",
     "text": [
      "Hey,My name is Abid Rasel.\n",
      "I am from Chapainawabganj,\n",
      "From: Chapainawabganj to dhaka\n"
     ]
    }
   ],
   "source": [
    "fhand = open(r'D:\\ML Course\\Abid.txt')\n",
    "for line in fhand:\n",
    "    line = line.rstrip()\n",
    "    if \"Savar,Dhaka\" in line :\n",
    "        continue\n",
    "    print(line)"
   ]
  },
  {
   "cell_type": "code",
   "execution_count": 62,
   "id": "50ca3a76",
   "metadata": {},
   "outputs": [
    {
     "name": "stdout",
     "output_type": "stream",
     "text": [
      "but currently live in Savar,Dhaka\n"
     ]
    }
   ],
   "source": [
    "fhand = open(r'D:\\ML Course\\Abid.txt')\n",
    "for line in fhand:\n",
    "    line = line.rstrip()\n",
    "    if not \"Savar,Dhaka\" in line :\n",
    "        continue\n",
    "    print(line)"
   ]
  },
  {
   "cell_type": "code",
   "execution_count": 64,
   "id": "9d386749",
   "metadata": {},
   "outputs": [
    {
     "name": "stdout",
     "output_type": "stream",
     "text": [
      "There were 1 subject lines in D:\\ML Course\\Abid.txt\n"
     ]
    }
   ],
   "source": [
    "fname = input('Enter the file name:  ')\n",
    "fhand = open(fname)\n",
    "count = 0\n",
    "for line in fhand:\n",
    "    if line.startswith('From:') :\n",
    "        count = count + 1\n",
    "print('There were', count, 'subject lines in', fname)"
   ]
  },
  {
   "cell_type": "code",
   "execution_count": 65,
   "id": "7dffdf0e",
   "metadata": {},
   "outputs": [
    {
     "name": "stdout",
     "output_type": "stream",
     "text": [
      "[0, 1, 2]\n"
     ]
    }
   ],
   "source": [
    "friends = ['Joseph', 'Glenn', 'Sally']\n",
    "print(list(range(len(friends))))"
   ]
  },
  {
   "cell_type": "code",
   "execution_count": 66,
   "id": "cec276e1",
   "metadata": {},
   "outputs": [
    {
     "name": "stdout",
     "output_type": "stream",
     "text": [
      "6\n",
      "74\n",
      "3\n",
      "154\n",
      "25.666666666666668\n"
     ]
    }
   ],
   "source": [
    "nums = [3, 41, 12, 9, 74, 15]\n",
    "print(len(nums)) \n",
    "print(max(nums))\n",
    "print(min(nums))\n",
    "print(sum(nums))\n",
    "print(sum(nums)/len(nums))\n"
   ]
  },
  {
   "cell_type": "code",
   "execution_count": 67,
   "id": "03120b79",
   "metadata": {},
   "outputs": [
    {
     "name": "stdout",
     "output_type": "stream",
     "text": [
      "Average: 12.5\n"
     ]
    }
   ],
   "source": [
    "total = 0\n",
    "count = 0\n",
    "while True :\n",
    "    inp = input('Enter a number: ')\n",
    "    if inp == 'done' : \n",
    "        break\n",
    "    value = float(inp)\n",
    "    total = total + value     \n",
    "    count = count + 1\n",
    "average = total / count\n",
    "print('Average:', average)"
   ]
  },
  {
   "cell_type": "code",
   "execution_count": 81,
   "id": "b5fa3ce5",
   "metadata": {},
   "outputs": [
    {
     "name": "stdout",
     "output_type": "stream",
     "text": [
      "average: 10.0\n"
     ]
    }
   ],
   "source": [
    "num_list=[]\n",
    "while True:\n",
    "    inp=input(\"Enter a number: \")\n",
    "    if inp==\"done\":\n",
    "        break\n",
    "    value=float(inp)\n",
    "    num_list.append(value)\n",
    "    total=sum(num_list)\n",
    "    count=len(num_list)\n",
    "print(\"average:\",total/count)"
   ]
  },
  {
   "cell_type": "code",
   "execution_count": 85,
   "id": "bbab25f8",
   "metadata": {},
   "outputs": [
    {
     "name": "stdout",
     "output_type": "stream",
     "text": [
      "['From:', 'Chapainawabganj', 'to', 'dhaka']\n",
      "to\n"
     ]
    }
   ],
   "source": [
    "fhand = open(r'D:\\ML Course\\Abid.txt')\n",
    "for line in fhand:\n",
    "    line = line.rstrip()\n",
    "    if not line.startswith('From:') : \n",
    "        continue\n",
    "    words = line.split()\n",
    "    print(words)\n",
    "    print(words[2])"
   ]
  },
  {
   "cell_type": "code",
   "execution_count": 88,
   "id": "d5e887e8",
   "metadata": {},
   "outputs": [
    {
     "name": "stdout",
     "output_type": "stream",
     "text": [
      "stephen.marquard@uct.ac.za\n",
      "['stephen.marquard', 'uct.ac.za']\n"
     ]
    }
   ],
   "source": [
    "line=\"From stephen.marquard@uct.ac.za Sat Jan  5 09:14:16 2008\"\n",
    "words=line.split()\n",
    "print(words[1])\n",
    "pieces=words[1].split(\"@\")\n",
    "print(pieces)"
   ]
  },
  {
   "cell_type": "code",
   "execution_count": 89,
   "id": "6662528c",
   "metadata": {},
   "outputs": [
    {
     "name": "stdout",
     "output_type": "stream",
     "text": [
      "{'csev': 2, 'cwen': 2, 'zqian': 1}\n"
     ]
    }
   ],
   "source": [
    "counts = dict()\n",
    "names = ['csev', 'cwen', 'csev', 'zqian', 'cwen']\n",
    "for name in names :\n",
    "    if name not in counts: \n",
    "        counts[name] = 1\n",
    "    else :\n",
    "        counts[name] = counts[name] + 1\n",
    "print(counts)"
   ]
  },
  {
   "cell_type": "code",
   "execution_count": 97,
   "id": "14651b5b",
   "metadata": {},
   "outputs": [
    {
     "name": "stdout",
     "output_type": "stream",
     "text": [
      "{'csev': 2, 'cwen': 2, 'zqian': 1}\n"
     ]
    }
   ],
   "source": [
    "counts = dict()\n",
    "names = ['csev', 'cwen', 'csev', 'zqian', 'cwen']\n",
    "\n",
    "for name in names:\n",
    "    counts[name] = counts.get(name, 0) + 1\n",
    "\n",
    "print(counts)\n"
   ]
  },
  {
   "cell_type": "code",
   "execution_count": 98,
   "id": "f6b02e77",
   "metadata": {},
   "outputs": [
    {
     "name": "stdout",
     "output_type": "stream",
     "text": [
      "0 csev\n",
      "1 cwen\n",
      "2 csev\n",
      "3 zqian\n",
      "4 cwen\n"
     ]
    }
   ],
   "source": [
    "for index,value in enumerate(names):\n",
    "    print(index,value)"
   ]
  },
  {
   "cell_type": "code",
   "execution_count": 102,
   "id": "3b68de2a",
   "metadata": {},
   "outputs": [
    {
     "name": "stdout",
     "output_type": "stream",
     "text": [
      "Enter a line of text:\n",
      "This is Abid Rasel. I am from Chapainawabganj, But currently Savar, Dhaka.\n",
      "This is Abid Rasel I am from Chapainawabganj, But currently Savar, Dhaka\n",
      "This is Abid Rasel I am from Chapainawabganj But currently Savar Dhaka\n",
      "Words: ['This', 'is', 'Abid', 'Rasel', 'I', 'am', 'from', 'Chapainawabganj,', 'But', 'currently', 'Savar,', 'Dhaka']\n",
      "Counting...\n",
      "Counts {'This': 1, 'is': 1, 'Abid': 1, 'Rasel': 1, 'I': 1, 'am': 1, 'from': 1, 'Chapainawabganj,': 1, 'But': 1, 'currently': 1, 'Savar,': 1, 'Dhaka': 1}\n"
     ]
    }
   ],
   "source": [
    "counts = dict()\n",
    "print('Enter a line of text:')\n",
    "line = input('')\n",
    "print(line)\n",
    "line=line.replace(\".\",\"\")\n",
    "print(line)\n",
    "print(line.replace(\",\",\"\"))\n",
    "words = line.split()\n",
    "print('Words:', words)\n",
    "print('Counting...')\n",
    "for word in words:\n",
    "    counts[word] = counts.get(word,0) + 1\n",
    "print('Counts', counts)"
   ]
  },
  {
   "cell_type": "code",
   "execution_count": 13,
   "id": "fa3a0380",
   "metadata": {},
   "outputs": [
    {
     "name": "stdout",
     "output_type": "stream",
     "text": [
      "chuck 1\n",
      "fred 42\n",
      "jan 100\n"
     ]
    }
   ],
   "source": [
    "counts = { 'chuck' : 1 , 'fred' : 42, 'jan': 100}\n",
    "for key in counts:\n",
    "   print(key, counts[key])"
   ]
  },
  {
   "cell_type": "code",
   "execution_count": 14,
   "id": "92b14dac",
   "metadata": {},
   "outputs": [
    {
     "name": "stdout",
     "output_type": "stream",
     "text": [
      "chuck 1\n",
      "fred 42\n",
      "jan 100\n"
     ]
    }
   ],
   "source": [
    "for value,key in counts.items():\n",
    "    print(value,key)"
   ]
  },
  {
   "cell_type": "code",
   "execution_count": 105,
   "id": "daf5a267",
   "metadata": {},
   "outputs": [
    {
     "name": "stdout",
     "output_type": "stream",
     "text": [
      "['chuck', 'fred', 'jan']\n",
      "['chuck', 'fred', 'jan']\n",
      "[1, 42, 100]\n",
      "[('chuck', 1), ('fred', 42), ('jan', 100)]\n"
     ]
    }
   ],
   "source": [
    "jjj = { 'chuck' : 1 , 'fred' : 42, 'jan': 100}\n",
    "print(list(jjj))\n",
    "print(list(jjj.keys()))\n",
    "print(list(jjj.values()))\n",
    "print(list(jjj.items()))"
   ]
  },
  {
   "cell_type": "code",
   "execution_count": 107,
   "id": "0c9a14d2",
   "metadata": {},
   "outputs": [
    {
     "name": "stdout",
     "output_type": "stream",
     "text": [
      "True\n",
      "True\n",
      "True\n",
      "True\n"
     ]
    }
   ],
   "source": [
    "print((0, 1, 2) < (5, 1, 2))\n",
    "print((0, 1, 2000000) < (0, 3, 4))\n",
    "print(( 'Jones', 'Sally' ) < ('Jones', 'Sam'))\n",
    "print(( 'Jones', 'Sally') > ('Adams', 'Sam'))"
   ]
  },
  {
   "cell_type": "code",
   "execution_count": 108,
   "id": "60eaa3b1",
   "metadata": {},
   "outputs": [
    {
     "name": "stdout",
     "output_type": "stream",
     "text": [
      "dict_items([('a', 10), ('c', 22), ('b', 1)])\n"
     ]
    },
    {
     "data": {
      "text/plain": [
       "[('a', 10), ('b', 1), ('c', 22)]"
      ]
     },
     "execution_count": 108,
     "metadata": {},
     "output_type": "execute_result"
    }
   ],
   "source": [
    "d = {'a':10, 'c':22, 'b':1 }\n",
    "print(d.items())\n",
    "sorted(d.items())"
   ]
  },
  {
   "cell_type": "code",
   "execution_count": 109,
   "id": "949218da",
   "metadata": {},
   "outputs": [
    {
     "name": "stdout",
     "output_type": "stream",
     "text": [
      "[('a', 10), ('b', 1), ('c', 22)]\n",
      "a 10\n",
      "b 1\n",
      "c 22\n"
     ]
    }
   ],
   "source": [
    "d = {'b':1, 'c':22, 'a':10}\n",
    "t = sorted(d.items())\n",
    "print(t)\n",
    "for k, v in sorted(d.items()):  \n",
    "    print(k, v)"
   ]
  },
  {
   "cell_type": "code",
   "execution_count": 111,
   "id": "d6aca9d3",
   "metadata": {},
   "outputs": [
    {
     "name": "stdout",
     "output_type": "stream",
     "text": [
      "[(10, 'a'), (1, 'b'), (22, 'c')]\n",
      "[(22, 'c'), (10, 'a'), (1, 'b')]\n"
     ]
    }
   ],
   "source": [
    "c = {'a':10, 'b':1, 'c':22}\n",
    "tmp = list()\n",
    "for k, v in c.items() :  \n",
    "    tmp.append( (v, k) )\n",
    "print(tmp)\n",
    "tmp = sorted(tmp, reverse=True)\n",
    "print(tmp)\n",
    "\n"
   ]
  },
  {
   "cell_type": "code",
   "execution_count": 112,
   "id": "4d1acd36",
   "metadata": {},
   "outputs": [
    {
     "name": "stdout",
     "output_type": "stream",
     "text": [
      "[(1, 'b'), (10, 'a'), (22, 'c')]\n"
     ]
    }
   ],
   "source": [
    "c = {'a':10, 'b':1, 'c':22}\n",
    "print( sorted( [ (v,k) for k,v in c.items() ] ) )"
   ]
  },
  {
   "cell_type": "code",
   "execution_count": 1,
   "id": "1c726cfb",
   "metadata": {},
   "outputs": [
    {
     "name": "stdout",
     "output_type": "stream",
     "text": [
      "{'Machine': 2, 'learning': 3, 'is': 4, 'fun.': 1, 'allows': 1, 'computers': 1, 'to': 1, 'learn': 1, 'from': 1, 'data.': 1, 'Learning': 1, 'powerful': 1, 'when': 1, 'data': 1, 'large': 1, 'and': 1, 'machine': 1, 'applied': 1, 'properly.': 1}\n",
      "[(2, 'Machine'), (3, 'learning'), (4, 'is'), (1, 'fun.'), (1, 'allows'), (1, 'computers'), (1, 'to'), (1, 'learn'), (1, 'from'), (1, 'data.'), (1, 'Learning'), (1, 'powerful'), (1, 'when'), (1, 'data'), (1, 'large'), (1, 'and'), (1, 'machine'), (1, 'applied'), (1, 'properly.')]\n",
      "[(4, 'is'), (3, 'learning'), (2, 'Machine'), (1, 'when'), (1, 'to'), (1, 'properly.'), (1, 'powerful'), (1, 'machine'), (1, 'learn'), (1, 'large'), (1, 'fun.'), (1, 'from'), (1, 'data.'), (1, 'data'), (1, 'computers'), (1, 'applied'), (1, 'and'), (1, 'allows'), (1, 'Learning')]\n",
      "is 4\n",
      "learning 3\n",
      "Machine 2\n",
      "when 1\n",
      "to 1\n",
      "properly. 1\n",
      "powerful 1\n",
      "machine 1\n",
      "learn 1\n",
      "large 1\n"
     ]
    }
   ],
   "source": [
    "fhand = open(r'D:\\ML Course\\text.txt')\n",
    "counts = dict()\n",
    "for line in fhand:\n",
    "    words = line.split()\n",
    "    for word in words:\n",
    "        counts[word] = counts.get(word, 0 ) + 1\n",
    "print(counts)\n",
    "lst = list()\n",
    "for key, val in counts.items():\n",
    "    newtup = (val, key)\n",
    "    lst.append(newtup)\n",
    "print(lst)\n",
    "lst = sorted(lst, reverse=True)\n",
    "print(lst)\n",
    "for val, key in lst[:10] :\n",
    "    print(key, val)\n"
   ]
  },
  {
   "cell_type": "code",
   "execution_count": null,
   "id": "62d2ef49",
   "metadata": {},
   "outputs": [],
   "source": [
    "# Merging Two PDF\n",
    "from PyPDF2 import PdfMerger\n",
    "AllPdf=[\"1.pdf\",\"2.pdf\"]\n",
    "\n",
    "OurMerger=PdfMerger()\n",
    "for NewPdf in AllPdf:\n",
    "    OurMerger.append(NewPdf)\n",
    "OurMerger.write(\"abid.pdf\")\n",
    "OurMerger.close()"
   ]
  },
  {
   "cell_type": "code",
   "execution_count": 4,
   "id": "a12b06f8",
   "metadata": {},
   "outputs": [
    {
     "name": "stdout",
     "output_type": "stream",
     "text": [
      "PDFs merged successfully!\n"
     ]
    }
   ],
   "source": [
    "from PyPDF2 import PdfMerger\n",
    "\n",
    "# Step 1: Create a merger object\n",
    "merger = PdfMerger()\n",
    "\n",
    "# Step 2: Add your PDF files\n",
    "merger.append(\"1.pdf\")\n",
    "merger.append(\"2.pdf\")\n",
    "\n",
    "# Step 3: Save the merged PDF\n",
    "merger.write(\"merged_result.pdf\")\n",
    "\n",
    "# Step 4: Close the merger\n",
    "merger.close()\n",
    "\n",
    "print(\"PDFs merged successfully!\")"
   ]
  },
  {
   "cell_type": "code",
   "execution_count": 6,
   "id": "a22b960e",
   "metadata": {},
   "outputs": [
    {
     "name": "stdout",
     "output_type": "stream",
     "text": [
      "All PDFs in this folder have been merged into 'merged_all.pdf'\n"
     ]
    }
   ],
   "source": [
    "# Project: Merge All PDFs in a Folder Automatically\n",
    "import os\n",
    "from PyPDF2 import PdfMerger\n",
    "\n",
    "# Step 1: Create a merger object\n",
    "merger = PdfMerger()\n",
    "\n",
    "# Step 2: Loop through all PDF files in the current folder\n",
    "for file in os.listdir():\n",
    "    if file.endswith(\".pdf\") and file != \"merged_all.pdf\":\n",
    "        merger.append(file)\n",
    "\n",
    "# Step 3: Write to a new PDF file\n",
    "merger.write(\"merged_all.pdf\")\n",
    "merger.close()\n",
    "\n",
    "print(\"All PDFs in this folder have been merged into 'merged_all.pdf'\")"
   ]
  },
  {
   "cell_type": "code",
   "execution_count": null,
   "id": "06a631e3",
   "metadata": {},
   "outputs": [],
   "source": [
    "# Python Mad Libs Game Bangla Project\n",
    "\n",
    "username =input(\"What is your naem: \")\n",
    "brothername =input(\"What is your brothername: \" )\n",
    "friendname =input(\"What is your friendname:\")\n",
    "relationship = input(\"Tell about your relationship status:\")\n",
    "study = input(\"What class do you study:\")\n",
    "\n",
    "print(f\"My laptop model is {username},my book name is {brothername},My pencil model is {friendname}\"\n",
    "      f\"My phone model is {relationship},My skill is {study}\")"
   ]
  },
  {
   "cell_type": "code",
   "execution_count": 8,
   "id": "887b71bf",
   "metadata": {},
   "outputs": [
    {
     "name": "stdout",
     "output_type": "stream",
     "text": [
      "The number is too low\n",
      "60\n"
     ]
    }
   ],
   "source": [
    "# Python Number Guessing Game\n",
    "import random\n",
    "Random_number = random.randrange(1,200)\n",
    "# print(Random_number)\n",
    "Input_Number = int(input(\"Geuss the number: \"))\n",
    "if Input_Number>Random_number:\n",
    "      print(\"The input number is too high\")\n",
    "      print(Random_number)\n",
    "elif Random_number>Input_Number:\n",
    "      print(\"The number is too low\")\n",
    "      print(Random_number)\n",
    "else:\n",
    "      print(\"yes, the number is right\")\n",
    "      print(Random_number)"
   ]
  },
  {
   "cell_type": "code",
   "execution_count": null,
   "id": "b91ed704",
   "metadata": {},
   "outputs": [],
   "source": [
    "# Python Text Based Adventure Game Project\n",
    "answer = input(\"Do you want to play  this game [Yes/No}: \")\n",
    "if answer== \"yes\":\n",
    "      print(\"welcome to the game\")\n",
    "      answer = input(\"Where do your want to go ? [cave/jungle]:\")\n",
    "      if answer == \"cave\":\n",
    "            print(\"you will see a bear\")\n",
    "            answer=input(\"Do you want to  fight or run? [fight/run]:\")\n",
    "            if answer== \"fight\":\n",
    "                  print(\"you will lose\")\n",
    "            elif answer== \"run\":\n",
    "                  print(\"you will escape\")\n",
    "      elif answer== \"jungle\":\n",
    "            print(\"you will see a tiger\")\n",
    "            answer=input(\"What do you want to do? [afraid/calm]: \")\n",
    "            if answer == \"afraid\":\n",
    "                  print(\"you eaten by tiger\")\n",
    "            elif answer==\"calm\":\n",
    "                  print(\"you may be do something  to  save you\")\n",
    "else:\n",
    "      print(\"The  game is closed\")"
   ]
  },
  {
   "cell_type": "code",
   "execution_count": 9,
   "id": "20aca186",
   "metadata": {},
   "outputs": [
    {
     "name": "stdout",
     "output_type": "stream",
     "text": [
      "4\n",
      "4\n",
      "2\n",
      "4\n",
      "1\n",
      "6\n",
      "3\n",
      "Game over\n"
     ]
    }
   ],
   "source": [
    "# Python Dice Rolling Simulator Game Project\n",
    "\n",
    "import random\n",
    "Dic_rolling = True\n",
    "while Dic_rolling:\n",
    "      print(random.randint(1,6))\n",
    "      play_again=input(\"Do your want to roll [Yes/No]: \")\n",
    "      if play_again == \"yes\":\n",
    "            continue\n",
    "      else:\n",
    "            print(\"Game over\")\n",
    "            break"
   ]
  },
  {
   "cell_type": "code",
   "execution_count": 10,
   "id": "055a509e",
   "metadata": {},
   "outputs": [
    {
     "name": "stdout",
     "output_type": "stream",
     "text": [
      "____A ___A b __A b i _you have won the game, the word is Abid\n"
     ]
    }
   ],
   "source": [
    "# Python Hangman Game Project\n",
    "\n",
    "word=\"Abid\"\n",
    "chances =5\n",
    "GuessAdd = []\n",
    "done = False\n",
    "while not done:\n",
    "# This loop keeps running until the player wins (done = True) or chances become 0.\n",
    "\n",
    "      for  letter in word:\n",
    "            if letter.lower() in GuessAdd:\n",
    "                  print(letter,end=\" \")\n",
    "            else:\n",
    "                  print(\"_\" ,end=\"\")\n",
    "\n",
    "      MyGuess = input(f\"your chances {chances} ,Guess the letter : \")\n",
    "      GuessAdd.append(MyGuess.lower())\n",
    "      if MyGuess not in word.lower():\n",
    "            chances=chances-1\n",
    "            if chances==0:\n",
    "                  break\n",
    "      done = True\n",
    "      for letter in word:\n",
    "            if letter.lower() not in GuessAdd:\n",
    "                  done = False\n",
    "\n",
    "\n",
    "if done:\n",
    "      print(f\"you have won the game, the word is {word}\")\n",
    "else:\n",
    "      print(\"you lose the game \")"
   ]
  },
  {
   "cell_type": "code",
   "execution_count": 11,
   "id": "07361530",
   "metadata": {},
   "outputs": [
    {
     "ename": "ValueError",
     "evalue": "invalid literal for int() with base 10: ''",
     "output_type": "error",
     "traceback": [
      "\u001b[31m---------------------------------------------------------------------------\u001b[39m",
      "\u001b[31mValueError\u001b[39m                                Traceback (most recent call last)",
      "\u001b[36mCell\u001b[39m\u001b[36m \u001b[39m\u001b[32mIn[11]\u001b[39m\u001b[32m, line 11\u001b[39m\n\u001b[32m      9\u001b[39m         \u001b[38;5;28mprint\u001b[39m(\u001b[33m\"\u001b[39m\u001b[38;5;132;01m{}\u001b[39;00m\u001b[33m \u001b[39m\u001b[38;5;130;01m\\t\u001b[39;00m\u001b[33m \u001b[39m\u001b[38;5;132;01m{}\u001b[39;00m\u001b[33m\"\u001b[39m.format(key,Contact.get(key)))\n\u001b[32m     10\u001b[39m \u001b[38;5;28;01mwhile\u001b[39;00m \u001b[38;5;28;01mTrue\u001b[39;00m:\n\u001b[32m---> \u001b[39m\u001b[32m11\u001b[39m     choice =\u001b[38;5;28;43mint\u001b[39;49m\u001b[43m(\u001b[49m\u001b[38;5;28;43minput\u001b[39;49m\u001b[43m(\u001b[49m\u001b[33;43m\"\u001b[39;49m\u001b[33;43m1. Add new contacts \u001b[39;49m\u001b[38;5;130;43;01m\\n\u001b[39;49;00m\u001b[33;43m\"\u001b[39;49m\n\u001b[32m     12\u001b[39m \u001b[43m                   \u001b[49m\u001b[33;43m\"\u001b[39;49m\u001b[33;43m2. Search the contact \u001b[39;49m\u001b[38;5;130;43;01m\\n\u001b[39;49;00m\u001b[33;43m\"\u001b[39;49m\n\u001b[32m     13\u001b[39m \u001b[43m                   \u001b[49m\u001b[33;43m\"\u001b[39;49m\u001b[33;43m3. Display the contact \u001b[39;49m\u001b[38;5;130;43;01m\\n\u001b[39;49;00m\u001b[33;43m\"\u001b[39;49m\n\u001b[32m     14\u001b[39m \u001b[43m                   \u001b[49m\u001b[33;43m\"\u001b[39;49m\u001b[33;43m4. Edit the contact \u001b[39;49m\u001b[38;5;130;43;01m\\n\u001b[39;49;00m\u001b[33;43m\"\u001b[39;49m\n\u001b[32m     15\u001b[39m \u001b[43m                   \u001b[49m\u001b[33;43m\"\u001b[39;49m\u001b[33;43m5. Delete contact \u001b[39;49m\u001b[38;5;130;43;01m\\n\u001b[39;49;00m\u001b[33;43m\"\u001b[39;49m\n\u001b[32m     16\u001b[39m \u001b[43m                   \u001b[49m\u001b[33;43m\"\u001b[39;49m\u001b[33;43m6. Exit \u001b[39;49m\u001b[38;5;130;43;01m\\n\u001b[39;49;00m\u001b[33;43m\"\u001b[39;49m\n\u001b[32m     17\u001b[39m \u001b[43m                   \u001b[49m\u001b[33;43m\"\u001b[39;49m\u001b[33;43mPlease write number between 1-6:  \u001b[39;49m\u001b[33;43m\"\u001b[39;49m\u001b[43m)\u001b[49m\u001b[43m)\u001b[49m\n\u001b[32m     19\u001b[39m     \u001b[38;5;28;01mif\u001b[39;00m choice == \u001b[32m1\u001b[39m:\n\u001b[32m     20\u001b[39m         name = \u001b[38;5;28minput\u001b[39m(\u001b[33m\"\u001b[39m\u001b[33mAdd your contact name: \u001b[39m\u001b[33m\"\u001b[39m)\n",
      "\u001b[31mValueError\u001b[39m: invalid literal for int() with base 10: ''"
     ]
    }
   ],
   "source": [
    "\n",
    "# Python Project- Contact Book App Using Python\n",
    "\n",
    "Contact = {}\n",
    "\n",
    "def ShouFunction():\n",
    "    print(Contact.items())\n",
    "    print(\"Name \\t Contact\")\n",
    "    for key in Contact:\n",
    "        print(\"{} \\t {}\".format(key,Contact.get(key)))\n",
    "while True:\n",
    "    choice =int(input(\"1. Add new contacts \\n\"\n",
    "                   \"2. Search the contact \\n\"\n",
    "                   \"3. Display the contact \\n\"\n",
    "                   \"4. Edit the contact \\n\"\n",
    "                   \"5. Delete contact \\n\"\n",
    "                   \"6. Exit \\n\"\n",
    "                   \"Please write number between 1-6:  \"))\n",
    "\n",
    "    if choice == 1:\n",
    "        name = input(\"Add your contact name: \")\n",
    "        phone = input(\"Add your phone number: \")\n",
    "        Contact[name]= phone\n",
    "    elif choice ==2:\n",
    "        contactname = input(\"Search the contact: \")\n",
    "        if contactname in Contact:\n",
    "            print(contactname, \"Contact number is ,\", Contact[contactname])\n",
    "        else:\n",
    "            print(\"not found the contact\")\n",
    "    elif choice ==3:\n",
    "        if not Contact:\n",
    "            print(\"Contact book is empty\")\n",
    "        else:\n",
    "            ShouFunction()\n",
    "    elif choice == 4:\n",
    "        Editcontact = input(\"Edit your contat: \")\n",
    "        if Editcontact in Contact:\n",
    "            phone=input(\"Change your number: \")\n",
    "            Contact[Editcontact]= phone\n",
    "            print(\"Contact updated successfully\")\n",
    "            ShouFunction()\n",
    "        else:\n",
    "            print(\"Name is not found\")\n",
    "    elif choice == 5:\n",
    "        Del_contact = input(\"Which contact do you want to delete: \")\n",
    "        if Del_contact in Contact:\n",
    "            Dele_confirm =input(\"Do you want to delete this contact? y/n :\")\n",
    "            if Dele_confirm == \"y\" or Dele_confirm == \"Y\":\n",
    "                 Contact.pop(Del_contact)\n",
    "            ShouFunction()\n",
    "        else:\n",
    "            print(\"The name is not found in contact\")\n",
    "    else:\n",
    "        break"
   ]
  },
  {
   "cell_type": "code",
   "execution_count": 14,
   "id": "3bb960de",
   "metadata": {},
   "outputs": [
    {
     "name": "stdout",
     "output_type": "stream",
     "text": [
      "monday\n",
      "None\n"
     ]
    }
   ],
   "source": [
    "def day_of_week(day):\n",
    "    match day:\n",
    "        case 1:\n",
    "            print(\"saturday\")\n",
    "        case 2:\n",
    "            print(\"sunday\")\n",
    "        case 3:\n",
    "            print(\"monday\")\n",
    "        case 4:\n",
    "            print(\"tuesday\")\n",
    "        case 5:\n",
    "            print(\"wednesday\")\n",
    "        case 6:\n",
    "            print(\"thirsday\")\n",
    "        case 7:\n",
    "            print(\"friday\")\n",
    "        case _:\n",
    "            print(\"not valid\")\n",
    "print(day_of_week(3))"
   ]
  },
  {
   "cell_type": "code",
   "execution_count": 17,
   "id": "c3856ed4",
   "metadata": {},
   "outputs": [
    {
     "name": "stdout",
     "output_type": "stream",
     "text": [
      "NO\n",
      "None\n"
     ]
    }
   ],
   "source": [
    "def day_of_week(day):\n",
    "    match day:\n",
    "        case 1:\n",
    "            print(\"saturday\")\n",
    "        case 2:\n",
    "            print(\"sunday\")\n",
    "        case _:\n",
    "            print(\"NO\")\n",
    "print(day_of_week(3))"
   ]
  },
  {
   "cell_type": "code",
   "execution_count": 18,
   "id": "55f3b33f",
   "metadata": {},
   "outputs": [
    {
     "name": "stdout",
     "output_type": "stream",
     "text": [
      "wednesday\n"
     ]
    }
   ],
   "source": [
    "def day_of_week(day):\n",
    "    match day:\n",
    "        case 1:\n",
    "            return \"saturday\"\n",
    "        case 2:\n",
    "            return \"sanday \"\n",
    "        case 3:\n",
    "            return \"monday\"\n",
    "        case 4:\n",
    "            return \"tuesday\"\n",
    "        case 5:\n",
    "            return \"wednesday\"\n",
    "        case 6:\n",
    "            return \"thursday\"\n",
    "        case 7:\n",
    "            return \"friday\"\n",
    "        case _:\n",
    "            return \"not valid\"\n",
    "print(day_of_week(5))"
   ]
  },
  {
   "cell_type": "code",
   "execution_count": 19,
   "id": "ea63877d",
   "metadata": {},
   "outputs": [
    {
     "name": "stdout",
     "output_type": "stream",
     "text": [
      "I like apples!\n"
     ]
    }
   ],
   "source": [
    "fruit = \"apple\"\n",
    "\n",
    "match fruit:\n",
    "    case \"apple\":\n",
    "        print(\"I like apples!\")\n",
    "    case \"banana\":\n",
    "        print(\"Bananas are great!\")\n",
    "    case _:\n",
    "        print(\"I don't know that fruit.\")"
   ]
  },
  {
   "cell_type": "code",
   "execution_count": 20,
   "id": "1aa192fd",
   "metadata": {},
   "outputs": [
    {
     "name": "stdout",
     "output_type": "stream",
     "text": [
      "No\n"
     ]
    }
   ],
   "source": [
    "fruits = \"chocolate\"\n",
    "match fruits:\n",
    "    case \"apple\"|\"banana\"|\"jackfruits\":\n",
    "        print(\"I want to eat this\")\n",
    "    case \"sugar\"|\"medicine\"|\"lichi\":\n",
    "        print(\"I don't\")\n",
    "    case _:\n",
    "        print(\"No\")"
   ]
  },
  {
   "cell_type": "code",
   "execution_count": 21,
   "id": "492c7957",
   "metadata": {},
   "outputs": [
    {
     "name": "stdout",
     "output_type": "stream",
     "text": [
      "[('abid', 'MS'), ('rasel', 'google'), ('khan', 'meta')]\n"
     ]
    }
   ],
   "source": [
    "# zip function:\n",
    "list1=[\"abid\",\"rasel\",\"khan\"]\n",
    "list2=[\"MS\",\"google\",\"meta\"]\n",
    "print(list(zip(list1,list2)))"
   ]
  },
  {
   "cell_type": "code",
   "execution_count": null,
   "id": "ea98bb94",
   "metadata": {},
   "outputs": [
    {
     "name": "stdout",
     "output_type": "stream",
     "text": [
      "hello 1\n"
     ]
    }
   ],
   "source": [
    "i=0\n",
    "def greet():\n",
    "    global i\n",
    "    i=i+1\n",
    "    print(\"hello\",i)\n",
    "    # greet()\n",
    "   \n",
    "greet()"
   ]
  },
  {
   "cell_type": "code",
   "execution_count": 26,
   "id": "3c994c60",
   "metadata": {},
   "outputs": [
    {
     "name": "stdout",
     "output_type": "stream",
     "text": [
      "1\n",
      "3\n",
      "6\n",
      "10\n"
     ]
    },
    {
     "data": {
      "text/plain": [
       "10"
      ]
     },
     "execution_count": 26,
     "metadata": {},
     "output_type": "execute_result"
    }
   ],
   "source": [
    "def myfuction(n):\n",
    "    if n>0:\n",
    "        result= n+ myfuction(n-1)\n",
    "        print(result)\n",
    "\n",
    "    else:\n",
    "        result=0\n",
    "    return result\n",
    "\n",
    "myfuction(4)"
   ]
  },
  {
   "cell_type": "code",
   "execution_count": 27,
   "id": "54ee61b6",
   "metadata": {},
   "outputs": [
    {
     "name": "stdout",
     "output_type": "stream",
     "text": [
      "1\n",
      "3\n",
      "6\n",
      "10\n"
     ]
    },
    {
     "data": {
      "text/plain": [
       "10"
      ]
     },
     "execution_count": 27,
     "metadata": {},
     "output_type": "execute_result"
    }
   ],
   "source": [
    "def myfuction(n):\n",
    "    if n>0:\n",
    "        result= n+ myfuction(n-1)\n",
    "        print(result)\n",
    "        return result\n",
    "\n",
    "    else:\n",
    "        return 0\n",
    "\n",
    "myfuction(4)"
   ]
  },
  {
   "cell_type": "code",
   "execution_count": 28,
   "id": "720e7bbb",
   "metadata": {},
   "outputs": [
    {
     "name": "stdout",
     "output_type": "stream",
     "text": [
      "Sum is: 6\n"
     ]
    }
   ],
   "source": [
    "def add(n):\n",
    "    if n > 0:\n",
    "        return add(n-1) + n\n",
    "    else:\n",
    "        return 0\n",
    "\n",
    "total = add(3)\n",
    "print(\"Sum is:\", total)"
   ]
  },
  {
   "cell_type": "code",
   "execution_count": 30,
   "id": "39f941eb",
   "metadata": {},
   "outputs": [
    {
     "name": "stdout",
     "output_type": "stream",
     "text": [
      "abid rasel\n"
     ]
    }
   ],
   "source": [
    "def recfun():\n",
    "    print(\"abid rasel\")\n",
    "    # recfun()\n",
    "recfun()"
   ]
  },
  {
   "cell_type": "code",
   "execution_count": 31,
   "id": "8a01f1c3",
   "metadata": {},
   "outputs": [
    {
     "name": "stdout",
     "output_type": "stream",
     "text": [
      "this is the result\n",
      "this is the result\n",
      "this is the result\n",
      "this is the result\n",
      "this is the result\n",
      "this is the result\n",
      "Yes, this is the number\n"
     ]
    }
   ],
   "source": [
    "def abid_rasel(n):\n",
    "    if n==0:\n",
    "        print(\"Yes, this is the number\")\n",
    "    else:\n",
    "        print(\"this is the result\")\n",
    "        abid_rasel(n-1)\n",
    "abid_rasel(6)"
   ]
  },
  {
   "cell_type": "code",
   "execution_count": 32,
   "id": "94751285",
   "metadata": {},
   "outputs": [
    {
     "name": "stdout",
     "output_type": "stream",
     "text": [
      "10\n",
      "9\n",
      "8\n"
     ]
    }
   ],
   "source": [
    "def countdown(n):\n",
    "    print(n)\n",
    "    print(n-1)\n",
    "    print(n-2)\n",
    "countdown(10)"
   ]
  },
  {
   "cell_type": "code",
   "execution_count": 33,
   "id": "691317b3",
   "metadata": {},
   "outputs": [
    {
     "name": "stdout",
     "output_type": "stream",
     "text": [
      "no\n",
      "no\n",
      "no\n",
      "yes\n"
     ]
    }
   ],
   "source": [
    "def countdown(n):\n",
    "    if n==0:\n",
    "        print(\"yes\")\n",
    "    else :\n",
    "        print(\"no\")\n",
    "        countdown(n-1)\n",
    "countdown(3)\n"
   ]
  },
  {
   "cell_type": "code",
   "execution_count": 34,
   "id": "89103f9a",
   "metadata": {},
   "outputs": [
    {
     "name": "stdout",
     "output_type": "stream",
     "text": [
      "BMW\n",
      "10 lakh\n",
      "10 floor\n"
     ]
    }
   ],
   "source": [
    "#Inheritence\n",
    "class baba:\n",
    "    car = \"BMW\"\n",
    "    tk = \"10 lakh\"\n",
    "    home = \"10 floor\"\n",
    "class kaka(baba):\n",
    "    brokenphon = \"\"\n",
    "    brokenhome= \"\"\n",
    "k=kaka()\n",
    "print(k.car)\n",
    "print(k.tk)\n",
    "print(k.home)"
   ]
  },
  {
   "cell_type": "code",
   "execution_count": 35,
   "id": "c595471c",
   "metadata": {},
   "outputs": [
    {
     "name": "stdout",
     "output_type": "stream",
     "text": [
      "BMW\n",
      "10 lakh\n",
      "10 floor\n",
      "vision\n"
     ]
    }
   ],
   "source": [
    "#multiple inheritence\n",
    "class baba:\n",
    "    car = \"BMW\"\n",
    "    tk = \"10 lakh\"\n",
    "    home = \"10 floor\"\n",
    "class baba2:\n",
    "    phon =\"Iphone\"\n",
    "    wathc = \"rolex\"\n",
    "    microphone = \"fifin\"\n",
    "class baba3:\n",
    "    Ac = \"vision\"\n",
    "    fridge = \"walton\"\n",
    "    tv = \"LG\"\n",
    "class kaka(baba,baba2,baba3):\n",
    "    brokenphon = \"\"\n",
    "    brokenhome= \"\"\n",
    "k=kaka()\n",
    "print(k.car)\n",
    "print(k.tk)\n",
    "print(k.home)\n",
    "print(k.Ac)"
   ]
  },
  {
   "cell_type": "code",
   "execution_count": null,
   "id": "fe742540",
   "metadata": {},
   "outputs": [
    {
     "name": "stdout",
     "output_type": "stream",
     "text": [
      "BMW\n"
     ]
    }
   ],
   "source": [
    "# Multilevel inheritenc\n",
    "\n",
    "class baba:\n",
    "    car = \"BMW\"\n",
    "    tk = \"10 lakh\"\n",
    "    home = \"10 floor\"\n",
    "class son1(baba):\n",
    "    phon =\"Iphone\"\n",
    "    wathc = \"rolex\"\n",
    "    microphone = \"fifin\"\n",
    "class son2(son1):\n",
    "    Ac = \"vision\"\n",
    "    fridge = \"walton\"\n",
    "    tv = \"LG\"\n",
    "class son3(son2):\n",
    "    brokenphon = \"\"\n",
    "    brokenhome= \"\"\n",
    "k=son2\n",
    "print(k.car)"
   ]
  },
  {
   "cell_type": "code",
   "execution_count": null,
   "id": "a9235fce",
   "metadata": {},
   "outputs": [
    {
     "name": "stdout",
     "output_type": "stream",
     "text": [
      "Toyota and 2020\n",
      "brand:Toyota, year: 2020, model: corola \n"
     ]
    }
   ],
   "source": [
    "#Python looks for the method in the Car class first.\n",
    "# Since Car has its own display_info(), that one overrides the Vehicle version.\n",
    "\n",
    "#It does not automatically call the parent class method unless you explicitly tell it to.\n",
    "#super().display_info()\n",
    "class vehicle:\n",
    "    def __init__(self,brand,year):\n",
    "        self.brand=brand\n",
    "        self.year=year\n",
    "    def display_info(self):\n",
    "        print(f\"{self.brand} and {self.year}\")\n",
    "class Car(vehicle):\n",
    "    def __init__(self,brand,year,model):\n",
    "        super().__init__(brand,year)\n",
    "        self.model=model\n",
    "    def display_info(self):\n",
    "        super().display_info()\n",
    "        print(f\"brand:{self.brand}, year: {self.year}, model: {self.model} \")\n",
    "car=Car(\"Toyota\", 2020,\"corola\")\n",
    "car.display_info()\n"
   ]
  },
  {
   "cell_type": "code",
   "execution_count": 38,
   "id": "c369e32e",
   "metadata": {},
   "outputs": [
    {
     "name": "stdout",
     "output_type": "stream",
     "text": [
      "Dog barks\n",
      "Cat meows\n",
      "Animal speaks\n"
     ]
    }
   ],
   "source": [
    "class Animal:\n",
    "    def speak(self):\n",
    "        print(\"Animal speaks\")\n",
    "\n",
    "class Dog(Animal):\n",
    "    # pass\n",
    "    def speak(self):\n",
    "        print(\"Dog barks\")\n",
    "\n",
    "class Cat(Animal):\n",
    "    def speak(self):\n",
    "        print(\"Cat meows\")\n",
    "a=Animal()\n",
    "d = Dog()\n",
    "c = Cat()\n",
    "\n",
    "d.speak()  # Dog barks\n",
    "c.speak()  # Cat meows\n",
    "a.speak()"
   ]
  },
  {
   "cell_type": "code",
   "execution_count": 40,
   "id": "fae16c81",
   "metadata": {},
   "outputs": [
    {
     "name": "stdout",
     "output_type": "stream",
     "text": [
      "1\n",
      "2\n",
      "3\n",
      "abid\n",
      "rasel\n",
      "khan\n",
      "1\n",
      "2\n",
      "3\n",
      "abid\n"
     ]
    }
   ],
   "source": [
    "#Iterator\n",
    "list = [1,2,3,\"abid\",\"rasel\",\"khan\"]\n",
    "for i in list:\n",
    "    print(i)\n",
    "\n",
    "x = iter(list)\n",
    "print(x.__next__())\n",
    "print(x.__next__())\n",
    "print(x.__next__())\n",
    "print(x.__next__())\n"
   ]
  },
  {
   "cell_type": "code",
   "execution_count": null,
   "id": "c6676aad",
   "metadata": {},
   "outputs": [
    {
     "name": "stdout",
     "output_type": "stream",
     "text": [
      "Basic math\n",
      "Scientific math\n",
      "Basic math\n",
      "Scientific math\n"
     ]
    }
   ],
   "source": [
    "# Inheritence\n",
    "class Calculator:\n",
    "    def operation(self):\n",
    "        print(\"Basic math\")\n",
    "\n",
    "class AdvancedCalculator:\n",
    "    def operation(self):\n",
    "        print(\"Scientific math\")\n",
    "\n",
    "def use_calculator(calc):\n",
    "    calc.operation()\n",
    "\n",
    "use_calculator(Calculator())\n",
    "use_calculator(AdvancedCalculator())\n",
    "\n",
    "def abid(calc):\n",
    "    calc.operation()\n",
    "abid(Calculator())\n",
    "abid(AdvancedCalculator())"
   ]
  },
  {
   "cell_type": "code",
   "execution_count": 43,
   "id": "64636215",
   "metadata": {},
   "outputs": [
    {
     "name": "stdout",
     "output_type": "stream",
     "text": [
      "My name is Abid Rasel,and I am 25 old\n",
      "My name is Rehena khatun,and I am 35 old\n",
      "My name is Md Alauddin,and I am 40 old\n",
      "My name is Aklima Khatun,and I am 22 old\n",
      "My name is Anisa Khatun,and I am 7 old\n"
     ]
    }
   ],
   "source": [
    "# construction\n",
    "class parentinfo:\n",
    "    def Abidfamily(self,name,age):\n",
    "        print(f\"My name is {name},and I am {age} old\")\n",
    "p1=parentinfo()\n",
    "p1.Abidfamily(\"Abid Rasel\",25)\n",
    "p1.Abidfamily(\"Rehena khatun\",35)\n",
    "p1.Abidfamily(\"Md Alauddin\",40)\n",
    "p1.Abidfamily(\"Aklima Khatun\",22)\n",
    "p1.Abidfamily(\"Anisa Khatun\",7)"
   ]
  },
  {
   "cell_type": "code",
   "execution_count": 44,
   "id": "842efda9",
   "metadata": {},
   "outputs": [
    {
     "name": "stdout",
     "output_type": "stream",
     "text": [
      "My name is Abid Rasel and I am 25 old\n"
     ]
    }
   ],
   "source": [
    "class parentinfo:\n",
    "    def __init__(self,name,age):\n",
    "        print(f\"My name is {name} and I am {age} old\")\n",
    "p1=parentinfo(\"Abid Rasel\",25)"
   ]
  },
  {
   "cell_type": "code",
   "execution_count": 45,
   "id": "8fac8e2b",
   "metadata": {},
   "outputs": [
    {
     "name": "stdout",
     "output_type": "stream",
     "text": [
      "This is Instance method\n",
      "This is class method\n",
      "This is class method\n",
      "This is Static Method\n",
      "This is Static Method\n"
     ]
    }
   ],
   "source": [
    "# Introducing method\n",
    "class parentinfo:\n",
    "    def Instancemethod(self):\n",
    "        print(f\"This is Instance method\")\n",
    "    @classmethod\n",
    "    def Classmethod(cls):\n",
    "        print(\"This is class method\")\n",
    "    @staticmethod\n",
    "    def Statisticmethod():\n",
    "        print(\"This is Static Method\")\n",
    "p1=parentinfo()\n",
    "p1.Instancemethod()\n",
    "# parentinfo.Instancemethod()\n",
    "p1.Classmethod()\n",
    "parentinfo.Classmethod()\n",
    "p1.Statisticmethod()\n",
    "parentinfo.Statisticmethod()"
   ]
  },
  {
   "cell_type": "code",
   "execution_count": 46,
   "id": "c2cbfae6",
   "metadata": {},
   "outputs": [
    {
     "name": "stdout",
     "output_type": "stream",
     "text": [
      "🚗 Car engine started with a key.\n",
      "🚗 Car is moving at 80 km/h.\n",
      "🏍️ Bike engine started with a self-starter.\n",
      "🏍️ Bike is moving at 60 km/h.\n"
     ]
    }
   ],
   "source": [
    "#Abstraction\n",
    "\n",
    "from abc import ABC, abstractmethod\n",
    "\n",
    "class Vehicle(ABC):\n",
    "\n",
    "    @abstractmethod\n",
    "    def start_engine(self):\n",
    "        pass\n",
    "\n",
    "    @abstractmethod\n",
    "    def speed(self):\n",
    "        pass\n",
    "class Car(Vehicle):\n",
    "    def start_engine(self):\n",
    "        print(\"🚗 Car engine started with a key.\")\n",
    "\n",
    "    def speed(self):\n",
    "        print(\"🚗 Car is moving at 80 km/h.\")\n",
    "\n",
    "class Bike(Vehicle):\n",
    "    def start_engine(self):\n",
    "        print(\"🏍️ Bike engine started with a self-starter.\")\n",
    "\n",
    "    def speed(self):\n",
    "        print(\"🏍️ Bike is moving at 60 km/h.\")\n",
    "c = Car()\n",
    "b = Bike()\n",
    "\n",
    "c.start_engine()\n",
    "c.speed()\n",
    "\n",
    "b.start_engine()\n",
    "b.speed()"
   ]
  },
  {
   "cell_type": "code",
   "execution_count": 47,
   "id": "06034fd8",
   "metadata": {},
   "outputs": [
    {
     "name": "stdout",
     "output_type": "stream",
     "text": [
      "Bark\n",
      "Meow\n"
     ]
    }
   ],
   "source": [
    "#another example:\n",
    "from abc import ABC, abstractmethod\n",
    "\n",
    "class Animal(ABC):  # This is an abstract class\n",
    "    @abstractmethod\n",
    "    def sound(self):  # Abstract method (no body)\n",
    "        pass\n",
    "class Dog(Animal):\n",
    "    def sound(self):\n",
    "        return \"Bark\"\n",
    "\n",
    "class Cat(Animal):\n",
    "    def sound(self):\n",
    "        return \"Meow\"\n",
    "class Dog(Animal):\n",
    "    def sound(self):\n",
    "        return \"Bark\"\n",
    "\n",
    "dog = Dog()\n",
    "cat = Cat()\n",
    "\n",
    "print(dog.sound())  # Output: Bark\n",
    "print(cat.sound())  # Output: Meow"
   ]
  },
  {
   "cell_type": "code",
   "execution_count": 48,
   "id": "e72ca03b",
   "metadata": {},
   "outputs": [
    {
     "name": "stdout",
     "output_type": "stream",
     "text": [
      "Black\n",
      "BMW\n",
      "R33\n"
     ]
    }
   ],
   "source": [
    "\n",
    "#polymorphism\n",
    "\n",
    "class vhicle:\n",
    "    def __init__(self,Brand,Model,Color):\n",
    "        self.Brand=Brand\n",
    "        self.Model=Model\n",
    "        self.Color=Color\n",
    "class plane(vhicle):\n",
    "    pass\n",
    "class car(vhicle):\n",
    "    pass\n",
    "class bike(vhicle):\n",
    "    pass\n",
    "p= plane(\"Fly emirates\",\"E22\",\"Black\")\n",
    "print(p.Color)\n",
    "c=car(\"BMW\",\"B22\",\"Red\")\n",
    "print(c.Brand)\n",
    "b=bike(\"Royal enfield\",\"R33\",\"Yellow\")\n",
    "print(b.Model)"
   ]
  },
  {
   "cell_type": "code",
   "execution_count": 49,
   "id": "7e4ac503",
   "metadata": {},
   "outputs": [
    {
     "name": "stdout",
     "output_type": "stream",
     "text": [
      "Black\n",
      "Fly\n",
      "BMW\n",
      "Run\n",
      "R33\n",
      "Walk\n",
      "Fly\n",
      "Run\n",
      "Walk\n"
     ]
    }
   ],
   "source": [
    "class vhicle:\n",
    "    def __init__(self,Brand,Model,Color):\n",
    "        self.Brand=Brand\n",
    "        self.Model=Model\n",
    "        self.Color=Color\n",
    "class plane(vhicle):\n",
    "    def move(self):\n",
    "        print(\"Fly\")\n",
    "class car(vhicle):\n",
    "    def move(self):\n",
    "        print(\"Run\")\n",
    "class bike(vhicle):\n",
    "    def move(self):\n",
    "        print(\"Walk\")\n",
    "p= plane(\"Fly emirates\",\"E22\",\"Black\")\n",
    "print(p.Color)\n",
    "p.move()\n",
    "c=car(\"BMW\",\"B22\",\"Red\")\n",
    "print(c.Brand)\n",
    "c.move()\n",
    "b=bike(\"Royal enfield\",\"R33\",\"Yellow\")\n",
    "print(b.Model)\n",
    "b.move()\n",
    "\n",
    "for i in (p,c,b):\n",
    "    i.move()"
   ]
  },
  {
   "cell_type": "code",
   "execution_count": 51,
   "id": "2836c077",
   "metadata": {},
   "outputs": [
    {
     "name": "stdout",
     "output_type": "stream",
     "text": [
      "Md Alauddin\n"
     ]
    }
   ],
   "source": [
    "#Encapsulation:\n",
    "\n",
    "class family:\n",
    "    def __init__(self,name,fatherneme):\n",
    "        self.__name=name\n",
    "        self.fathername=fatherneme\n",
    "p1=family(\"abid\",\"Md Alauddin\")\n",
    "print(p1.fathername)\n",
    "# print(p1.__name)"
   ]
  },
  {
   "cell_type": "code",
   "execution_count": null,
   "id": "dac5d853",
   "metadata": {},
   "outputs": [],
   "source": []
  }
 ],
 "metadata": {
  "kernelspec": {
   "display_name": ".venv (3.12.8)",
   "language": "python",
   "name": "python3"
  },
  "language_info": {
   "codemirror_mode": {
    "name": "ipython",
    "version": 3
   },
   "file_extension": ".py",
   "mimetype": "text/x-python",
   "name": "python",
   "nbconvert_exporter": "python",
   "pygments_lexer": "ipython3",
   "version": "3.12.8"
  }
 },
 "nbformat": 4,
 "nbformat_minor": 5
}
