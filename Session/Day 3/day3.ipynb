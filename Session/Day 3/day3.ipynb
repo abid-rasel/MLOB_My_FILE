{
 "cells": [
  {
   "cell_type": "markdown",
   "metadata": {
    "id": "8Ymh9SY9GXQQ"
   },
   "source": [
    "# Basics of Python Programming"
   ]
  },
  {
   "cell_type": "markdown",
   "metadata": {
    "id": "1aMChGB5GXQS"
   },
   "source": [
    "### Session 2"
   ]
  },
  {
   "cell_type": "markdown",
   "metadata": {
    "id": "kiKbIQDUGXQT"
   },
   "source": [
    "## Table of contents\n",
    "\n",
    "* [Optional arguments to the print function](#Optional_arguments_to_print)\n",
    "* [Operators and Math formulas](#opt_math_formulas)\n",
    "* [Python Modules](#python_modules)\n",
    "* [Conditional Statements](#con_stmnt)\n",
    "* [Loops](#loops)\n",
    "* [Lists](#lists)\n",
    "* [Tuples](#tuples)\n",
    "* [Sets](#sets)"
   ]
  },
  {
   "cell_type": "markdown",
   "metadata": {
    "id": "0Ue-U1KdGXQV"
   },
   "source": [
    "<a id='Optional_arguments_to_print'></a>\n",
    "### Optional arguments to the print function\n",
    "* sep — used to change or get rid of spaces that print inserts\n",
    "* end — used to change or get rid of when print jumps to next line"
   ]
  },
  {
   "cell_type": "code",
   "execution_count": 1,
   "metadata": {
    "id": "VdeIrp75GXQX",
    "outputId": "e2cd2830-adb6-44d0-cc71-ad8cc7c1cde5"
   },
   "outputs": [
    {
     "name": "stdout",
     "output_type": "stream",
     "text": [
      "12345\n",
      "1/2/3/4/5\n",
      "1 2 3 4 5\n",
      "\n",
      "\n"
     ]
    }
   ],
   "source": [
    "print(1, 2, 3, 4, 5, sep='') # prints 12345\n",
    "print(1, 2, 3, 4, 5, sep='/') # prints 1/2/3/4/5\n",
    "print(1, 2, 3, 4, 5, end='\\n\\n\\n')"
   ]
  },
  {
   "cell_type": "code",
   "execution_count": 2,
   "metadata": {
    "colab": {
     "base_uri": "https://localhost:8080/"
    },
    "executionInfo": {
     "elapsed": 3698,
     "status": "ok",
     "timestamp": 1730722656536,
     "user": {
      "displayName": "Shaiful Islam Bapin",
      "userId": "17638143310912377200"
     },
     "user_tz": -360
    },
    "id": "K8rCpQ2iGbNl",
    "outputId": "318d3aed-a2fe-4211-f5dd-492d0b4273ed"
   },
   "outputs": [
    {
     "name": "stdout",
     "output_type": "stream",
     "text": [
      "a\n",
      "b\n",
      "i\n",
      "d\n",
      "['a', 'b', 'i', 'd']\n"
     ]
    }
   ],
   "source": [
    "# prompt: print a string, each character with separate line without loop.\n",
    "\n",
    "string = input(\"Enter a Name: \")\n",
    "print(*list(string), sep='\\n')\n",
    "print(list(string))"
   ]
  },
  {
   "cell_type": "markdown",
   "metadata": {
    "id": "p0uM2dHyGXQZ"
   },
   "source": [
    "<a id='opt_math_formulas'></a>\n",
    "### Python Operators"
   ]
  },
  {
   "cell_type": "markdown",
   "metadata": {},
   "source": [
    "#Swapping variable"
   ]
  },
  {
   "cell_type": "code",
   "execution_count": 5,
   "metadata": {
    "executionInfo": {
     "elapsed": 713,
     "status": "ok",
     "timestamp": 1730723057364,
     "user": {
      "displayName": "Shaiful Islam Bapin",
      "userId": "17638143310912377200"
     },
     "user_tz": -360
    },
    "id": "LA9brkqmH1tP"
   },
   "outputs": [],
   "source": [
    "a,b = 7,10\n",
    "a,b = b,a"
   ]
  },
  {
   "cell_type": "code",
   "execution_count": 6,
   "metadata": {
    "colab": {
     "base_uri": "https://localhost:8080/"
    },
    "executionInfo": {
     "elapsed": 480,
     "status": "ok",
     "timestamp": 1730723064297,
     "user": {
      "displayName": "Shaiful Islam Bapin",
      "userId": "17638143310912377200"
     },
     "user_tz": -360
    },
    "id": "hUC5uTVxIhR8",
    "outputId": "f5365592-c1df-437c-bddd-35003be207b1"
   },
   "outputs": [
    {
     "name": "stdout",
     "output_type": "stream",
     "text": [
      "10 7\n"
     ]
    }
   ],
   "source": [
    "print(a,b)"
   ]
  },
  {
   "cell_type": "code",
   "execution_count": 3,
   "metadata": {},
   "outputs": [
    {
     "name": "stdout",
     "output_type": "stream",
     "text": [
      "[10, 20, 30]\n"
     ]
    }
   ],
   "source": [
    "a=10\n",
    "b=20\n",
    "c=30\n",
    "list1=[a,b,c]\n",
    "print(list1)"
   ]
  },
  {
   "cell_type": "code",
   "execution_count": 4,
   "metadata": {},
   "outputs": [
    {
     "name": "stdout",
     "output_type": "stream",
     "text": [
      "10 20 30\n"
     ]
    }
   ],
   "source": [
    "d,e,f=list1\n",
    "print(d,e,f)"
   ]
  },
  {
   "cell_type": "code",
   "execution_count": 5,
   "metadata": {
    "id": "CidOe87YGXQZ",
    "outputId": "d02bbcf1-6bef-4a15-c2a2-2106a999eca8"
   },
   "outputs": [
    {
     "name": "stdout",
     "output_type": "stream",
     "text": [
      "Arithmetic Operators:\n",
      "a + b = 13\n",
      "a - b = 7\n",
      "a * b = 30\n",
      "a / b = 3.3333333333333335\n",
      "a//b = 3\n",
      "a % b = 1\n",
      "a ** b = 1000\n"
     ]
    }
   ],
   "source": [
    "# Arithmetic Operators\n",
    "print(\"Arithmetic Operators:\")\n",
    "a, b = 10, 3\n",
    "print(f\"a + b = {a + b}\")  # Addition\n",
    "print(f\"a - b = {a - b}\")  # Subtraction\n",
    "print(f\"a * b = {a * b}\")  # Multiplication\n",
    "print(f\"a / b = {a / b}\")  # Division\n",
    "print(f\"a//b = {a // b}\") #Floor Division\n",
    "print(f\"a % b = {a % b}\")  # Modulus\n",
    "print(f\"a ** b = {a ** b}\")  # Exponentiation"
   ]
  },
  {
   "cell_type": "code",
   "execution_count": null,
   "metadata": {
    "id": "UwyuUK8hGXQa",
    "outputId": "126ecd5a-828a-42c7-bb6f-1b3b5ee6e929"
   },
   "outputs": [
    {
     "name": "stdout",
     "output_type": "stream",
     "text": [
      "\n",
      "Comparison Operators:\n",
      "a == b: False\n",
      "a != b: True\n",
      "a > b: True\n",
      "a < b: False\n",
      "a >= b: True\n",
      "a <= b: False\n"
     ]
    }
   ],
   "source": [
    "# Comparison Operators\n",
    "print(\"\\nComparison Operators:\")\n",
    "print(f\"a == b: {a == b}\")  # Equal to\n",
    "print(f\"a != b: {a != b}\")  # Not equal to\n",
    "print(f\"a > b: {a > b}\")    # Greater than\n",
    "print(f\"a < b: {a < b}\")    # Less than\n",
    "print(f\"a >= b: {a >= b}\")  # Greater than or equal to\n",
    "print(f\"a <= b: {a <= b}\")  # Less than or equal to"
   ]
  },
  {
   "cell_type": "code",
   "execution_count": null,
   "metadata": {
    "id": "5JihMnR5GXQb",
    "outputId": "c890ab39-d405-454a-cdca-e52e704845df"
   },
   "outputs": [
    {
     "name": "stdout",
     "output_type": "stream",
     "text": [
      "\n",
      "Logical Operators:\n",
      "x and y: False\n",
      "x or y: True\n",
      "not x: False\n"
     ]
    }
   ],
   "source": [
    "# Logical Operators\n",
    "print(\"\\nLogical Operators:\")\n",
    "x, y = True, False\n",
    "print(f\"x and y: {x and y}\")  # Logical AND\n",
    "print(f\"x or y: {x or y}\")    # Logical OR\n",
    "print(f\"not x: {not x}\")      # Logical NOT"
   ]
  },
  {
   "cell_type": "markdown",
   "metadata": {
    "id": "E6WRQqYfGXQc"
   },
   "source": [
    "### Math formulas\n",
    "\n",
    "$+, -, *$, and $/$ are the four basic math operators. Also:\n",
    "\n",
    "| Operator | What it does      | Examples    |\n",
    "|----------|-------------------|-------------|\n",
    "| **       | Powers            | 5**2        |\n",
    "| %        | Modulo (remainder)| 19 % 5 = 4  |\n",
    "| //       | Integer division  | 5//3 = 1    |"
   ]
  },
  {
   "cell_type": "code",
   "execution_count": null,
   "metadata": {
    "id": "2TRBwH62GXQd"
   },
   "outputs": [],
   "source": [
    "print(5+2)\n",
    "print(4-1)\n",
    "print(7*8)\n",
    "print(9/4)"
   ]
  },
  {
   "cell_type": "code",
   "execution_count": null,
   "metadata": {
    "id": "kF3pqAr6GXQd"
   },
   "outputs": [],
   "source": [
    "print(5**2)\n",
    "print(19%5)\n",
    "print(6//3)"
   ]
  },
  {
   "cell_type": "markdown",
   "metadata": {
    "id": "mxvWQT_ZGXQe"
   },
   "source": [
    "A math formula like $3x + 5$ needs the times symbol, like this:\n"
   ]
  },
  {
   "cell_type": "code",
   "execution_count": null,
   "metadata": {
    "id": "lERt9RGnGXQe",
    "outputId": "1d0b7086-43b4-4162-d51a-fc8e434219e7"
   },
   "outputs": [
    {
     "name": "stdout",
     "output_type": "stream",
     "text": [
      "20\n"
     ]
    }
   ],
   "source": [
    "x = 5\n",
    "y = 3*x + 5\n",
    "print(y)"
   ]
  },
  {
   "cell_type": "markdown",
   "metadata": {
    "id": "TNlcdJQeGXQf"
   },
   "source": [
    "Order (PEMDAS) of operations matters. Use parentheses if necessary. An average calculation:"
   ]
  },
  {
   "cell_type": "code",
   "execution_count": null,
   "metadata": {
    "id": "Nd9nFoCYGXQf"
   },
   "outputs": [],
   "source": [
    "x = 6\n",
    "y = 3\n",
    "z = 9\n",
    "avg = (x + y + z) / 3\n",
    "print(avg)"
   ]
  },
  {
   "cell_type": "markdown",
   "metadata": {
    "id": "_-9Grgx-GXQf"
   },
   "source": [
    "<a id='python_modules'></a>\n",
    "### Python Modules\n",
    "\n"
   ]
  },
  {
   "cell_type": "markdown",
   "metadata": {
    "id": "w0_4X23VGXQf"
   },
   "source": [
    "#### Creating Functions in Python\n",
    "\n",
    "Functions are reusable blocks of code that perform a specific task. They help in organizing code, improving readability, and reducing repetition.\n",
    "\n",
    "### Basic Function Structure\n",
    "\n",
    "```python\n",
    "def function_name(parameters):\n",
    "    # Function body\n",
    "    # Code to be executed\n",
    "    return result  # Optional"
   ]
  },
  {
   "cell_type": "code",
   "execution_count": 6,
   "metadata": {},
   "outputs": [],
   "source": [
    "def name_input():\n",
    "    name = input(\"Enter your name: \")\n",
    "    print(f\"Hello, {name}!\")"
   ]
  },
  {
   "cell_type": "code",
   "execution_count": 7,
   "metadata": {
    "colab": {
     "base_uri": "https://localhost:8080/",
     "height": 211
    },
    "executionInfo": {
     "elapsed": 473,
     "status": "error",
     "timestamp": 1730723791336,
     "user": {
      "displayName": "Shaiful Islam Bapin",
      "userId": "17638143310912377200"
     },
     "user_tz": -360
    },
    "id": "47DYERxZKRnd",
    "outputId": "78cb03b7-c43d-4ec6-9507-76cb89cc0edd"
   },
   "outputs": [
    {
     "name": "stdout",
     "output_type": "stream",
     "text": [
      "Hello, abid!\n"
     ]
    }
   ],
   "source": [
    "\n",
    "\n",
    "name_input()\n"
   ]
  },
  {
   "cell_type": "code",
   "execution_count": 10,
   "metadata": {},
   "outputs": [],
   "source": [
    "def name_input(name = input(\"Enter your name: \")):\n",
    "    print(f\"Hello, {name}!\")"
   ]
  },
  {
   "cell_type": "code",
   "execution_count": 11,
   "metadata": {},
   "outputs": [
    {
     "name": "stdout",
     "output_type": "stream",
     "text": [
      "Hello, abid!\n"
     ]
    }
   ],
   "source": [
    "name_input()"
   ]
  },
  {
   "cell_type": "code",
   "execution_count": 5,
   "metadata": {},
   "outputs": [
    {
     "name": "stdout",
     "output_type": "stream",
     "text": [
      "Hello, Krishna!\n"
     ]
    }
   ],
   "source": [
    "def name_input(name):    \n",
    "    print(f\"Hello, {name}!\")\n",
    "    \n",
    "    \n",
    "name_input(\"Krishna\")"
   ]
  },
  {
   "cell_type": "code",
   "execution_count": 12,
   "metadata": {},
   "outputs": [
    {
     "name": "stdout",
     "output_type": "stream",
     "text": [
      "Hello, Abid!\n"
     ]
    }
   ],
   "source": [
    "def name_input(name = input(\"Enter your name: \")):\n",
    "    print(f\"Hello, {name}!\")\n",
    "name_input(\"Abid\")"
   ]
  },
  {
   "cell_type": "code",
   "execution_count": 4,
   "metadata": {},
   "outputs": [
    {
     "name": "stdout",
     "output_type": "stream",
     "text": [
      "Hello, !\n"
     ]
    }
   ],
   "source": [
    "def name_input(name):    \n",
    "    print(f\"Hello, {name}!\")\n",
    "    \n",
    "name_input(\"\")"
   ]
  },
  {
   "cell_type": "code",
   "execution_count": 13,
   "metadata": {
    "id": "QRVp84anGXQg",
    "outputId": "a0678ffc-bd21-4c65-91cc-e74c770780e4"
   },
   "outputs": [
    {
     "name": "stdout",
     "output_type": "stream",
     "text": [
      "Hello, Alice!\n"
     ]
    }
   ],
   "source": [
    "def greet(name):\n",
    "    \"\"\"This function greets the person passed in as a parameter\"\"\"\n",
    "    return f\"Hello, {name}!\"\n",
    "\n",
    "# Calling the function\n",
    "name = greet(\"Alice\")\n",
    "print(name)  # Output: Hello, Alice!"
   ]
  },
  {
   "cell_type": "code",
   "execution_count": 4,
   "metadata": {
    "colab": {
     "base_uri": "https://localhost:8080/"
    },
    "executionInfo": {
     "elapsed": 632,
     "status": "ok",
     "timestamp": 1730724568376,
     "user": {
      "displayName": "Shaiful Islam Bapin",
      "userId": "17638143310912377200"
     },
     "user_tz": -360
    },
    "id": "vOvlcHbyGXQg",
    "outputId": "2a461899-ff39-45e5-d18e-a0c346607911"
   },
   "outputs": [
    {
     "name": "stdout",
     "output_type": "stream",
     "text": [
      "The sum is: 15\n",
      "the sum is: 30\n"
     ]
    }
   ],
   "source": [
    "def add_numbers(a=20, b=10):\n",
    "    \"\"\"This function adds two numbers\"\"\"\n",
    "    return a + b\n",
    "\n",
    "result = add_numbers(10,5)\n",
    "result2=add_numbers()\n",
    "print(f\"The sum is: {result}\")\n",
    "print(f\"the sum is: {result2}\")"
   ]
  },
  {
   "cell_type": "code",
   "execution_count": 19,
   "metadata": {
    "id": "gxwBJTosGXQh"
   },
   "outputs": [
    {
     "name": "stdout",
     "output_type": "stream",
     "text": [
      "9\n",
      "9\n",
      "27\n",
      "100000\n"
     ]
    }
   ],
   "source": [
    "def power(base = 3, exponent=2):\n",
    "    \"\"\"This function calculates the power of a number\"\"\"\n",
    "    return base ** exponent\n",
    "\n",
    "print(power())\n",
    "print(power(3))      # Uses default exponent (2)\n",
    "print(power(3, 3))   # Uses provided exponent\n",
    "\n",
    "print(power(10, 5))"
   ]
  },
  {
   "cell_type": "code",
   "execution_count": 5,
   "metadata": {},
   "outputs": [
    {
     "name": "stdout",
     "output_type": "stream",
     "text": [
      "apple\n",
      "banana\n",
      "cherry\n"
     ]
    }
   ],
   "source": [
    "def my_function(food):\n",
    "  for x in food:\n",
    "    print(x)\n",
    "\n",
    "fruits = [\"apple\", \"banana\", \"cherry\"]\n",
    "\n",
    "my_function(fruits)\n"
   ]
  },
  {
   "cell_type": "code",
   "execution_count": 6,
   "metadata": {},
   "outputs": [
    {
     "name": "stdout",
     "output_type": "stream",
     "text": [
      "3\n"
     ]
    }
   ],
   "source": [
    "#Positional-Only Arguments\n",
    "def my_function(x, /):\n",
    "  print(x)\n",
    "\n",
    "my_function(3)"
   ]
  },
  {
   "cell_type": "code",
   "execution_count": 7,
   "metadata": {},
   "outputs": [
    {
     "name": "stdout",
     "output_type": "stream",
     "text": [
      "3\n"
     ]
    }
   ],
   "source": [
    "#Keyword-Only Arguments\n",
    "def my_function(*, x):\n",
    "  print(x)\n",
    "\n",
    "my_function(x = 3)"
   ]
  },
  {
   "cell_type": "code",
   "execution_count": 10,
   "metadata": {},
   "outputs": [
    {
     "name": "stdout",
     "output_type": "stream",
     "text": [
      "1\n",
      "3\n",
      "6\n",
      "10\n",
      "15\n",
      "21\n"
     ]
    },
    {
     "data": {
      "text/plain": [
       "21"
      ]
     },
     "execution_count": 10,
     "metadata": {},
     "output_type": "execute_result"
    }
   ],
   "source": [
    "#Recursion\n",
    "def tri_recursion(k):\n",
    "    if k>0:\n",
    "        result=k+tri_recursion(k-1)\n",
    "        print(result)\n",
    "    else:\n",
    "        result=0\n",
    "    return result \n",
    "tri_recursion(6)"
   ]
  },
  {
   "cell_type": "code",
   "execution_count": 12,
   "metadata": {},
   "outputs": [
    {
     "name": "stdout",
     "output_type": "stream",
     "text": [
      "your no 10\n",
      "your no 9\n",
      "your no 8\n",
      "your no 7\n",
      "your no 6\n",
      "your no 5\n",
      "your no 4\n",
      "your no 3\n",
      "your no 2\n",
      "your no 1\n"
     ]
    }
   ],
   "source": [
    "def countdown(n):\n",
    "    if n>0:\n",
    "        print(f\"your no {n}\")\n",
    "        countdown(n-1)\n",
    "countdown(10)"
   ]
  },
  {
   "cell_type": "code",
   "execution_count": 13,
   "metadata": {},
   "outputs": [
    {
     "name": "stdout",
     "output_type": "stream",
     "text": [
      "120\n"
     ]
    }
   ],
   "source": [
    "def factorial(n):\n",
    "    if n == 0 or n == 1:   # base case\n",
    "        return 1\n",
    "    else:\n",
    "        return n * factorial(n - 1)  # recursive call\n",
    "\n",
    "print(factorial(5))  # 120"
   ]
  },
  {
   "cell_type": "code",
   "execution_count": 14,
   "metadata": {},
   "outputs": [
    {
     "name": "stdout",
     "output_type": "stream",
     "text": [
      "[0, 1, 1, 2, 3, 5, 8]\n"
     ]
    }
   ],
   "source": [
    "def fibonacci(n):\n",
    "    if n == 0:\n",
    "        return 0\n",
    "    elif n == 1:\n",
    "        return 1\n",
    "    else:\n",
    "        return fibonacci(n-1) + fibonacci(n-2)\n",
    "\n",
    "print([fibonacci(i) for i in range(7)])  # [0, 1, 1, 2, 3, 5, 8]\n"
   ]
  },
  {
   "cell_type": "code",
   "execution_count": 15,
   "metadata": {},
   "outputs": [
    {
     "name": "stdout",
     "output_type": "stream",
     "text": [
      "15\n"
     ]
    }
   ],
   "source": [
    "def sum_list(lst):\n",
    "    if len(lst) == 0:      # base case\n",
    "        return 0\n",
    "    else:\n",
    "        return lst[0] + sum_list(lst[1:])  # recursive call\n",
    "\n",
    "print(sum_list([1, 2, 3, 4, 5]))  # 15\n"
   ]
  },
  {
   "cell_type": "code",
   "execution_count": 16,
   "metadata": {},
   "outputs": [
    {
     "name": "stdout",
     "output_type": "stream",
     "text": [
      "5\n",
      "4\n",
      "3\n",
      "2\n",
      "1\n",
      "Blast off!\n"
     ]
    }
   ],
   "source": [
    "def countdown(n):\n",
    "    if n == 0:   # base case\n",
    "        print(\"Blast off!\")\n",
    "    else:\n",
    "        print(n)\n",
    "        countdown(n - 1)   # recursive call\n",
    "\n",
    "countdown(5)\n"
   ]
  },
  {
   "cell_type": "markdown",
   "metadata": {
    "id": "yLiI1aorGXQh"
   },
   "source": [
    "## Python Modules\n",
    "\n",
    "Modules are files containing Python code. They can define functions, classes, and variables that you can use in other Python programs.\n",
    "\n",
    "### Importing Modules\n",
    "\n",
    "There are several ways to import modules:\n",
    "```python\n",
    "# Import the entire module\n",
    "import math\n",
    "\n",
    "# Import specific functions from a module\n",
    "from random import randint, choice\n",
    "\n",
    "# Import a module with an alias\n",
    "import numpy as np"
   ]
  },
  {
   "cell_type": "code",
   "execution_count": 17,
   "metadata": {
    "colab": {
     "base_uri": "https://localhost:8080/"
    },
    "executionInfo": {
     "elapsed": 459,
     "status": "ok",
     "timestamp": 1730725250380,
     "user": {
      "displayName": "Shaiful Islam Bapin",
      "userId": "17638143310912377200"
     },
     "user_tz": -360
    },
    "id": "AqIYOzK5QFtU",
    "outputId": "1ffcfbde-5dae-4a69-d5e1-bd73d6415ac0"
   },
   "outputs": [
    {
     "name": "stdout",
     "output_type": "stream",
     "text": [
      "The value of pi is 3.141592653589793\n",
      "The value of p is 10\n",
      "10\n"
     ]
    }
   ],
   "source": [
    "from math import pi as p\n",
    "print(f\"The value of pi is\",p)\n",
    "\n",
    "p = 10\n",
    "\n",
    "print(\"The value of p is\", p)\n",
    "\n",
    "print(p)"
   ]
  },
  {
   "cell_type": "code",
   "execution_count": 18,
   "metadata": {},
   "outputs": [
    {
     "name": "stdout",
     "output_type": "stream",
     "text": [
      "5.0\n",
      "19\n",
      "18\n",
      "3.141592653589793\n"
     ]
    }
   ],
   "source": [
    "import math\n",
    "x=math.sqrt(25)\n",
    "print(x)\n",
    "y=math.ceil(55/3)\n",
    "print(y)\n",
    "z=math.floor(55/3)\n",
    "print(z)\n",
    "u=math.pi\n",
    "print(u)\n"
   ]
  },
  {
   "cell_type": "code",
   "execution_count": 8,
   "metadata": {},
   "outputs": [
    {
     "name": "stdout",
     "output_type": "stream",
     "text": [
      "4\n"
     ]
    }
   ],
   "source": [
    "a = 10\n",
    "a = 4\n",
    "print(a)\n"
   ]
  },
  {
   "cell_type": "code",
   "execution_count": 23,
   "metadata": {
    "colab": {
     "base_uri": "https://localhost:8080/"
    },
    "executionInfo": {
     "elapsed": 477,
     "status": "ok",
     "timestamp": 1730725299865,
     "user": {
      "displayName": "Shaiful Islam Bapin",
      "userId": "17638143310912377200"
     },
     "user_tz": -360
    },
    "id": "ykq7owQsGXQh",
    "outputId": "8973e5e0-1529-42df-b3e3-a47f3d7cb708"
   },
   "outputs": [
    {
     "name": "stdout",
     "output_type": "stream",
     "text": [
      "The sine of pi is 1.2246467991473532e-16\n"
     ]
    }
   ],
   "source": [
    "from math import sin, pi\n",
    "\n",
    "print(\"The sine of pi is\", sin(pi))"
   ]
  },
  {
   "cell_type": "markdown",
   "metadata": {
    "id": "xwMG2RCNGXQi"
   },
   "source": [
    "The absolute value and round functions don’t need to be imported:"
   ]
  },
  {
   "cell_type": "code",
   "execution_count": 24,
   "metadata": {
    "id": "MVWoftgbGXQi",
    "outputId": "0eadbf45-74f2-4a2b-a112-2eeda3783182"
   },
   "outputs": [
    {
     "name": "stdout",
     "output_type": "stream",
     "text": [
      "The absolute value of -3 is 3\n",
      "4/3 rounded to two decimal places is 1.33\n"
     ]
    }
   ],
   "source": [
    "print(\"The absolute value of -3 is\", abs(-3))\n",
    "print(\"4/3 rounded to two decimal places is\", round(4/3, 2))"
   ]
  },
  {
   "cell_type": "code",
   "execution_count": 26,
   "metadata": {
    "colab": {
     "base_uri": "https://localhost:8080/"
    },
    "executionInfo": {
     "elapsed": 604,
     "status": "ok",
     "timestamp": 1730725616549,
     "user": {
      "displayName": "Shaiful Islam Bapin",
      "userId": "17638143310912377200"
     },
     "user_tz": -360
    },
    "id": "e0I_JZ2cGXQj",
    "outputId": "85513226-b8e4-41bc-b65e-5ae02ddfe72c"
   },
   "outputs": [
    {
     "name": "stdout",
     "output_type": "stream",
     "text": [
      "3\n"
     ]
    }
   ],
   "source": [
    "from random import randint\n",
    "print(randint(1, 5))\n"
   ]
  },
  {
   "cell_type": "code",
   "execution_count": 27,
   "metadata": {},
   "outputs": [
    {
     "data": {
      "text/plain": [
       "[26,\n",
       " 27,\n",
       " 23,\n",
       " 24,\n",
       " 1,\n",
       " 14,\n",
       " 7,\n",
       " 28,\n",
       " 10,\n",
       " 11,\n",
       " 3,\n",
       " 4,\n",
       " 29,\n",
       " 21,\n",
       " 5,\n",
       " 13,\n",
       " 8,\n",
       " 12,\n",
       " 9,\n",
       " 22,\n",
       " 16,\n",
       " 17,\n",
       " 6,\n",
       " 20,\n",
       " 15,\n",
       " 19,\n",
       " 25,\n",
       " 18,\n",
       " 30,\n",
       " 2]"
      ]
     },
     "execution_count": 27,
     "metadata": {},
     "output_type": "execute_result"
    }
   ],
   "source": [
    "import random\n",
    "\n",
    "students = list(range(1, 31))\n",
    "\n",
    "random.shuffle(students)\n",
    "\n",
    "students"
   ]
  },
  {
   "cell_type": "code",
   "execution_count": 1,
   "metadata": {
    "colab": {
     "base_uri": "https://localhost:8080/"
    },
    "executionInfo": {
     "elapsed": 448,
     "status": "ok",
     "timestamp": 1730726213755,
     "user": {
      "displayName": "Shaiful Islam Bapin",
      "userId": "17638143310912377200"
     },
     "user_tz": -360
    },
    "id": "hq6Oy-4qSlbr",
    "outputId": "8e155f8f-64a3-44d5-f346-e3c9a079f4b5"
   },
   "outputs": [
    {
     "name": "stdout",
     "output_type": "stream",
     "text": [
      "GroupA: [10, 19, 6, 29, 13]\n",
      "GroupB: [27, 20, 23, 4, 12]\n",
      "GroupC: [22, 16, 3, 5, 26]\n",
      "GroupD: [21, 18, 15, 7, 14]\n",
      "GroupE: [1, 17, 9, 25, 2]\n",
      "GroupF: [24, 30, 28, 11, 8]\n"
     ]
    }
   ],
   "source": [
    "# We have 30 student. Make 6 group using python random function each group have 5 people. Mention GroupA - 5 number, groupB - 5 number this way. Make the code as simple as possible. without loop if possible.\n",
    "\n",
    "import random\n",
    "\n",
    "students = list(range(1, 31))\n",
    "random.shuffle(students)\n",
    "\n",
    "group_size = 5\n",
    "num_groups = 6\n",
    "\n",
    "groupA = students[0:1*group_size]\n",
    "groupB = students[1*group_size:2*group_size]\n",
    "groupC = students[2*group_size:3*group_size]\n",
    "groupD = students[3*group_size:4*group_size]\n",
    "groupE = students[4*group_size:5*group_size]\n",
    "groupF = students[5*group_size:]\n",
    "\n",
    "print(\"GroupA:\", groupA)\n",
    "print(\"GroupB:\", groupB)\n",
    "print(\"GroupC:\", groupC)\n",
    "print(\"GroupD:\", groupD)\n",
    "print(\"GroupE:\", groupE)\n",
    "print(\"GroupF:\", groupF)"
   ]
  },
  {
   "cell_type": "markdown",
   "metadata": {
    "id": "qHCFTXx8GXQj"
   },
   "source": [
    "<a id='con_stmnt'></a>\n",
    "## Conditional Statements\n",
    "\n",
    "<!--- <img src=\"imgs/jupyter-logo.svg\" alt=\"drawing\" width=\"200\"> -->"
   ]
  },
  {
   "cell_type": "code",
   "execution_count": 3,
   "metadata": {
    "colab": {
     "base_uri": "https://localhost:8080/"
    },
    "executionInfo": {
     "elapsed": 4023,
     "status": "ok",
     "timestamp": 1730727850920,
     "user": {
      "displayName": "Shaiful Islam Bapin",
      "userId": "17638143310912377200"
     },
     "user_tz": -360
    },
    "id": "x8qk0vzwGXQj",
    "outputId": "355f680e-466c-4b73-f226-e7c2442eb430"
   },
   "outputs": [
    {
     "name": "stdout",
     "output_type": "stream",
     "text": [
      "X is 5\n"
     ]
    }
   ],
   "source": [
    "x = int(input(\"Enter a number \"))\n",
    "\n",
    "if x == 3:\n",
    "    print(\"X is 3\")\n",
    "elif(x == 5):\n",
    "  print(\"X is 5\")\n",
    "else:\n",
    "    print(\"X is nither 3 nor 5\")\n"
   ]
  },
  {
   "cell_type": "code",
   "execution_count": 7,
   "metadata": {
    "id": "kkmDMM00GXQk"
   },
   "outputs": [
    {
     "name": "stdout",
     "output_type": "stream",
     "text": [
      "X is not 5\n"
     ]
    }
   ],
   "source": [
    "x=3\n",
    "if x != 5: # if x is not 3\n",
    "    print(\"X is not 5\")"
   ]
  },
  {
   "cell_type": "code",
   "execution_count": 12,
   "metadata": {
    "id": "pOqXF7udGXQk"
   },
   "outputs": [
    {
     "name": "stdout",
     "output_type": "stream",
     "text": [
      "X is between 1 and 5\n"
     ]
    }
   ],
   "source": [
    "x=3\n",
    "if (x >= 1 and x <= 5) or x==7: # if x is between 1 and 5\n",
    "    print(\"X is between 1 and 5\")"
   ]
  },
  {
   "cell_type": "code",
   "execution_count": 13,
   "metadata": {
    "id": "QW3DZAfYGXQk"
   },
   "outputs": [],
   "source": [
    "x=10\n",
    "if x == 1 or x == 3: # if x is 1 or 2\n",
    "    print(\"X is not 1 nor 2\")"
   ]
  },
  {
   "cell_type": "code",
   "execution_count": 33,
   "metadata": {},
   "outputs": [
    {
     "name": "stdout",
     "output_type": "stream",
     "text": [
      "Write the name whome you want to visit\n",
      "you are allowed to enter\n"
     ]
    }
   ],
   "source": [
    "names = [\"tanvir\", \"shariful\", \"shaiful\"]\n",
    "\n",
    "print(\"Write the name whome you want to visit\")\n",
    "name = input().lower()\n",
    "if name==\"tanvir\" or name==\"shariful\" or name ==\"Shaiful\":\n",
    "    print(\"you are allowed to enter\")\n",
    "else:\n",
    "    print(\"you are not allowed\")"
   ]
  },
  {
   "cell_type": "code",
   "execution_count": 30,
   "metadata": {
    "id": "UhvE9-hkGXQl"
   },
   "outputs": [
    {
     "name": "stdout",
     "output_type": "stream",
     "text": [
      "Write the name whome you want to visit\n",
      "Welcome to our appartment\n"
     ]
    }
   ],
   "source": [
    "names = [\"tanvir\", \"shariful\", \"shaiful\"]\n",
    "\n",
    "print(\"Write the name whome you want to visit\")\n",
    "name = input().lower()\n",
    "if name in names:\n",
    "    print(\"Welcome to our appartment\")\n",
    "else:\n",
    "    print(\"You are not allowed to enter\")"
   ]
  },
  {
   "cell_type": "code",
   "execution_count": 15,
   "metadata": {
    "id": "tydhJjZ4GXQl"
   },
   "outputs": [
    {
     "name": "stdout",
     "output_type": "stream",
     "text": [
      "3 2\n"
     ]
    }
   ],
   "source": [
    "y = 2\n",
    "x = 3\n",
    "\n",
    "if (x == 3 or x == 5) and y == 2: # use parens in complicated statements\n",
    "    print(x, y)"
   ]
  },
  {
   "cell_type": "markdown",
   "metadata": {
    "id": "wuVvulEVGXQm"
   },
   "source": [
    "### if/else statements\n"
   ]
  },
  {
   "cell_type": "code",
   "execution_count": 33,
   "metadata": {
    "id": "6MnGx78uGXQm"
   },
   "outputs": [
    {
     "name": "stdout",
     "output_type": "stream",
     "text": [
      "You got it!\n"
     ]
    }
   ],
   "source": [
    "num = 5\n",
    "guess = int(input(\"Enter a number between 1 and 10: \"))\n",
    "\n",
    "if guess == num:\n",
    "    print(\"You got it!\")\n",
    "else:\n",
    "    print(\"You missed it.\")"
   ]
  },
  {
   "cell_type": "markdown",
   "metadata": {
    "id": "GBMNdgclGXQn"
   },
   "source": [
    "### if/elif/else statements\n",
    "* It is useful if something can be one of several possibilities"
   ]
  },
  {
   "cell_type": "code",
   "execution_count": null,
   "metadata": {
    "id": "vsW-8XBbGXQn"
   },
   "outputs": [
    {
     "name": "stdout",
     "output_type": "stream",
     "text": [
      "Invalid entry\n"
     ]
    }
   ],
   "source": [
    "entry = input(\"Do you have any discount? (yes/no):\").lower()\n",
    "\n",
    "if entry == \"yes\":\n",
    "    print(\"Your total bill is $45.00\")\n",
    "elif entry == \"no\":\n",
    "    print(\"Your total bill is $50.00\")\n",
    "else:\n",
    "    print(\"Invalid entry\")"
   ]
  },
  {
   "cell_type": "markdown",
   "metadata": {
    "id": "x_onnB3CGXQn"
   },
   "source": [
    "<a id='loops'></a>\n",
    "## Loops\n",
    "\n",
    "### For Loop"
   ]
  },
  {
   "cell_type": "markdown",
   "metadata": {
    "id": "68n5GuwyGXQn"
   },
   "source": [
    "The following line will print hello 5 times."
   ]
  },
  {
   "cell_type": "code",
   "execution_count": 38,
   "metadata": {
    "id": "cL1HByfxdwkN"
   },
   "outputs": [
    {
     "name": "stdout",
     "output_type": "stream",
     "text": [
      "5 7 9 11 13 15 17 19 21 23 25 27 29 31 33 35 37 39 41 43 45 47 49 "
     ]
    }
   ],
   "source": [
    "for i in range(5,50,2):\n",
    "    print(i,end=\" \")"
   ]
  },
  {
   "cell_type": "code",
   "execution_count": 39,
   "metadata": {},
   "outputs": [
    {
     "data": {
      "text/plain": [
       "3"
      ]
     },
     "execution_count": 39,
     "metadata": {},
     "output_type": "execute_result"
    }
   ],
   "source": [
    "len(names)"
   ]
  },
  {
   "cell_type": "code",
   "execution_count": 41,
   "metadata": {},
   "outputs": [
    {
     "name": "stdout",
     "output_type": "stream",
     "text": [
      "tanvir\n",
      "shariful\n",
      "shaiful\n"
     ]
    }
   ],
   "source": [
    "for i in names:\n",
    "    print(i)"
   ]
  },
  {
   "cell_type": "code",
   "execution_count": 43,
   "metadata": {},
   "outputs": [
    {
     "name": "stdout",
     "output_type": "stream",
     "text": [
      "0\n",
      "1\n",
      "2\n"
     ]
    }
   ],
   "source": [
    "for i in range(len(names)):\n",
    "    print(i)"
   ]
  },
  {
   "cell_type": "code",
   "execution_count": 42,
   "metadata": {
    "colab": {
     "base_uri": "https://localhost:8080/"
    },
    "executionInfo": {
     "elapsed": 524,
     "status": "ok",
     "timestamp": 1730728905628,
     "user": {
      "displayName": "Shaiful Islam Bapin",
      "userId": "17638143310912377200"
     },
     "user_tz": -360
    },
    "id": "9eyUteW7GXQw",
    "outputId": "60a16df9-b083-49d6-c81c-d6fa0ad32e7a"
   },
   "outputs": [
    {
     "name": "stdout",
     "output_type": "stream",
     "text": [
      "tanvir\n",
      "shariful\n",
      "shaiful\n"
     ]
    }
   ],
   "source": [
    "for i in range(len(names)):\n",
    "    print(names[i])"
   ]
  },
  {
   "cell_type": "code",
   "execution_count": 18,
   "metadata": {},
   "outputs": [
    {
     "name": "stdout",
     "output_type": "stream",
     "text": [
      "2\n",
      "6\n",
      " Abid RAsel \n",
      " abid Rasel\n",
      "abid Rasel \n",
      "abid Rasel\n",
      "True\n"
     ]
    }
   ],
   "source": [
    "name=\" abid Rasel \"\n",
    "print(name.count(\"a\"))\n",
    "print(name.find(\"R\"))\n",
    "print(name.replace(\"a\",\"A\"))\n",
    "print(name.rstrip())\n",
    "print(name.lstrip())\n",
    "print(name.strip())\n",
    "print(name.startswith(\" \"))"
   ]
  },
  {
   "cell_type": "code",
   "execution_count": 17,
   "metadata": {},
   "outputs": [
    {
     "name": "stdout",
     "output_type": "stream",
     "text": [
      "2\n"
     ]
    }
   ],
   "source": [
    "a = \"shaisshful\"\n",
    "print(a.count('sh'))\n"
   ]
  },
  {
   "cell_type": "code",
   "execution_count": 46,
   "metadata": {},
   "outputs": [
    {
     "name": "stdout",
     "output_type": "stream",
     "text": [
      "Vowel:  2\n",
      "Consonent:  2\n"
     ]
    }
   ],
   "source": [
    "name = input(\"Enter your name: \").lower()\n",
    "con = 0\n",
    "vow = 0\n",
    "for i in name:\n",
    "    if(i == \" \"):\n",
    "        continue\n",
    "    elif(i == 'a' or i == 'e' or i == 'i' or i == 'o' or i == 'u'):\n",
    "        vow+=1\n",
    "    else:\n",
    "        con+=1\n",
    "   \n",
    "print(\"Vowel: \", vow)\n",
    "print(\"Consonent: \", con)     \n",
    "\n",
    "    "
   ]
  },
  {
   "cell_type": "markdown",
   "metadata": {
    "id": "-RHhGal8GXQx"
   },
   "source": [
    "Indentation is used to tell what statements will be repeated.\n",
    "The statement below alternates printing A and B 5 times and then prints Bye once."
   ]
  },
  {
   "cell_type": "code",
   "execution_count": 47,
   "metadata": {
    "id": "787GThHMGXQx",
    "outputId": "f3b2f57b-9c29-4664-eb42-c5a421c0853f"
   },
   "outputs": [
    {
     "name": "stdout",
     "output_type": "stream",
     "text": [
      "A\n",
      "B\n",
      "A\n",
      "B\n",
      "A\n",
      "B\n",
      "A\n",
      "B\n",
      "A\n",
      "B\n",
      "Bye\n"
     ]
    }
   ],
   "source": [
    "for i in range(5):\n",
    "    print(\"A\")\n",
    "    print(\"B\")\n",
    "print(\"Bye\")"
   ]
  },
  {
   "cell_type": "markdown",
   "metadata": {
    "id": "li8Ks2UAGXQx"
   },
   "source": [
    "The $i$ variable in a for loop keeps track of where you are in the loop. In a simple for loop it starts off at $0$ and goes to one $less$ than whatever is in the range. The example below prints out the value of $i$ at each step and will end up printing the numbers from $0\\, to \\,9$"
   ]
  },
  {
   "cell_type": "code",
   "execution_count": 48,
   "metadata": {
    "colab": {
     "base_uri": "https://localhost:8080/"
    },
    "executionInfo": {
     "elapsed": 553,
     "status": "ok",
     "timestamp": 1730729039214,
     "user": {
      "displayName": "Shaiful Islam Bapin",
      "userId": "17638143310912377200"
     },
     "user_tz": -360
    },
    "id": "ozlpABJBGXQy",
    "outputId": "377e1ac2-b543-44a2-9666-33ce0d1fb0c7"
   },
   "outputs": [
    {
     "name": "stdout",
     "output_type": "stream",
     "text": [
      "10 9 8 7 6 5 4 3 2 "
     ]
    }
   ],
   "source": [
    "for i in range(10, 1, -1):\n",
    "    print(i, end=\" \")"
   ]
  },
  {
   "cell_type": "markdown",
   "metadata": {
    "id": "f61s8JkXGXQy"
   },
   "source": [
    "**The range statement**— Here are some example ranges:\n",
    "\n",
    "| Statement      | Values generated     |\n",
    "|----------------|----------------------|\n",
    "| range(10)      | 0,1,2,3,4,5,6,7,8,9  |\n",
    "| range(5,10)    | 5,6,7,8,9            |\n",
    "| range(1,10,2)  | 1,3,5,7,9            |\n",
    "| range(10,0,-1) | 10,9,8,7,6,5,4,3,2,1 |"
   ]
  },
  {
   "cell_type": "markdown",
   "metadata": {
    "id": "-x9_HZmUGXQy"
   },
   "source": [
    "One tricky thing is that the **endpoint of the range is never included** in the numbers generated.\n",
    "\n",
    "For instance, range(1,10) stops at 9."
   ]
  },
  {
   "cell_type": "markdown",
   "metadata": {
    "id": "IwM6u55nGXQy"
   },
   "source": [
    "### While Loops"
   ]
  },
  {
   "cell_type": "code",
   "execution_count": 50,
   "metadata": {
    "id": "6C1PKMFaGXQz"
   },
   "outputs": [
    {
     "name": "stdout",
     "output_type": "stream",
     "text": [
      "1\n",
      "2\n",
      "3\n",
      "4\n",
      "5\n",
      "6\n"
     ]
    }
   ],
   "source": [
    "i = 1\n",
    "while i <= 6:\n",
    "    print(i)\n",
    "    i += 1"
   ]
  },
  {
   "cell_type": "code",
   "execution_count": 52,
   "metadata": {
    "id": "eAc_-WRnGXQz"
   },
   "outputs": [
    {
     "name": "stdout",
     "output_type": "stream",
     "text": [
      "1\n",
      "2\n",
      "3\n",
      "4\n"
     ]
    }
   ],
   "source": [
    "i = 1\n",
    "while i != 5:\n",
    "    print(i)\n",
    "    i+=1"
   ]
  },
  {
   "cell_type": "code",
   "execution_count": 19,
   "metadata": {},
   "outputs": [
    {
     "name": "stdout",
     "output_type": "stream",
     "text": [
      "1\n",
      "2\n",
      "3\n"
     ]
    }
   ],
   "source": [
    "i = 1\n",
    "while i < 6:\n",
    "  print(i)\n",
    "  if (i == 3):\n",
    "    break\n",
    "  i += 1"
   ]
  },
  {
   "cell_type": "code",
   "execution_count": 23,
   "metadata": {},
   "outputs": [
    {
     "name": "stdout",
     "output_type": "stream",
     "text": [
      "1\n",
      "2\n",
      "4\n",
      "5\n",
      "6\n"
     ]
    }
   ],
   "source": [
    "i = 0\n",
    "while i < 6:\n",
    "  i += 1\n",
    "  if i == 3:\n",
    "    continue\n",
    "  print(i)"
   ]
  },
  {
   "cell_type": "code",
   "execution_count": 22,
   "metadata": {},
   "outputs": [
    {
     "name": "stdout",
     "output_type": "stream",
     "text": [
      "1\n",
      "2\n",
      "3\n",
      "4\n",
      "5\n",
      "i is no longer less than 6\n"
     ]
    }
   ],
   "source": [
    "i = 1\n",
    "while i < 6:\n",
    "  print(i)\n",
    "  i += 1\n",
    "else:\n",
    "  print(\"i is no longer less than 6\")"
   ]
  },
  {
   "cell_type": "markdown",
   "metadata": {
    "id": "iF36tCztGXQz"
   },
   "source": [
    "# Task 1: Number Guessing Game\n",
    "Create a simple number guessing game where the program randomly selects a number between 1 and 100. The user has to guess the number, and the program should provide hints like \"Too high!\" or \"Too low!\" until the user guesses correctly.\n",
    "\n",
    "Requirements:\n",
    "\n",
    "\n",
    "*   Use the random module to select the number\n",
    "*   Implement a loop to allow multiple guesses.\n",
    "* Track and display the number of attempts it took the user to guess the number.\n",
    "\n"
   ]
  },
  {
   "cell_type": "code",
   "execution_count": 58,
   "metadata": {
    "id": "0W1jIG6FGXQz"
   },
   "outputs": [
    {
     "name": "stdout",
     "output_type": "stream",
     "text": [
      "Your guess is low\n",
      "Your guess is low\n",
      "Your guess is low\n",
      "Your guess is low\n",
      "Your guess is low\n",
      "Your guess is low\n",
      "Your guess is High\n",
      "Your guess is High\n",
      "Your guess is High\n",
      "Your guess is High\n",
      "Your guess is low\n",
      "Your guess is High\n",
      "You guess it right with 13 time\n"
     ]
    }
   ],
   "source": [
    "# TODO\n",
    "from random import randint\n",
    "number = randint(1,101)\n",
    "cnt = 0\n",
    "while True:\n",
    "    guess = int(input(\"Please guess the number from 1-100: \"))\n",
    "    cnt += 1\n",
    "    if (guess == number):\n",
    "        print(f\"You guess it right with {cnt} time\")\n",
    "        break\n",
    "    elif(guess < number):\n",
    "        print(\"Your guess is low\")\n",
    "    else:\n",
    "        print(\"Your guess is High\")\n"
   ]
  },
  {
   "cell_type": "markdown",
   "metadata": {
    "id": "uUPULCJhGXQz"
   },
   "source": [
    "# Task 2: Rock, Paper, Scissors Game\n",
    "Develop a command-line version of Rock, Paper, Scissors. The user plays against the computer, which randomly selects its choice.\n",
    "\n",
    "Requirements:\n",
    "\n",
    "* Use the random module to let the computer make its choice.\n",
    "* Implement a loop that allows the user to play multiple rounds.\n",
    "* Keep track of scores and display the winner after each round."
   ]
  },
  {
   "cell_type": "code",
   "execution_count": 3,
   "metadata": {
    "id": "oAYYWRIVWt1s"
   },
   "outputs": [
    {
     "name": "stdout",
     "output_type": "stream",
     "text": [
      "Welcome to Rock, Paper, Scissor\n",
      "Type quit to exit the game\n",
      "Round 1\n",
      "your choice: rock\n",
      "Computer choose rock\n",
      "It's a draw\n",
      "Round 2\n",
      "your choice: paper\n",
      "Computer choose rock\n",
      "you win\n",
      "Round 3\n",
      "your choice: scissor\n",
      "Computer choose paper\n",
      "you win\n",
      "Round 4\n",
      "your choice: paper\n",
      "Computer choose scissor\n",
      "computer wins!\n",
      "Round 5\n",
      "your choice: rock\n",
      "Computer choose scissor\n",
      "you win\n",
      "you win the game\n",
      "The final result after 10 rounds: \n",
      "you 3 | Computer 1\n"
     ]
    }
   ],
   "source": [
    "\n",
    "import random\n",
    "choices = ['rock', 'paper', 'scissor']\n",
    "user_score = 0\n",
    "computer_score = 0\n",
    "print(\"Welcome to Rock, Paper, Scissor\")\n",
    "print(\"Type quit to exit the game\")\n",
    "rounds=int(input(\"Enter the number of rounds: \"))\n",
    "for round_num in range(1,rounds+1):\n",
    "    print(f\"Round {round_num}\")\n",
    "    user_choice = input(\"Enter your choice (rock/paper/scissor): \").lower()\n",
    "    print(f\"your choice: {user_choice}\")\n",
    "    if user_choice ==\"quit\":\n",
    "        break\n",
    "    if user_choice not in choices:\n",
    "        print(\"Invalid choices, please choose Rock,paper,scissor\")\n",
    "        continue\n",
    "    Computer_choices = random.choice(choices)\n",
    "    print(f\"Computer choose {Computer_choices}\")   \n",
    "    if user_choice==Computer_choices:\n",
    "        print(\"It's a draw\")\n",
    "    elif(\n",
    "        (user_choice==\"rock\" and Computer_choices==\"scissor\") or\n",
    "        (user_choice==\"paper\" and Computer_choices==\"rock\" ) or\n",
    "        (user_choice==\"scissor\" and Computer_choices==\"paper\")):\n",
    "            print(\"you win\")\n",
    "            user_score+=1\n",
    "        \n",
    "    else:\n",
    "        print(\"computer wins!\")\n",
    "        computer_score+=1\n",
    "        \n",
    "if user_score>computer_score:\n",
    "    print(\"you win the game\")\n",
    "elif computer_score>user_score:\n",
    "    print(\"Computer win the game\")\n",
    "else:\n",
    "    print(\"It's a draw\")\n",
    "print(\"The final result after 10 rounds: \")\n",
    "print(f\"you {user_score} | Computer {computer_score}\")\n",
    "        "
   ]
  },
  {
   "cell_type": "code",
   "execution_count": null,
   "metadata": {},
   "outputs": [
    {
     "name": "stdout",
     "output_type": "stream",
     "text": [
      "Welcome to Rock, Paper, Scissor\n",
      "Type quit to exit the game\n",
      "Round no 1\n",
      "your choice: rock\n",
      "Computer choose scissor\n",
      "you win\n",
      "Round no 2\n",
      "your choice: paper\n",
      "Computer choose scissor\n",
      "computer wins!\n",
      "Round no 3\n",
      "your choice: scissor\n",
      "Computer choose rock\n",
      "computer wins!\n",
      "Round no 4\n",
      "your choice: rock\n",
      "Computer choose paper\n",
      "computer wins!\n",
      "Round no 5\n",
      "your choice: paper\n",
      "Computer choose rock\n",
      "you win\n",
      "Round no 6\n",
      "your choice: quit\n",
      "Computer win the game\n",
      "The final result after 10 rounds: \n",
      "you 2 | Computer 3\n"
     ]
    }
   ],
   "source": [
    "\n",
    "import random\n",
    "choices = ['rock', 'paper', 'scissor'] \n",
    "user_score = 0\n",
    "computer_score = 0\n",
    "rounds=0\n",
    "print(\"Welcome to Rock, Paper, Scissor\")\n",
    "print(\"Type quit to exit the game\")\n",
    "while True:\n",
    "    user_choice = input(\"Enter your choice (rock/paper/scissor): \").lower()\n",
    "    rounds+=1\n",
    "    print(f\"Round no {rounds}\")\n",
    "    print(f\"your choice: {user_choice}\")\n",
    "    if user_choice ==\"quit\":\n",
    "        break\n",
    "    if user_choice not in choices:\n",
    "        print(\"Invalid choices, please choose Rock,paper,scissor\")\n",
    "        continue\n",
    "    Computer_choices = random.choice(choices)\n",
    "    print(f\"Computer choose {Computer_choices}\")   \n",
    "    if user_choice==Computer_choices:\n",
    "        print(\"It's a draw\")\n",
    "    elif(\n",
    "        (user_choice==\"rock\" and Computer_choices==\"scissor\") or\n",
    "        (user_choice==\"paper\" and Computer_choices==\"rock\" ) or\n",
    "        (user_choice==\"scissor\" and Computer_choices==\"paper\")):\n",
    "            print(\"you win\")\n",
    "            user_score+=1\n",
    "        \n",
    "    else:\n",
    "        print(\"computer wins!\")\n",
    "        computer_score+=1\n",
    "        \n",
    "if user_score>computer_score:\n",
    "    print(\"you win the game\")\n",
    "elif computer_score>user_score:\n",
    "    print(\"Computer win the game\")\n",
    "else:\n",
    "    print(\"It's a draw\")\n",
    "print(\"The final result after 10 rounds: \")\n",
    "print(f\"you {user_score} | Computer {computer_score}\")\n",
    "        "
   ]
  }
 ],
 "metadata": {
  "colab": {
   "provenance": []
  },
  "kernelspec": {
   "display_name": ".venv (3.12.8)",
   "language": "python",
   "name": "python3"
  },
  "language_info": {
   "codemirror_mode": {
    "name": "ipython",
    "version": 3
   },
   "file_extension": ".py",
   "mimetype": "text/x-python",
   "name": "python",
   "nbconvert_exporter": "python",
   "pygments_lexer": "ipython3",
   "version": "3.12.8"
  }
 },
 "nbformat": 4,
 "nbformat_minor": 0
}
